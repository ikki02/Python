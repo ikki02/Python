{
 "cells": [
  {
   "cell_type": "code",
   "execution_count": 1,
   "metadata": {},
   "outputs": [
    {
     "name": "stdout",
     "output_type": "stream",
     "text": [
      "<class '__main__.Thing'>\n",
      "<__main__.Thing object at 0x000001CEC37379E8>\n"
     ]
    }
   ],
   "source": [
    "# 6-1 クラスを作成し、そのオブジェクトを作成する。\n",
    "class Thing():\n",
    "    pass\n",
    "\n",
    "print(Thing)\n",
    "example = Thing()\n",
    "print(example)"
   ]
  },
  {
   "cell_type": "code",
   "execution_count": 2,
   "metadata": {},
   "outputs": [
    {
     "name": "stdout",
     "output_type": "stream",
     "text": [
      "abc\n"
     ]
    }
   ],
   "source": [
    "# 6-2 クラスに属性を与える。\n",
    "class Thing2():\n",
    "    letters = 'abc' # これでThing2クラスの属性lettersを定義できる。\n",
    "\n",
    "print(Thing2.letters)"
   ]
  },
  {
   "cell_type": "code",
   "execution_count": 5,
   "metadata": {},
   "outputs": [
    {
     "ename": "SyntaxError",
     "evalue": "invalid character in identifier (<ipython-input-5-dc4da7a1de45>, line 5)",
     "output_type": "error",
     "traceback": [
      "\u001b[1;36m  File \u001b[1;32m\"<ipython-input-5-dc4da7a1de45>\"\u001b[1;36m, line \u001b[1;32m5\u001b[0m\n\u001b[1;33m    self.letters = 'xyz'　# インスタンス属性であるletters変数に'xyz'の値を代入。ただし、Thing3のクラスには属していない。\u001b[0m\n\u001b[1;37m                        ^\u001b[0m\n\u001b[1;31mSyntaxError\u001b[0m\u001b[1;31m:\u001b[0m invalid character in identifier\n"
     ]
    }
   ],
   "source": [
    "# 6-3 クラス定義時のインスタンス（オブジェクト）属性は、オブジェクトを作らなければ確認できない。\n",
    "\n",
    "class Thing3():\n",
    "    def __init__(self):\n",
    "        self.letters = 'xyz'　# インスタンス属性であるletters変数に'xyz'の値を代入。ただし、Thing3のクラスには属していない。\n",
    "    \n",
    "sth = Thing3()　\n",
    "print(sth.letters)　# letters変数はThing3クラスのすべてのオブジェクトに所属しているが、Thing3自体には属していないことに注意。"
   ]
  },
  {
   "cell_type": "code",
   "execution_count": 6,
   "metadata": {},
   "outputs": [
    {
     "name": "stdout",
     "output_type": "stream",
     "text": [
      "Hydrogen\n",
      "H\n",
      "1\n"
     ]
    }
   ],
   "source": [
    "# 6-4 様々な属性を持つクラスを作る。\n",
    "\n",
    "class Element():\n",
    "    def __init__(self, name, symbol, number):\n",
    "        self.name = name\n",
    "        self.symbol = symbol\n",
    "        self.number = number\n",
    "\n",
    "hydrogen = Element('Hydrogen', 'H', 1)\n",
    "\n",
    "print(hydrogen.name)\n",
    "print(hydrogen.symbol)\n",
    "print(hydrogen.number)"
   ]
  },
  {
   "cell_type": "code",
   "execution_count": 37,
   "metadata": {},
   "outputs": [
    {
     "name": "stdout",
     "output_type": "stream",
     "text": [
      "Hydrogen\n",
      "H\n",
      "1\n"
     ]
    }
   ],
   "source": [
    "# 6-5 辞書からクラスを作る。\n",
    "\n",
    "H = {'name': 'Hydrogen', 'symbol':'H', 'number':1}\n",
    "\n",
    "hydrogen = Element(H['name'], H['symbol'], H['number']) #別の便利な書き方として、hydrogen = Element(**H)も知っておこう。\n",
    "print(hydrogen.name)\n",
    "print(hydrogen.symbol)\n",
    "print(hydrogen.number)"
   ]
  },
  {
   "cell_type": "code",
   "execution_count": 38,
   "metadata": {},
   "outputs": [
    {
     "name": "stdout",
     "output_type": "stream",
     "text": [
      "Hydrogen H 1\n"
     ]
    }
   ],
   "source": [
    "# 6-6 クラス固有のメソッドを定義する。\n",
    "\n",
    "class Element():\n",
    "    def __init__(self, name, symbol, number):\n",
    "        self.name = name\n",
    "        self.symbol = symbol\n",
    "        self.number = number\n",
    "    def dump(self):\n",
    "        print(self.name, self.symbol, self.number)\n",
    "\n",
    "hydrogen = Element('Hydrogen', 'H', 1)\n",
    "hydrogen.dump()\n",
    "        "
   ]
  },
  {
   "cell_type": "code",
   "execution_count": 42,
   "metadata": {},
   "outputs": [
    {
     "name": "stdout",
     "output_type": "stream",
     "text": [
      "name = Hydrogen, symbol = H, number = 1\n"
     ]
    }
   ],
   "source": [
    "# 6-7 特殊メソッド（非常に便利なので、覚えておくとよいだろう）\n",
    "\n",
    "class Element():\n",
    "    def __init__(self, name, symbol, number):\n",
    "        self.name = name\n",
    "        self.symbol = symbol\n",
    "        self.number = number\n",
    "    def __str__(self):\n",
    "        return ('name = %s, symbol = %s, number = %s' % (self.name, self.symbol, self.number))\n",
    "\n",
    "hydrogen = Element(**H)        \n",
    "print(hydrogen)\n",
    "\n"
   ]
  },
  {
   "cell_type": "code",
   "execution_count": 47,
   "metadata": {},
   "outputs": [
    {
     "name": "stdout",
     "output_type": "stream",
     "text": [
      "Hydrogen\n",
      "H\n",
      "1\n",
      "<__main__.Element object at 0x000001CEC3803DD8>\n"
     ]
    }
   ],
   "source": [
    "# 6-8 属性を非公開にする。また、非公開の属性を取得するゲッターを扱う。\n",
    "\n",
    "class Element():\n",
    "    def __init__(self, name, symbol, number):\n",
    "        self.__name = name #属性入力前に__を付けることで非公開にできる。\n",
    "        self.__symbol = symbol\n",
    "        self.__number = number\n",
    "    @property # @propertyを関数定義前につけることでゲッターにできる。 なお、セッターは@name.setter\n",
    "    def name(self):\n",
    "        return self.__name\n",
    "    @property\n",
    "    def symbol(self):\n",
    "        return self.__symbol\n",
    "    @property\n",
    "    def number(self):\n",
    "        return self.__number\n",
    "\n",
    "hydrogen = Element(**H)\n",
    "print(hydrogen.name)\n",
    "print(hydrogen.symbol)\n",
    "print(hydrogen.number)"
   ]
  },
  {
   "cell_type": "code",
   "execution_count": 4,
   "metadata": {},
   "outputs": [
    {
     "name": "stdout",
     "output_type": "stream",
     "text": [
      "berries\n",
      "clover\n",
      "campers\n"
     ]
    }
   ],
   "source": [
    "# 6-9 複数クラスを定義する。\n",
    "\n",
    "class Bear:\n",
    "    def eats(self):\n",
    "        return 'berries'\n",
    "\n",
    "class Rabbit:\n",
    "    def eats(self):\n",
    "        return 'clover'\n",
    "\n",
    "class Octothorpe:\n",
    "    def eats(self):\n",
    "        return 'campers'\n",
    "\n",
    "black = Bear()\n",
    "white = Rabbit()\n",
    "symbol = Octothorpe()\n",
    "\n",
    "print(black.eats())\n",
    "print(white.eats())\n",
    "print(symbol.eats())"
   ]
  },
  {
   "cell_type": "code",
   "execution_count": 15,
   "metadata": {},
   "outputs": [
    {
     "name": "stdout",
     "output_type": "stream",
     "text": [
      "I can do with my ... laser:disintegrate, claw:crush, smartphone:ring\n"
     ]
    }
   ],
   "source": [
    "# 6-10 コンポジション：「持っている」の関係（対になる関係は「である」。継承で表現すべし。）\n",
    "\n",
    "class Laser:\n",
    "    def does(self):\n",
    "        return 'disintegrate'\n",
    "\n",
    "class Claw:\n",
    "    def does(self):\n",
    "        return 'crush'\n",
    "\n",
    "class SmartPhone:\n",
    "    def does(self):\n",
    "        return 'ring'\n",
    "\n",
    "class Robot:\n",
    "    def __init__(self):\n",
    "        self.laser = Laser()\n",
    "        self.claw = Claw()\n",
    "        self.smartphone = SmartPhone()\n",
    "    def does(self):\n",
    "        return ('I can do with my ... laser:%s, claw:%s, smartphone:%s' % (self.laser.does(), self.claw.does(), self.smartphone.does()))\n",
    "\n",
    "kibiro = Robot()\n",
    "print(kibiro.does())"
   ]
  },
  {
   "cell_type": "code",
   "execution_count": 16,
   "metadata": {},
   "outputs": [
    {
     "name": "stdout",
     "output_type": "stream",
     "text": [
      "I can do with my ... laser:disintegrate, claw:crush, smartphone:ring\n"
     ]
    }
   ],
   "source": [
    "# (別解)\n",
    "# 6-10 コンポジション：「持っている」の関係（対になる関係は「である」。継承で表現すべし。）\n",
    "\n",
    "class Laser:\n",
    "    def does(self):\n",
    "        return 'disintegrate'\n",
    "\n",
    "class Claw:\n",
    "    def does(self):\n",
    "        return 'crush'\n",
    "\n",
    "class SmartPhone:\n",
    "    def does(self):\n",
    "        return 'ring'\n",
    "\n",
    "class Robot:\n",
    "    def __init__(self, laser, claw, smartphone):\n",
    "        self.laser = laser\n",
    "        self.claw = claw\n",
    "        self.smartphone = smartphone\n",
    "    def does(self):\n",
    "        return ('I can do with my ... laser:%s, claw:%s, smartphone:%s' % (self.laser.does(), self.claw.does(), self.smartphone.does()))\n",
    "\n",
    "laser = Laser()\n",
    "claw = Claw()\n",
    "smartphone = SmartPhone()\n",
    "kibiro = Robot(laser, claw, smartphone)\n",
    "print(kibiro.does())"
   ]
  }
 ],
 "metadata": {
  "kernelspec": {
   "display_name": "Python 3",
   "language": "python",
   "name": "python3"
  },
  "language_info": {
   "codemirror_mode": {
    "name": "ipython",
    "version": 3
   },
   "file_extension": ".py",
   "mimetype": "text/x-python",
   "name": "python",
   "nbconvert_exporter": "python",
   "pygments_lexer": "ipython3",
   "version": "3.6.1"
  }
 },
 "nbformat": 4,
 "nbformat_minor": 2
}
