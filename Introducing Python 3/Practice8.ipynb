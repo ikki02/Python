{
 "cells": [
  {
   "cell_type": "markdown",
   "metadata": {},
   "source": [
    "### ファイル操作\n",
    "ファイル操作において、以下のポイントを押さえる事。\n",
    "- ファイルポインタ\n",
    "- ファイルはopen()で開き、close()で閉じる。明記するのが面倒な場合は、with openで処理後自動的にファイルを閉じてくれる。\n",
    "- open()とread()の書き方\n",
    "\n",
    "例えば、オブジェクトはファイルポインタを指定し、引数は書込む内容（読込む量）を指定する。"
   ]
  },
  {
   "cell_type": "code",
   "execution_count": 40,
   "metadata": {},
   "outputs": [],
   "source": [
    "# 8-1 テキストファイルの作成\n",
    "\n",
    "test1 = '''This is a test of the emergency text system'''\n",
    "\n",
    "# test.txtファイルはこのプログラムを実行するディレクトリ直下に作成される。（例：D:\\1.programming\\python\\Introducing Pythonn 3)\n",
    "with open('test.txt', 'wt') as outfile:\n",
    "    outfile.write(test1)"
   ]
  },
  {
   "cell_type": "code",
   "execution_count": 22,
   "metadata": {},
   "outputs": [],
   "source": [
    "# 8-1 （別解）テキストファイルの作成\n",
    "\n",
    "test1 = '''This is a test of the emergency text system'''\n",
    "\n",
    "# test.txtファイルはこのプログラムを実行するディレクトリ直下に作成される。（例：D:\\1.programming\\python\\Introducing Pythonn 3)\n",
    "# ファイルのopenとcloseを明示する書き方。\n",
    "outfile = open('test.txt', 'wt')\n",
    "outfile.write(test1)\n",
    "outfile.close()"
   ]
  },
  {
   "cell_type": "code",
   "execution_count": 27,
   "metadata": {},
   "outputs": [
    {
     "data": {
      "text/plain": [
       "True"
      ]
     },
     "execution_count": 27,
     "metadata": {},
     "output_type": "execute_result"
    }
   ],
   "source": [
    "#8-2 ファイルの読み出し #read()は引数に数値を入力することで読み出す文字量を指定できる。\n",
    "\n",
    "with open('test.txt', 'rt') as infile:\n",
    "    test2 = infile.read()\n",
    "    \n",
    "len(test2)\n",
    "\n",
    "test1 == test2"
   ]
  },
  {
   "cell_type": "markdown",
   "metadata": {},
   "source": [
    "### CSVモジュール\n",
    "csv操作において、以下のポイントを押さえる事。\n",
    "1. writer()/reader()関数の書き方は、ファイル操作におけるopen()/read()とは書き方が異なることに注意。\n",
    "1. ①で一度書出した（読み出した）csvのファイル操作（例:writerows()やwriteheader()など)は、ファイル操作におけるopen()/read()と同じ書き方。\n",
    "2. リストのリストだけでなく、辞書からもcsvのデータを操作できる。\n",
    "\n",
    "①について、csvモジュールのwriter()/reader()の書き方は、オブジェクトはcsvモジュールを指定し、引数はファイルポインタを指定する。\n",
    "\n",
    "②について、writerows()などのcsvファイル操作を行う際は、オブジェクトはcsvファイルポインタを指定し、引数は書込む内容（読込む量）を指定する。"
   ]
  },
  {
   "cell_type": "code",
   "execution_count": 32,
   "metadata": {},
   "outputs": [],
   "source": [
    "# 8-3 csvファイルの作成 #作成だけならcsvモジュールのインポートは不要。カンマをフィールドに含む際は、クォートで囲うこと。\n",
    "\n",
    "text = '''auther,book\n",
    "J R R Tolkien,The Hobbit\n",
    "Lynne Truss,\"Eats, Shoots & Leaves\"\n",
    "'''\n",
    "\n",
    "with open('books.csv', 'wt') as outcsv:\n",
    "    outcsv.write(text)\n"
   ]
  },
  {
   "cell_type": "code",
   "execution_count": 34,
   "metadata": {},
   "outputs": [
    {
     "name": "stdout",
     "output_type": "stream",
     "text": [
      "OrderedDict([('auther', 'J R R Tolkien'), (' book', ' The Hobbit')])\n",
      "OrderedDict([('auther', 'Lynne Truss'), (' book', 'Eats, Shoots & Leaves')])\n"
     ]
    }
   ],
   "source": [
    "# 8-4 csvファイルの内容表示。\n",
    "\n",
    "import csv\n",
    "with open('books.csv', 'rt') as incsv:\n",
    "    books = csv.DictReader(incsv)\n",
    "    for book in books:\n",
    "        print(book)"
   ]
  },
  {
   "cell_type": "code",
   "execution_count": 37,
   "metadata": {},
   "outputs": [],
   "source": [
    "# 8-5 CSVファイルの作成\n",
    "\n",
    "text = '''title,author,year\n",
    "The Weirdstone of Brisingamen,Alan Garner,1960\n",
    "Perdido Street Station,China Mieville,2000\n",
    "Thud!,Terry Pratchett,2005\n",
    "The Spellman Files,Lisa Lutz,2007\n",
    "Small Gods,Terry Pratchett,1992\n",
    "'''\n",
    "\n",
    "with open('books2.csv', 'wt') as outcsv:\n",
    "    outcsv.write(text)\n",
    "\n"
   ]
  },
  {
   "cell_type": "code",
   "execution_count": null,
   "metadata": {
    "collapsed": true
   },
   "outputs": [],
   "source": [
    "# (参考)csvにしたいデータ元をリストのリストで用意し、csvに書出す。\n",
    "\n",
    "import csv\n",
    "\n",
    "villains = [\n",
    "    ['Docter','No'],\n",
    "    ['Rosa','Klebb'],\n",
    "    ['Mister','Big'],\n",
    "    ['Auric','Goldfinger'],\n",
    "    ['Ernst','Blogeld']\n",
    "]\n",
    "# 下記、変数'villains'を'villains.csv'にすると、csvファイルを生成できる。今回はただのファイルとして出力する。ただし、ポイントとして、そもそもcsvファイルを作成するだけなら、csvモジュールを使う必要はない。\n",
    "with open('villains', 'wt') as fout:\n",
    "    # writer()は、foutというファイルポインタを、csvのファイルポインタにするイメージ？\n",
    "    csvout = csv.writer(fout)\n",
    "    # csvのファイルポインタであるcsvoutに、writerows()でリストの1行毎を抽出した値を代入する。\n",
    "    csvout.writerows(villains)\n"
   ]
  },
  {
   "cell_type": "code",
   "execution_count": null,
   "metadata": {
    "collapsed": true
   },
   "outputs": [],
   "source": [
    "# （参考)csvのデータを読み出して、変数に格納する。\n",
    "\n",
    "import csv\n",
    "\n",
    "with open('villains', 'rt') as fin:\n",
    "    # readerr()は、finというファイルポインタを、csvのファイルポインタにするイメージ？\n",
    "    cin = csv.reader(fin)\n",
    "    # csvのファイルポインタであるcinから、ファイルの1行毎を抽出する。\n",
    "    villains2 = [row for row in cin]\n",
    "\n",
    "villains == villains2"
   ]
  },
  {
   "cell_type": "code",
   "execution_count": null,
   "metadata": {
    "collapsed": true
   },
   "outputs": [],
   "source": [
    "# (参考)csvのデータ元を辞書化する。\n",
    "\n",
    "import csv\n",
    "\n",
    "with open('villains', 'rt') as fin2:\n",
    "    cin2 = csv.DictReader(fin2, fieldnames = ['first', 'last'])\n",
    "    villains3 = [row for row in cin2]\n",
    "    \n",
    "print(villains3)"
   ]
  },
  {
   "cell_type": "code",
   "execution_count": null,
   "metadata": {
    "collapsed": true
   },
   "outputs": [],
   "source": [
    "# (参考)辞書型のデータを使って、csvを作成する。\n",
    "\n",
    "import csv\n",
    "\n",
    "with open('villains3', 'wt') as fout:\n",
    "    cout = csv.DictWriter(fout, ['first', 'last'])\n",
    "    # DictWriter()の第二引数の値をヘッダーとして登録する場合は、writeheader()メソッドを用いる。\n",
    "    cout.writeheader()\n",
    "    cout.writerows(villains3)"
   ]
  }
 ],
 "metadata": {
  "kernelspec": {
   "display_name": "Python 3",
   "language": "python",
   "name": "python3"
  },
  "language_info": {
   "codemirror_mode": {
    "name": "ipython",
    "version": 3
   },
   "file_extension": ".py",
   "mimetype": "text/x-python",
   "name": "python",
   "nbconvert_exporter": "python",
   "pygments_lexer": "ipython3",
   "version": "3.6.1"
  }
 },
 "nbformat": 4,
 "nbformat_minor": 2
}
