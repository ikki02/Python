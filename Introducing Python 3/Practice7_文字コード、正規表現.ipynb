{
 "cells": [
  {
   "cell_type": "markdown",
   "metadata": {},
   "source": [
    "### 正規表現\n",
    "文字列を検索対象に、正規表現パターンで検索する。\n",
    "\n",
    "|関数|コード|\n",
    "|:-:|:-:|\n",
    "|先頭がマッチするかどうか|re.match(パターン, 検索対象)|\n",
    "|検索する|re.search(パターン, 検索対象)|\n",
    "|マッチする部分全て返す|re.findall(パターン, 検索対象)|\n",
    "|置換|re.sub('　', '', string)|\n",
    "|分割。リストで返す。|re.split(' ', string)|\n",
    "|パターンのコンパイル|p = re.compile('one')|\n",
    "\n",
    "- 参考URL：[https://note.nkmk.me/python-re-match-search-findall-etc/]"
   ]
  },
  {
   "cell_type": "markdown",
   "metadata": {},
   "source": [
    "### クイズ"
   ]
  },
  {
   "cell_type": "code",
   "execution_count": 2,
   "metadata": {},
   "outputs": [
    {
     "data": {
      "text/plain": [
       "'PILE OF POO'"
      ]
     },
     "execution_count": 2,
     "metadata": {},
     "output_type": "execute_result"
    }
   ],
   "source": [
    "# 7-1 Unicode文字列の表示/名称の参照\n",
    "\n",
    "import unicodedata\n",
    "mystery = '\\U0001f4a9'\n",
    "mystery\n",
    "\n",
    "unicodedata.name(mystery)"
   ]
  },
  {
   "cell_type": "code",
   "execution_count": 3,
   "metadata": {},
   "outputs": [
    {
     "data": {
      "text/plain": [
       "b'\\xf0\\x9f\\x92\\xa9'"
      ]
     },
     "execution_count": 3,
     "metadata": {},
     "output_type": "execute_result"
    }
   ],
   "source": [
    "# 7-2 Unicode文字列をUTF-8にエンコードする。\n",
    "\n",
    "pop_bytes = mystery.encode('utf-8')\n",
    "pop_bytes\n",
    "\n"
   ]
  },
  {
   "cell_type": "code",
   "execution_count": 6,
   "metadata": {},
   "outputs": [
    {
     "data": {
      "text/plain": [
       "True"
      ]
     },
     "execution_count": 6,
     "metadata": {},
     "output_type": "execute_result"
    }
   ],
   "source": [
    "# 7-3 デコード\n",
    "\n",
    "pop_string = pop_bytes.decode('utf-8')\n",
    "pop_string\n",
    "\n",
    "pop_string == mystery"
   ]
  },
  {
   "cell_type": "code",
   "execution_count": 15,
   "metadata": {},
   "outputs": [
    {
     "name": "stdout",
     "output_type": "stream",
     "text": [
      "\n",
      "My kitty cat likes roast beef, \n",
      "My kitty cat likes ham,\n",
      "My kitty cat fell on his head,\n",
      "And now thinks he's a calm.\n",
      "\n"
     ]
    }
   ],
   "source": [
    "# 7-4 古い書式指定 \n",
    "\n",
    "poem = '''\n",
    "My kitty cat likes %s, \n",
    "My kitty cat likes %s,\n",
    "My kitty cat fell on his %s,\n",
    "And now thinks he's a %s.\n",
    "'''\n",
    "\n",
    "args = ('roast beef', 'ham', 'head', 'calm') # %表記する際は、挿入する文字列をタプルでまとめなければならない。\n",
    "print(poem % args)\n",
    "\n"
   ]
  },
  {
   "cell_type": "code",
   "execution_count": 17,
   "metadata": {},
   "outputs": [
    {
     "name": "stdout",
     "output_type": "stream",
     "text": [
      "\n",
      "My kitty cat likes roast beef, \n",
      "My kitty cat likes ham,\n",
      "My kitty cat fell on his head,\n",
      "And now thinks he's a calm.\n",
      "\n"
     ]
    }
   ],
   "source": [
    "# (別解)\n",
    "# 7-4 古い書式指定 \n",
    "\n",
    "poem = '''\n",
    "My kitty cat likes %s, \n",
    "My kitty cat likes %s,\n",
    "My kitty cat fell on his %s,\n",
    "And now thinks he's a %s.\n",
    "''' %  ('roast beef', 'ham', 'head', 'calm') # %表記する際は、挿入する文字列をタプルでまとめなければならない。\n",
    "\n",
    "print(poem)\n",
    "\n",
    "\n"
   ]
  },
  {
   "cell_type": "code",
   "execution_count": 27,
   "metadata": {
    "collapsed": true
   },
   "outputs": [],
   "source": [
    "# 7-5 新しい書式指定の準備　'{}{}{}'.format(n, f, s)\n",
    "\n",
    "letter = '''\n",
    "Dear {salutation} {name},\n",
    "\n",
    "Thank you for your letter. We are sorry that our {product} {verbed} in your\n",
    "{room}. Please note that it should never be used in a {room}, especially\n",
    "near my {animals}.\n",
    "\n",
    "Send us your receipt and {amount} for shipping and handling. We will send \n",
    "you another {product} that, in our tests, is {percent}% less likely to \n",
    "have {verbed}.\n",
    "\n",
    "Thank you for your support.\n",
    "\n",
    "Sincerly,\n",
    "{spokesman}\n",
    "{job_title}\n",
    "'''\n"
   ]
  },
  {
   "cell_type": "code",
   "execution_count": 29,
   "metadata": {},
   "outputs": [
    {
     "name": "stdout",
     "output_type": "stream",
     "text": [
      "\n",
      "Dear Colonel Hackenbush,\n",
      "\n",
      "Thank you for your letter. We are sorry that our KIBIT imploded in your\n",
      "conservatory. Please note that it should never be used in a conservatory, especially\n",
      "near my emus.\n",
      "\n",
      "Send us your receipt and $1.38 for shipping and handling. We will send \n",
      "you another KIBIT that, in our tests, is 1% less likely to \n",
      "have imploded.\n",
      "\n",
      "Thank you for your support.\n",
      "\n",
      "Sincerly,\n",
      "Ikki Ikazaki\n",
      "Analyst\n",
      "\n"
     ]
    }
   ],
   "source": [
    "# 7-6 新しい書式指定　'{}{}{}'.format(n, f, s)\n",
    "\n",
    "response = {\n",
    "    'salutation': 'Colonel',\n",
    "    'name': 'Hackenbush', \n",
    "    'product': 'KIBIT',\n",
    "    'verbed': 'imploded',\n",
    "    'room': 'conservatory',\n",
    "    'animals': 'emus',\n",
    "    'amount': '$1.38',\n",
    "    'percent': '1',\n",
    "    'spokesman': 'Ikki Ikazaki',\n",
    "    'job_title': 'Analyst'\n",
    "    }\n",
    "\n",
    "print(letter.format(**response))"
   ]
  },
  {
   "cell_type": "code",
   "execution_count": 1,
   "metadata": {
    "collapsed": true
   },
   "outputs": [],
   "source": [
    "# 7-7 正規表現の準備\n",
    "\n",
    "mammoth = '''\n",
    "    We have seen the Queen of cheese, \n",
    "    Laying quietly at your ease, \n",
    "    Gently fanned by evening breeze -- \n",
    "    Thy fair form no flies dare seize. \n",
    "\n",
    "    All gaily dressed soon you'll go \n",
    "    To the great Provincial Show, \n",
    "    To be admired by many a beau \n",
    "    In the city of Toronto. \n",
    "\n",
    "    Cows numerous as a swarm of bees -- \n",
    "    Or as the leaves upon the trees -- \n",
    "    It did require to make thee please, \n",
    "    And stand unrivalled Queen of Cheese. \n",
    "\n",
    "    May you not receive a scar as \n",
    "    We have heard that Mr. Harris \n",
    "    Intends to send you off as far as \n",
    "    The great World's show at Paris. \n",
    "\n",
    "    Of the youth -- beware of these -- \n",
    "    For some of them might rudely squeeze \n",
    "    And bite your cheek; then songs or glees \n",
    "    We could not sing o' Queen of Cheese. \n",
    "\n",
    "    We'rt thou suspended from baloon, \n",
    "    You'd cast a shade, even at noon; \n",
    "    Folks would think it was the moon \n",
    "    About to fall and crush them soon. \n",
    "    '''"
   ]
  },
  {
   "cell_type": "code",
   "execution_count": 2,
   "metadata": {},
   "outputs": [
    {
     "data": {
      "text/plain": [
       "['cheese', 'city', 'cheek', 'could', 'cast', 'crush']"
      ]
     },
     "execution_count": 2,
     "metadata": {},
     "output_type": "execute_result"
    }
   ],
   "source": [
    "# 7-8 正規表現\n",
    "\n",
    "import re\n",
    "pat = r'\\bc\\w*' #\\bおよび\\wおよび*の意味をしっかり覚えること。また、''の左のrは、pythonは\\bをバックスペースと解釈しないようにするオプションである。\\bの意味は、単語の先頭または末尾を、\\ｗの意味は任意の英数字1文字を、＊の意味は直前の値を0個以上を、意味する。\n",
    "re.findall(pat, mammoth)"
   ]
  },
  {
   "cell_type": "code",
   "execution_count": 6,
   "metadata": {},
   "outputs": [
    {
     "data": {
      "text/plain": [
       "['city', 'cast']"
      ]
     },
     "execution_count": 6,
     "metadata": {},
     "output_type": "execute_result"
    }
   ],
   "source": [
    "# 7-9 正規表現\n",
    "\n",
    "pat = r'\\bc\\w{3}\\b'\n",
    "re.findall(pat, mammoth)"
   ]
  },
  {
   "cell_type": "code",
   "execution_count": 7,
   "metadata": {},
   "outputs": [
    {
     "data": {
      "text/plain": [
       "['your', 'fair', 'Or', 'scar', 'Mr', 'far', 'For', 'your', 'or']"
      ]
     },
     "execution_count": 7,
     "metadata": {},
     "output_type": "execute_result"
    }
   ],
   "source": [
    "# 7-10 正規表現\n",
    "\n",
    "pat = r'\\b\\w*r\\b'\n",
    "re.findall(pat, mammoth)"
   ]
  },
  {
   "cell_type": "code",
   "execution_count": 14,
   "metadata": {},
   "outputs": [
    {
     "data": {
      "text/plain": [
       "['Queen', 'quietly', 'beau', 'Queen', 'squeeze', 'Queen']"
      ]
     },
     "execution_count": 14,
     "metadata": {},
     "output_type": "execute_result"
    }
   ],
   "source": [
    "# 7-11 正規表現\n",
    "\n",
    "pat = r'\\b\\w*[aiueo]{3}[^aiueo\\s]*\\w*\\b'\n",
    "re.findall(pat, mammoth)"
   ]
  },
  {
   "cell_type": "code",
   "execution_count": 18,
   "metadata": {},
   "outputs": [
    {
     "data": {
      "text/plain": [
       "b'GIF89a\\x01\\x00\\x01\\x00\\x80\\x00\\x00\\x00\\x00\\x00\\xff\\xff\\xff!\\xf9\\x04\\x01\\x00\\x00\\x00\\x00,\\x00\\x00\\x00\\x00\\x01\\x00\\x01\\x00\\x00\\x02\\x01D\\x00;'"
      ]
     },
     "execution_count": 18,
     "metadata": {},
     "output_type": "execute_result"
    }
   ],
   "source": [
    "# 7-12 バイナリ表現\n",
    "\n",
    "import binascii\n",
    "bin1 = '47494638396101000100800000000000ffffff21f90401000000002c000000000100010000020144003b'\n",
    "gif = binascii.unhexlify(bin1)　#binasciiモジュールのunhexlify()関数はPythonデータをバイナリデータに変換する。\n",
    "gif"
   ]
  },
  {
   "cell_type": "code",
   "execution_count": 19,
   "metadata": {},
   "outputs": [
    {
     "data": {
      "text/plain": [
       "True"
      ]
     },
     "execution_count": 19,
     "metadata": {},
     "output_type": "execute_result"
    }
   ],
   "source": [
    "# 7-13 GIF\n",
    "\n",
    "gif[:6] == b'GIF89a' #バイト列を定義するためにbを文字列の前に置く。これがTrueなら、有効なGIFファイルであることを意味する。"
   ]
  },
  {
   "cell_type": "code",
   "execution_count": 20,
   "metadata": {},
   "outputs": [
    {
     "data": {
      "text/plain": [
       "(1, 1)"
      ]
     },
     "execution_count": 20,
     "metadata": {},
     "output_type": "execute_result"
    }
   ],
   "source": [
    "# 7-14 GIFのサイズ抽出\n",
    "\n",
    "import struct\n",
    "width, height = struct.unpack('<HH', gif[6:10]) #structモジュールのunpack関数はバイナリデータをPythonデータに変換する。\n",
    "width, height"
   ]
  }
 ],
 "metadata": {
  "kernelspec": {
   "display_name": "Python 3",
   "language": "python",
   "name": "python3"
  },
  "language_info": {
   "codemirror_mode": {
    "name": "ipython",
    "version": 3
   },
   "file_extension": ".py",
   "mimetype": "text/x-python",
   "name": "python",
   "nbconvert_exporter": "python",
   "pygments_lexer": "ipython3",
   "version": "3.6.1"
  }
 },
 "nbformat": 4,
 "nbformat_minor": 2
}
