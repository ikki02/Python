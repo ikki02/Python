{
 "cells": [
  {
   "cell_type": "code",
   "execution_count": null,
   "metadata": {
    "collapsed": true
   },
   "outputs": [],
   "source": [
    "# ディレクトリ内のファイル一括操作\n",
    "import os\n",
    "import sys\n",
    "\n",
    "directory = 'D:/1.programming/python/test'\n",
    "\n",
    "filelist = os.listdir(directory)\n",
    "\n",
    "a = 1\n",
    "\n",
    "for file in filelist:\n",
    "    path = os.path.join(directory, file)\n",
    "    name = 'file'+str(a)+'.xlsx'\n",
    "    target = os.path.join(directory, name)\n",
    "    os.rename(path, target)\n",
    "    a = a +1"
   ]
  },
  {
   "cell_type": "code",
   "execution_count": 1,
   "metadata": {},
   "outputs": [
    {
     "name": "stdout",
     "output_type": "stream",
     "text": [
      "ForTest_private.ipynb\n",
      "Introducing Python 3\n",
      "Introduction_to_ml_with_python\n",
      "Lib\n",
      "Matplotlib.ipynb\n",
      "NLP100Practices\n",
      "Pandas.ipynb\n",
      "Python-master\n",
      "Untitled.ipynb\n",
      "blockchain\n",
      "data_cleansing.ipynb\n",
      "sample-data-master\n",
      "test\n",
      "test1.py\n",
      "test2.py\n",
      "weather.py\n",
      "\n"
     ]
    }
   ],
   "source": [
    "import subprocess\n",
    "\n",
    "try:\n",
    "    command = subprocess.check_output('ls')\n",
    "except:\n",
    "    print('Error')\n",
    "\n",
    "print(command.decode('sjis'))"
   ]
  },
  {
   "cell_type": "code",
   "execution_count": 6,
   "metadata": {},
   "outputs": [
    {
     "name": "stdout",
     "output_type": "stream",
     "text": [
      "Error\n"
     ]
    },
    {
     "ename": "NameError",
     "evalue": "name 'command2' is not defined",
     "output_type": "error",
     "traceback": [
      "\u001b[1;31m---------------------------------------------------------------------------\u001b[0m",
      "\u001b[1;31mNameError\u001b[0m                                 Traceback (most recent call last)",
      "\u001b[1;32m<ipython-input-6-a16b9732feb9>\u001b[0m in \u001b[0;36m<module>\u001b[1;34m()\u001b[0m\n\u001b[0;32m      6\u001b[0m     \u001b[0mprint\u001b[0m\u001b[1;33m(\u001b[0m\u001b[1;34m'Error'\u001b[0m\u001b[1;33m)\u001b[0m\u001b[1;33m\u001b[0m\u001b[0m\n\u001b[0;32m      7\u001b[0m \u001b[1;33m\u001b[0m\u001b[0m\n\u001b[1;32m----> 8\u001b[1;33m \u001b[0mprint\u001b[0m\u001b[1;33m(\u001b[0m\u001b[0mcommand2\u001b[0m\u001b[1;33m.\u001b[0m\u001b[0mdecode\u001b[0m\u001b[1;33m(\u001b[0m\u001b[1;34m'sjis'\u001b[0m\u001b[1;33m)\u001b[0m\u001b[1;33m)\u001b[0m\u001b[1;33m\u001b[0m\u001b[0m\n\u001b[0m",
      "\u001b[1;31mNameError\u001b[0m: name 'command2' is not defined"
     ]
    }
   ],
   "source": [
    "import subprocess\n",
    "\n",
    "try:\n",
    "    command2 = subprocess.check_output('cd ')\n",
    "except:\n",
    "    print('Error')\n",
    "\n",
    "print(command2.decode('sjis'))"
   ]
  },
  {
   "cell_type": "code",
   "execution_count": null,
   "metadata": {
    "collapsed": true
   },
   "outputs": [],
   "source": []
  },
  {
   "cell_type": "code",
   "execution_count": null,
   "metadata": {
    "collapsed": true
   },
   "outputs": [],
   "source": []
  },
  {
   "cell_type": "code",
   "execution_count": null,
   "metadata": {
    "collapsed": true
   },
   "outputs": [],
   "source": []
  }
 ],
 "metadata": {
  "kernelspec": {
   "display_name": "Python 3",
   "language": "python",
   "name": "python3"
  },
  "language_info": {
   "codemirror_mode": {
    "name": "ipython",
    "version": 3
   },
   "file_extension": ".py",
   "mimetype": "text/x-python",
   "name": "python",
   "nbconvert_exporter": "python",
   "pygments_lexer": "ipython3",
   "version": "3.6.1"
  }
 },
 "nbformat": 4,
 "nbformat_minor": 2
}
