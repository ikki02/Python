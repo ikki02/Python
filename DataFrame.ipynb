{
 "cells": [
  {
   "cell_type": "code",
   "execution_count": 6,
   "metadata": {
    "collapsed": false
   },
   "outputs": [
    {
     "data": {
      "text/html": [
       "<div>\n",
       "<table border=\"1\" class=\"dataframe\">\n",
       "  <thead>\n",
       "    <tr style=\"text-align: right;\">\n",
       "      <th></th>\n",
       "      <th>あああ</th>\n",
       "      <th>あああ.1</th>\n",
       "      <th>file3</th>\n",
       "      <th>あああ.2</th>\n",
       "      <th>あああ.3</th>\n",
       "      <th>あああ.4</th>\n",
       "      <th>あああ.5</th>\n",
       "      <th>111</th>\n",
       "      <th>あああ.6</th>\n",
       "      <th>あああ.7</th>\n",
       "      <th>あああ.8</th>\n",
       "      <th>あああ.9</th>\n",
       "      <th>あああ.10</th>\n",
       "      <th>あああ.11</th>\n",
       "      <th>あああ.12</th>\n",
       "      <th>あああ.13</th>\n",
       "      <th>あああ.14</th>\n",
       "      <th>あああ.15</th>\n",
       "    </tr>\n",
       "  </thead>\n",
       "  <tbody>\n",
       "    <tr>\n",
       "      <th>0</th>\n",
       "      <td>いいいい</td>\n",
       "      <td>いいいい</td>\n",
       "      <td>file3</td>\n",
       "      <td>いいいい</td>\n",
       "      <td>いいいい</td>\n",
       "      <td>いいいい</td>\n",
       "      <td>いいいい</td>\n",
       "      <td>222</td>\n",
       "      <td>いいいい</td>\n",
       "      <td>いいいい</td>\n",
       "      <td>いいいい</td>\n",
       "      <td>いいいい</td>\n",
       "      <td>いいいい</td>\n",
       "      <td>いいいい</td>\n",
       "      <td>いいいい</td>\n",
       "      <td>いいいい</td>\n",
       "      <td>いいいい</td>\n",
       "      <td>いいいい</td>\n",
       "    </tr>\n",
       "    <tr>\n",
       "      <th>1</th>\n",
       "      <td>ううう</td>\n",
       "      <td>ううう</td>\n",
       "      <td>file3</td>\n",
       "      <td>ううう</td>\n",
       "      <td>ううう</td>\n",
       "      <td>ううう</td>\n",
       "      <td>ううう</td>\n",
       "      <td>333</td>\n",
       "      <td>ううう</td>\n",
       "      <td>ううう</td>\n",
       "      <td>ううう</td>\n",
       "      <td>ううう</td>\n",
       "      <td>ううう</td>\n",
       "      <td>ううう</td>\n",
       "      <td>ううう</td>\n",
       "      <td>ううう</td>\n",
       "      <td>ううう</td>\n",
       "      <td>ううう</td>\n",
       "    </tr>\n",
       "  </tbody>\n",
       "</table>\n",
       "</div>"
      ],
      "text/plain": [
       "    あああ あああ.1  file3 あああ.2 あああ.3 あああ.4 あああ.5  111 あああ.6 あああ.7 あああ.8 あああ.9  \\\n",
       "0  いいいい  いいいい  file3  いいいい  いいいい  いいいい  いいいい  222  いいいい  いいいい  いいいい  いいいい   \n",
       "1   ううう   ううう  file3   ううう   ううう   ううう   ううう  333   ううう   ううう   ううう   ううう   \n",
       "\n",
       "  あああ.10 あああ.11 あああ.12 あああ.13 あああ.14 あああ.15  \n",
       "0   いいいい   いいいい   いいいい   いいいい   いいいい   いいいい  \n",
       "1    ううう    ううう    ううう    ううう    ううう    ううう  "
      ]
     },
     "execution_count": 6,
     "metadata": {},
     "output_type": "execute_result"
    }
   ],
   "source": [
    "# ローカルのcsvファイルの読み込み。\n",
    "import pandas as pd\n",
    "\n",
    "dataset3 = pd.read_csv(\"dfse.csv\", encoding=\"utf-8\") #便利なオプション① header=Noneで1行目をデータとして扱う。便利なオプション② engine=\"python\"でセパレータ（csvなら,）を自動解釈する。\n",
    "# dataset3 = pd.read_csv(\"http://pythondatascience.plavox.info/wp-content/uploads/2016/05/sample_dataset.csv\") #ネットワーク上のcsvファイル読み込みはこちら。\n",
    "dataset3"
   ]
  },
  {
   "cell_type": "code",
   "execution_count": 22,
   "metadata": {
    "collapsed": true
   },
   "outputs": [],
   "source": [
    "# エクセルファイルの保存\n",
    "# .to_excel()メソッド\n",
    "# 参考URL[https://www.datacamp.com/community/tutorials/python-excel-tutorial]\n",
    "\n",
    "import pandas as pd\n",
    "\n",
    "dataset3 = pd.read_csv(\"dfse.csv\", encoding=\"utf-8\")\n",
    "dataset3.to_excel(\"./test.xlsx\", index=False, encoding=\"UTF-8-sig\")#UTF-8-sigとすることで、BOM付きにできる。他の文字コード例：'UTF-8', 'SHIFT-JIS', 'CP932'\n",
    "# dataset3.to_csv(\"./test.csv\", index=False, encoding=\"UTF-8-sig\")#csv保存はこちら。"
   ]
  },
  {
   "cell_type": "markdown",
   "metadata": {},
   "source": [
    "### なお、複数のDataFrameを複数のワークシートに保存したい際は、XlsxWriterをインストールしている必要がある。\n",
    "        \n",
    "    # Install `XlsxWriter` \n",
    "    pip install XlsxWriter\n",
    "\n",
    "    # Specify a writer\n",
    "    writer = pd.ExcelWriter('example.xlsx', engine='xlsxwriter')\n",
    "\n",
    "    # Write your DataFrame to a file     \n",
    "    yourData.to_excel(writer, 'Sheet1')\n",
    "\n",
    "    # Save the result \n",
    "    writer.save()"
   ]
  },
  {
   "cell_type": "code",
   "execution_count": 124,
   "metadata": {
    "collapsed": false
   },
   "outputs": [
    {
     "data": {
      "text/html": [
       "<div>\n",
       "<table border=\"1\" class=\"dataframe\">\n",
       "  <thead>\n",
       "    <tr style=\"text-align: right;\">\n",
       "      <th></th>\n",
       "      <th>閲覧数</th>\n",
       "      <th>抽出数</th>\n",
       "      <th>再現率</th>\n",
       "    </tr>\n",
       "  </thead>\n",
       "  <tbody>\n",
       "    <tr>\n",
       "      <th>0</th>\n",
       "      <td>1</td>\n",
       "      <td>1.0</td>\n",
       "      <td>33</td>\n",
       "    </tr>\n",
       "    <tr>\n",
       "      <th>1</th>\n",
       "      <td>2</td>\n",
       "      <td>2.0</td>\n",
       "      <td>66</td>\n",
       "    </tr>\n",
       "    <tr>\n",
       "      <th>2</th>\n",
       "      <td>3</td>\n",
       "      <td>3.0</td>\n",
       "      <td>100</td>\n",
       "    </tr>\n",
       "    <tr>\n",
       "      <th>3</th>\n",
       "      <td>4</td>\n",
       "      <td>NaN</td>\n",
       "      <td>終わり</td>\n",
       "    </tr>\n",
       "  </tbody>\n",
       "</table>\n",
       "</div>"
      ],
      "text/plain": [
       "   閲覧数  抽出数  再現率\n",
       "0    1  1.0   33\n",
       "1    2  2.0   66\n",
       "2    3  3.0  100\n",
       "3    4  NaN  終わり"
      ]
     },
     "execution_count": 124,
     "metadata": {},
     "output_type": "execute_result"
    }
   ],
   "source": [
    "# データフレームを作成する。\n",
    "# 書き方1: pd.DataFrame([[行1],[行2],[行3]], columns=[1,2,3])\n",
    "# 書き方2: pd.DataFrame({'key1':[value1-1,value1-2,value1-n], 'key2':[value2-1,value2-2,value2-n]})\n",
    "import pandas as pd\n",
    "import numpy as np\n",
    "\n",
    "df = pd.DataFrame([[1, 1, 33], \n",
    "                  [2,2,66], \n",
    "                  [3,3,100],\n",
    "                  [4, np.nan, '終わり']],\n",
    "                  columns = ['閲覧数', '抽出数', '再現率'])\n",
    "\n",
    "df"
   ]
  },
  {
   "cell_type": "code",
   "execution_count": 86,
   "metadata": {
    "collapsed": false
   },
   "outputs": [
    {
     "data": {
      "text/html": [
       "<div>\n",
       "<table border=\"1\" class=\"dataframe\">\n",
       "  <thead>\n",
       "    <tr style=\"text-align: right;\">\n",
       "      <th></th>\n",
       "      <th>閲覧数</th>\n",
       "      <th>再現率</th>\n",
       "      <th>理想</th>\n",
       "    </tr>\n",
       "  </thead>\n",
       "  <tbody>\n",
       "    <tr>\n",
       "      <th>0</th>\n",
       "      <td>1.0</td>\n",
       "      <td>0.8</td>\n",
       "      <td>1.3</td>\n",
       "    </tr>\n",
       "    <tr>\n",
       "      <th>1</th>\n",
       "      <td>1.2</td>\n",
       "      <td>1.4</td>\n",
       "      <td>1.4</td>\n",
       "    </tr>\n",
       "    <tr>\n",
       "      <th>2</th>\n",
       "      <td>3.4</td>\n",
       "      <td>3.2</td>\n",
       "      <td>2.9</td>\n",
       "    </tr>\n",
       "    <tr>\n",
       "      <th>3</th>\n",
       "      <td>4.1</td>\n",
       "      <td>4.3</td>\n",
       "      <td>3.8</td>\n",
       "    </tr>\n",
       "    <tr>\n",
       "      <th>4</th>\n",
       "      <td>8.2</td>\n",
       "      <td>7.9</td>\n",
       "      <td>9.4</td>\n",
       "    </tr>\n",
       "  </tbody>\n",
       "</table>\n",
       "</div>"
      ],
      "text/plain": [
       "   閲覧数  再現率   理想\n",
       "0  1.0  0.8  1.3\n",
       "1  1.2  1.4  1.4\n",
       "2  3.4  3.2  2.9\n",
       "3  4.1  4.3  3.8\n",
       "4  8.2  7.9  9.4"
      ]
     },
     "execution_count": 86,
     "metadata": {},
     "output_type": "execute_result"
    }
   ],
   "source": [
    "# データフレームのカラムを変更する。\n",
    "# df.columns = [新ヘッダ名1, 新ヘッダ名n]\n",
    "cc = pd.DataFrame({'A': [1.0, 1.2, 3.4, 4.1, 8.2],\n",
    "                   'B': [0.8, 1.4, 3.2, 4.3, 7.9],\n",
    "                   'C': [1.3, 1.4, 2.9, 3.8, 9.4]})\n",
    "cc.columns = ['閲覧数', '再現率','理想'] #もともとのccのヘッダ：A, B, C。 → 新しいヘッダ['閲覧数', '再現率','理想']\n",
    "cc"
   ]
  },
  {
   "cell_type": "code",
   "execution_count": 61,
   "metadata": {
    "collapsed": false
   },
   "outputs": [
    {
     "data": {
      "text/html": [
       "<div>\n",
       "<table border=\"1\" class=\"dataframe\">\n",
       "  <thead>\n",
       "    <tr style=\"text-align: right;\">\n",
       "      <th></th>\n",
       "      <th>閲覧数</th>\n",
       "      <th>抽出数</th>\n",
       "      <th>再現率</th>\n",
       "    </tr>\n",
       "  </thead>\n",
       "  <tbody>\n",
       "    <tr>\n",
       "      <th>0</th>\n",
       "      <td>1</td>\n",
       "      <td>1.0</td>\n",
       "      <td>33</td>\n",
       "    </tr>\n",
       "    <tr>\n",
       "      <th>1</th>\n",
       "      <td>2</td>\n",
       "      <td>2.0</td>\n",
       "      <td>66</td>\n",
       "    </tr>\n",
       "    <tr>\n",
       "      <th>2</th>\n",
       "      <td>3</td>\n",
       "      <td>3.0</td>\n",
       "      <td>100</td>\n",
       "    </tr>\n",
       "    <tr>\n",
       "      <th>3</th>\n",
       "      <td>4</td>\n",
       "      <td>NaN</td>\n",
       "      <td>終わり</td>\n",
       "    </tr>\n",
       "  </tbody>\n",
       "</table>\n",
       "</div>"
      ],
      "text/plain": [
       "   閲覧数  抽出数  再現率\n",
       "0    1  1.0   33\n",
       "1    2  2.0   66\n",
       "2    3  3.0  100\n",
       "3    4  NaN  終わり"
      ]
     },
     "execution_count": 61,
     "metadata": {},
     "output_type": "execute_result"
    }
   ],
   "source": [
    "# pandasでソート\n",
    "# .sort_values()\n",
    "\n",
    "df.sort_values(by=[\"閲覧数\"], ascending=True)"
   ]
  },
  {
   "cell_type": "code",
   "execution_count": 71,
   "metadata": {
    "collapsed": false
   },
   "outputs": [
    {
     "data": {
      "text/html": [
       "<div>\n",
       "<table border=\"1\" class=\"dataframe\">\n",
       "  <thead>\n",
       "    <tr style=\"text-align: right;\">\n",
       "      <th></th>\n",
       "      <th>閲覧数</th>\n",
       "      <th>抽出数</th>\n",
       "      <th>再現率</th>\n",
       "    </tr>\n",
       "  </thead>\n",
       "  <tbody>\n",
       "    <tr>\n",
       "      <th>0</th>\n",
       "      <td>1</td>\n",
       "      <td>1.0</td>\n",
       "      <td>33</td>\n",
       "    </tr>\n",
       "    <tr>\n",
       "      <th>1</th>\n",
       "      <td>2</td>\n",
       "      <td>2.0</td>\n",
       "      <td>66</td>\n",
       "    </tr>\n",
       "    <tr>\n",
       "      <th>2</th>\n",
       "      <td>3</td>\n",
       "      <td>3.0</td>\n",
       "      <td>100</td>\n",
       "    </tr>\n",
       "    <tr>\n",
       "      <th>3</th>\n",
       "      <td>4</td>\n",
       "      <td>NaN</td>\n",
       "      <td>終わり</td>\n",
       "    </tr>\n",
       "  </tbody>\n",
       "</table>\n",
       "</div>"
      ],
      "text/plain": [
       "   閲覧数  抽出数  再現率\n",
       "0    1  1.0   33\n",
       "1    2  2.0   66\n",
       "2    3  3.0  100\n",
       "3    4  NaN  終わり"
      ]
     },
     "metadata": {},
     "output_type": "display_data"
    },
    {
     "data": {
      "text/html": [
       "<div>\n",
       "<table border=\"1\" class=\"dataframe\">\n",
       "  <thead>\n",
       "    <tr style=\"text-align: right;\">\n",
       "      <th></th>\n",
       "      <th>閲覧数</th>\n",
       "      <th>抽出数</th>\n",
       "      <th>再現率</th>\n",
       "    </tr>\n",
       "  </thead>\n",
       "  <tbody>\n",
       "    <tr>\n",
       "      <th>0</th>\n",
       "      <td>5</td>\n",
       "      <td>4.0</td>\n",
       "      <td>100</td>\n",
       "    </tr>\n",
       "    <tr>\n",
       "      <th>1</th>\n",
       "      <td>6</td>\n",
       "      <td>5.0</td>\n",
       "      <td>100</td>\n",
       "    </tr>\n",
       "    <tr>\n",
       "      <th>2</th>\n",
       "      <td>7</td>\n",
       "      <td>NaN</td>\n",
       "      <td>100</td>\n",
       "    </tr>\n",
       "  </tbody>\n",
       "</table>\n",
       "</div>"
      ],
      "text/plain": [
       "   閲覧数  抽出数  再現率\n",
       "0    5  4.0  100\n",
       "1    6  5.0  100\n",
       "2    7  NaN  100"
      ]
     },
     "metadata": {},
     "output_type": "display_data"
    },
    {
     "data": {
      "text/html": [
       "<div>\n",
       "<table border=\"1\" class=\"dataframe\">\n",
       "  <thead>\n",
       "    <tr style=\"text-align: right;\">\n",
       "      <th></th>\n",
       "      <th>閲覧数</th>\n",
       "      <th>抽出数</th>\n",
       "      <th>再現率</th>\n",
       "    </tr>\n",
       "  </thead>\n",
       "  <tbody>\n",
       "    <tr>\n",
       "      <th>0</th>\n",
       "      <td>1</td>\n",
       "      <td>1.0</td>\n",
       "      <td>33</td>\n",
       "    </tr>\n",
       "    <tr>\n",
       "      <th>1</th>\n",
       "      <td>2</td>\n",
       "      <td>2.0</td>\n",
       "      <td>66</td>\n",
       "    </tr>\n",
       "    <tr>\n",
       "      <th>2</th>\n",
       "      <td>3</td>\n",
       "      <td>3.0</td>\n",
       "      <td>100</td>\n",
       "    </tr>\n",
       "    <tr>\n",
       "      <th>3</th>\n",
       "      <td>4</td>\n",
       "      <td>NaN</td>\n",
       "      <td>終わり</td>\n",
       "    </tr>\n",
       "    <tr>\n",
       "      <th>0</th>\n",
       "      <td>5</td>\n",
       "      <td>4.0</td>\n",
       "      <td>100</td>\n",
       "    </tr>\n",
       "    <tr>\n",
       "      <th>1</th>\n",
       "      <td>6</td>\n",
       "      <td>5.0</td>\n",
       "      <td>100</td>\n",
       "    </tr>\n",
       "    <tr>\n",
       "      <th>2</th>\n",
       "      <td>7</td>\n",
       "      <td>NaN</td>\n",
       "      <td>100</td>\n",
       "    </tr>\n",
       "  </tbody>\n",
       "</table>\n",
       "</div>"
      ],
      "text/plain": [
       "   閲覧数  抽出数  再現率\n",
       "0    1  1.0   33\n",
       "1    2  2.0   66\n",
       "2    3  3.0  100\n",
       "3    4  NaN  終わり\n",
       "0    5  4.0  100\n",
       "1    6  5.0  100\n",
       "2    7  NaN  100"
      ]
     },
     "metadata": {},
     "output_type": "display_data"
    }
   ],
   "source": [
    "# 変数の結合1\n",
    "# .concat([変数1, 変数2], axis=0or1)\n",
    "#他の例： pd.merge(変数1, 変数2, on='ID') #データの中身を何かのキーの値（docIDなど）で紐付けて繋げる。concate()は、データの中身をある方向にそのまま繋げる。\n",
    "\n",
    "from IPython.display import display\n",
    "\n",
    "df2 = pd.DataFrame([[5,4,100],\n",
    "                  [6,5,100],\n",
    "                  [7,np.nan,100]],\n",
    "                  columns = ['閲覧数', '抽出数', '再現率'])\n",
    "\n",
    "display(df)\n",
    "display(df2)\n",
    "\n",
    "df3 = pd.concat([df, df2], axis=0) # concat()のaxis引数は0なら行で、1なら列で引数を結合する。\n",
    "display(df3)"
   ]
  },
  {
   "cell_type": "code",
   "execution_count": 66,
   "metadata": {
    "collapsed": false,
    "scrolled": true
   },
   "outputs": [
    {
     "data": {
      "text/html": [
       "<div>\n",
       "<table border=\"1\" class=\"dataframe\">\n",
       "  <thead>\n",
       "    <tr style=\"text-align: right;\">\n",
       "      <th></th>\n",
       "      <th>閲覧数</th>\n",
       "      <th>抽出数</th>\n",
       "      <th>再現率</th>\n",
       "    </tr>\n",
       "  </thead>\n",
       "  <tbody>\n",
       "    <tr>\n",
       "      <th>0</th>\n",
       "      <td>1</td>\n",
       "      <td>1.0</td>\n",
       "      <td>33</td>\n",
       "    </tr>\n",
       "    <tr>\n",
       "      <th>1</th>\n",
       "      <td>2</td>\n",
       "      <td>2.0</td>\n",
       "      <td>66</td>\n",
       "    </tr>\n",
       "    <tr>\n",
       "      <th>2</th>\n",
       "      <td>3</td>\n",
       "      <td>3.0</td>\n",
       "      <td>100</td>\n",
       "    </tr>\n",
       "    <tr>\n",
       "      <th>3</th>\n",
       "      <td>4</td>\n",
       "      <td>NaN</td>\n",
       "      <td>終わり</td>\n",
       "    </tr>\n",
       "  </tbody>\n",
       "</table>\n",
       "</div>"
      ],
      "text/plain": [
       "   閲覧数  抽出数  再現率\n",
       "0    1  1.0   33\n",
       "1    2  2.0   66\n",
       "2    3  3.0  100\n",
       "3    4  NaN  終わり"
      ]
     },
     "metadata": {},
     "output_type": "display_data"
    },
    {
     "data": {
      "text/html": [
       "<div>\n",
       "<table border=\"1\" class=\"dataframe\">\n",
       "  <thead>\n",
       "    <tr style=\"text-align: right;\">\n",
       "      <th></th>\n",
       "      <th>閲覧数</th>\n",
       "      <th>抽出数</th>\n",
       "      <th>再現率</th>\n",
       "    </tr>\n",
       "  </thead>\n",
       "  <tbody>\n",
       "    <tr>\n",
       "      <th>0</th>\n",
       "      <td>4</td>\n",
       "      <td>4</td>\n",
       "      <td>100</td>\n",
       "    </tr>\n",
       "    <tr>\n",
       "      <th>1</th>\n",
       "      <td>6</td>\n",
       "      <td>5</td>\n",
       "      <td>100</td>\n",
       "    </tr>\n",
       "    <tr>\n",
       "      <th>2</th>\n",
       "      <td>7</td>\n",
       "      <td>6</td>\n",
       "      <td>100</td>\n",
       "    </tr>\n",
       "  </tbody>\n",
       "</table>\n",
       "</div>"
      ],
      "text/plain": [
       "   閲覧数  抽出数  再現率\n",
       "0    4    4  100\n",
       "1    6    5  100\n",
       "2    7    6  100"
      ]
     },
     "metadata": {},
     "output_type": "display_data"
    },
    {
     "data": {
      "text/html": [
       "<div>\n",
       "<table border=\"1\" class=\"dataframe\">\n",
       "  <thead>\n",
       "    <tr style=\"text-align: right;\">\n",
       "      <th></th>\n",
       "      <th>閲覧数</th>\n",
       "      <th>抽出数_x</th>\n",
       "      <th>再現率_x</th>\n",
       "      <th>抽出数_y</th>\n",
       "      <th>再現率_y</th>\n",
       "    </tr>\n",
       "  </thead>\n",
       "  <tbody>\n",
       "    <tr>\n",
       "      <th>0</th>\n",
       "      <td>4</td>\n",
       "      <td>NaN</td>\n",
       "      <td>終わり</td>\n",
       "      <td>4</td>\n",
       "      <td>100</td>\n",
       "    </tr>\n",
       "  </tbody>\n",
       "</table>\n",
       "</div>"
      ],
      "text/plain": [
       "   閲覧数  抽出数_x 再現率_x  抽出数_y  再現率_y\n",
       "0    4    NaN   終わり      4    100"
      ]
     },
     "metadata": {},
     "output_type": "display_data"
    }
   ],
   "source": [
    "# 変数の結合2\n",
    "#pd.merge(変数1, 変数2, on='ID') #データの中身を何かのキーの値（docIDなど）で紐付けて繋げる。concate()は、データの中身をある方向にそのまま繋げる。\n",
    "df2 = pd.DataFrame([[4,4,100],\n",
    "                  [6,5,100],\n",
    "                  [7,6,100]],\n",
    "                  columns = ['閲覧数', '抽出数', '再現率'])\n",
    "\n",
    "display(df)\n",
    "display(df2)\n",
    "\n",
    "df3 = pd.merge(df, df2, on='閲覧数') # merge()で結合する際、キーが一致しないデータは除外対象となる。\n",
    "display(df3)"
   ]
  },
  {
   "cell_type": "code",
   "execution_count": 188,
   "metadata": {
    "collapsed": false
   },
   "outputs": [
    {
     "data": {
      "text/html": [
       "<div>\n",
       "<table border=\"1\" class=\"dataframe\">\n",
       "  <thead>\n",
       "    <tr style=\"text-align: right;\">\n",
       "      <th></th>\n",
       "      <th>A</th>\n",
       "      <th>B</th>\n",
       "    </tr>\n",
       "  </thead>\n",
       "  <tbody>\n",
       "    <tr>\n",
       "      <th>0</th>\n",
       "      <td>True</td>\n",
       "      <td>True</td>\n",
       "    </tr>\n",
       "    <tr>\n",
       "      <th>1</th>\n",
       "      <td>False</td>\n",
       "      <td>False</td>\n",
       "    </tr>\n",
       "    <tr>\n",
       "      <th>2</th>\n",
       "      <td>True</td>\n",
       "      <td>False</td>\n",
       "    </tr>\n",
       "  </tbody>\n",
       "</table>\n",
       "</div>"
      ],
      "text/plain": [
       "       A      B\n",
       "0   True   True\n",
       "1  False  False\n",
       "2   True  False"
      ]
     },
     "execution_count": 188,
     "metadata": {},
     "output_type": "execute_result"
    }
   ],
   "source": [
    "# データフレーム中に見つけたいデータが存在するかどうかチェックする。\n",
    "# df.isin(リストor辞書) \n",
    "#データフレーム中に、引数のリストまたは辞書（なお、辞書のキーは、オブジェクトのヘッダとマッチしなければならない）の値が含まれている場合Trueを、含まれていない場合Falseを返す。\n",
    "\n",
    "ck = pd.DataFrame({'A': [1, 2, 3], 'B': ['a', 'b', 'f']})\n",
    "ck.isin([1, 3, 12, 'a'])"
   ]
  },
  {
   "cell_type": "code",
   "execution_count": 99,
   "metadata": {
    "collapsed": false,
    "scrolled": true
   },
   "outputs": [
    {
     "name": "stdout",
     "output_type": "stream",
     "text": [
      "0    1.0\n",
      "1    2.0\n",
      "2    3.0\n",
      "3    NaN\n",
      "0    4.0\n",
      "1    5.0\n",
      "2    NaN\n",
      "Name: 抽出数, dtype: float64\n"
     ]
    },
    {
     "data": {
      "text/plain": [
       "array([  1.,   2.,   3.,  nan,   4.,   5.,  nan])"
      ]
     },
     "execution_count": 99,
     "metadata": {},
     "output_type": "execute_result"
    }
   ],
   "source": [
    "# データフレームの特定カラムデータを抽出する。\n",
    "# df[カラム名]\n",
    "# また、df[カラム名].valuesでndarrayに格納する。　あるいは、df[カラム名].values[インデックス]を入力することで、そのインデックスの値のみ格納できる。\n",
    "\n",
    "print(df3['抽出数'])\n",
    "df3['抽出数'].values"
   ]
  },
  {
   "cell_type": "code",
   "execution_count": 185,
   "metadata": {
    "collapsed": false
   },
   "outputs": [
    {
     "data": {
      "text/html": [
       "<div>\n",
       "<table border=\"1\" class=\"dataframe\">\n",
       "  <thead>\n",
       "    <tr style=\"text-align: right;\">\n",
       "      <th></th>\n",
       "      <th>閲覧数</th>\n",
       "      <th>抽出数</th>\n",
       "      <th>再現率</th>\n",
       "    </tr>\n",
       "  </thead>\n",
       "  <tbody>\n",
       "    <tr>\n",
       "      <th>0</th>\n",
       "      <td>1</td>\n",
       "      <td>1.0</td>\n",
       "      <td>33</td>\n",
       "    </tr>\n",
       "    <tr>\n",
       "      <th>1</th>\n",
       "      <td>2</td>\n",
       "      <td>2.0</td>\n",
       "      <td>66</td>\n",
       "    </tr>\n",
       "    <tr>\n",
       "      <th>2</th>\n",
       "      <td>3</td>\n",
       "      <td>3.0</td>\n",
       "      <td>100</td>\n",
       "    </tr>\n",
       "    <tr>\n",
       "      <th>3</th>\n",
       "      <td>4</td>\n",
       "      <td>NaN</td>\n",
       "      <td>終わり</td>\n",
       "    </tr>\n",
       "    <tr>\n",
       "      <th>0</th>\n",
       "      <td>5</td>\n",
       "      <td>4.0</td>\n",
       "      <td>100</td>\n",
       "    </tr>\n",
       "    <tr>\n",
       "      <th>1</th>\n",
       "      <td>6</td>\n",
       "      <td>5.0</td>\n",
       "      <td>100</td>\n",
       "    </tr>\n",
       "    <tr>\n",
       "      <th>2</th>\n",
       "      <td>7</td>\n",
       "      <td>NaN</td>\n",
       "      <td>100</td>\n",
       "    </tr>\n",
       "  </tbody>\n",
       "</table>\n",
       "</div>"
      ],
      "text/plain": [
       "   閲覧数  抽出数  再現率\n",
       "0    1  1.0   33\n",
       "1    2  2.0   66\n",
       "2    3  3.0  100\n",
       "3    4  NaN  終わり\n",
       "0    5  4.0  100\n",
       "1    6  5.0  100\n",
       "2    7  NaN  100"
      ]
     },
     "metadata": {},
     "output_type": "display_data"
    },
    {
     "name": "stdout",
     "output_type": "stream",
     "text": [
      "\n",
      "\n",
      "全行の1列目を取得する。\n",
      " 0    1\n",
      "1    2\n",
      "2    3\n",
      "3    4\n",
      "0    5\n",
      "1    6\n",
      "2    7\n",
      "Name: 閲覧数, dtype: int64\n",
      "\n",
      "\n",
      "1行目の全列を取得する。\n",
      " 閲覧数     1\n",
      "抽出数     1\n",
      "再現率    33\n",
      "Name: 0, dtype: object\n",
      "\n",
      "\n",
      "1~3行目の全列を取得する。\n",
      "    閲覧数  抽出数  再現率\n",
      "0    1  1.0   33\n",
      "1    2  2.0   66\n",
      "2    3  3.0  100\n",
      "3    4  NaN  終わり\n"
     ]
    }
   ],
   "source": [
    "# 特定の行列を指定する。\n",
    "# df.iloc[行, 列]　[http://ailaby.com/lox_iloc_ix/]\n",
    "# ilocは行列を番号で指定してデータを操作できる。なお、end番号はn-1となることに注意。\n",
    "\n",
    "display(df3)\n",
    "print('\\n')\n",
    "print('全行の1列目を取得する。\\n', df3.iloc[:, 0])\n",
    "print('\\n')\n",
    "print('1行目の全列を取得する。\\n', df3.iloc[0, :])\n",
    "print('\\n')\n",
    "print('1~3行目の全列を取得する。\\n', df3.iloc[0:4, :])\n"
   ]
  },
  {
   "cell_type": "code",
   "execution_count": 115,
   "metadata": {
    "collapsed": false
   },
   "outputs": [
    {
     "data": {
      "text/plain": [
       "(array([3, 6], dtype=int64),)"
      ]
     },
     "execution_count": 115,
     "metadata": {},
     "output_type": "execute_result"
    }
   ],
   "source": [
    "# 特定のデータを持つカラムのインデックスを表示する。\n",
    "# np.where(検索対象のdf)\n",
    "# isnull().valuesでNaNに関する真偽値のndarrayを返す。[https://pandas.pydata.org/pandas-docs/stable/generated/pandas.Series.values.html]。 \n",
    "# また、where(引数)でTrueとなるインデックスをndarrayに格納する。\n",
    "\n",
    "np.where(df3['抽出数'].isnull().values) #抽出数カラムでNaNの値を持つインデックスを表示する。"
   ]
  },
  {
   "cell_type": "code",
   "execution_count": 123,
   "metadata": {
    "collapsed": false
   },
   "outputs": [
    {
     "data": {
      "text/plain": [
       "[0, 2, 3]"
      ]
     },
     "execution_count": 123,
     "metadata": {},
     "output_type": "execute_result"
    }
   ],
   "source": [
    "# 欲しいデータのインデックスをリスト化する\n",
    "# df.index\n",
    "# df[カラム名] == 1で、1のデータを持つかどうか真偽値のndarrayを返す。\n",
    "df = pd.DataFrame([[1, 1, 33], \n",
    "                  [0,2,66], \n",
    "                  [1,3,100],\n",
    "                  [1, np.nan, '終わり']],\n",
    "                  columns = ['閲覧数', '抽出数', '再現率'])\n",
    "list(df[df['閲覧数'] == 1].index)"
   ]
  },
  {
   "cell_type": "code",
   "execution_count": 159,
   "metadata": {
    "collapsed": false
   },
   "outputs": [
    {
     "data": {
      "text/html": [
       "<div>\n",
       "<table border=\"1\" class=\"dataframe\">\n",
       "  <thead>\n",
       "    <tr style=\"text-align: right;\">\n",
       "      <th></th>\n",
       "      <th>A</th>\n",
       "      <th>B</th>\n",
       "      <th>C</th>\n",
       "      <th>D</th>\n",
       "    </tr>\n",
       "  </thead>\n",
       "  <tbody>\n",
       "    <tr>\n",
       "      <th>0</th>\n",
       "      <td>NaN</td>\n",
       "      <td>2.0</td>\n",
       "      <td>NaN</td>\n",
       "      <td>0.0</td>\n",
       "    </tr>\n",
       "    <tr>\n",
       "      <th>1</th>\n",
       "      <td>3.0</td>\n",
       "      <td>4.0</td>\n",
       "      <td>NaN</td>\n",
       "      <td>1.0</td>\n",
       "    </tr>\n",
       "    <tr>\n",
       "      <th>2</th>\n",
       "      <td>NaN</td>\n",
       "      <td>NaN</td>\n",
       "      <td>NaN</td>\n",
       "      <td>NaN</td>\n",
       "    </tr>\n",
       "  </tbody>\n",
       "</table>\n",
       "</div>"
      ],
      "text/plain": [
       "     A    B   C    D\n",
       "0  NaN  2.0 NaN  0.0\n",
       "1  3.0  4.0 NaN  1.0\n",
       "2  NaN  NaN NaN  NaN"
      ]
     },
     "metadata": {},
     "output_type": "display_data"
    },
    {
     "data": {
      "text/html": [
       "<div>\n",
       "<table border=\"1\" class=\"dataframe\">\n",
       "  <thead>\n",
       "    <tr style=\"text-align: right;\">\n",
       "      <th></th>\n",
       "      <th>A</th>\n",
       "      <th>B</th>\n",
       "      <th>C</th>\n",
       "      <th>D</th>\n",
       "    </tr>\n",
       "  </thead>\n",
       "  <tbody>\n",
       "    <tr>\n",
       "      <th>0</th>\n",
       "      <td>NaN</td>\n",
       "      <td>2.0</td>\n",
       "      <td>NaN</td>\n",
       "      <td>0.0</td>\n",
       "    </tr>\n",
       "    <tr>\n",
       "      <th>1</th>\n",
       "      <td>3.0</td>\n",
       "      <td>4.0</td>\n",
       "      <td>NaN</td>\n",
       "      <td>1.0</td>\n",
       "    </tr>\n",
       "  </tbody>\n",
       "</table>\n",
       "</div>"
      ],
      "text/plain": [
       "     A    B   C    D\n",
       "0  NaN  2.0 NaN  0.0\n",
       "1  3.0  4.0 NaN  1.0"
      ]
     },
     "execution_count": 159,
     "metadata": {},
     "output_type": "execute_result"
    }
   ],
   "source": [
    "# NaNを消す。\n",
    "# df.dropna(axis=0or1, how='all')\n",
    "#axis引数が0なら行単位（1なら列単位）でNaNを探して、該当行（該当列）を消す。また、how引数を'any'にすると、NaNがある行を削除する。\n",
    "nan = pd.DataFrame([[np.nan, 2, np.nan, 0], \n",
    "                   [3, 4, np.nan, 1],\n",
    "                   [np.nan, np.nan, np.nan, np.nan]],\n",
    "                   columns=list('ABCD'))\n",
    "display(nan)\n",
    "nan.dropna(axis=0, how='all') "
   ]
  },
  {
   "cell_type": "markdown",
   "metadata": {},
   "source": [
    "### NaN関連の便利な関数\n",
    "- df['カラム名'].isnull() #NaNの値をTrue, それ以外の値をFalseとして返す。\n",
    "- np.notnull() #NaNの値以外をTrue, NaNの値をFalseとして扱う。\n",
    "- fillna(value)　#fillnaはN/Aの値をvalueに置き換える関数。[https://pandas.pydata.org/pandas-docs/stable/generated/pandas.DataFrame.fillna.html]"
   ]
  },
  {
   "cell_type": "markdown",
   "metadata": {},
   "source": [
    "### modules\n",
    "- sys [https://docs.python.jp/3/library/sys.html]\n",
    " - .path.append('../my_modules') #モジュールを検索するパスを示す文字列のリスト\n",
    "- subprocess\n",
    "- codecs \n",
    "- Ipython.display\n",
    " - Javascript\n",
    " - HTML\n",
    " - display\n",
    "- automation\n",
    "- ipywidgets\n",
    " - interact\n",
    " - interactive\n",
    " - fixed\n",
    " - widgets\n",
    "- matplotlib.pyplot as plt\n",
    "- DataViewer\n",
    "- ReultModule_New\n",
    "  \n",
    "### functions\n",
    "- shutil.rmtree(path) #ディレクトリツリー全体を削除する。\n",
    "- copy.deepcopy()#ただの.copy()が参照先をコピーするのに対して、deepcopy()はコンテンツもコピーする。\n",
    "- json.load(f) #csvモジュールのreader()のjson版。これで、pythonのオブジェクトとしてjsonデータを扱えるようになる。\n",
    "- display() #引数に変数を指定することで、そのデータフレームを表示できる。from IPython.display import displayの必要性あり。\n",
    "\n",
    "\n",
    "- .iloc[:,0].apply(lambda x: pd.Series(x.split('\\t'))) #ilocは行列を番号で指定してデータを操作できる。ここでは、全行の1列目を対象に、.apply関数でlambda関数を実行する。lambda関数は、ここではタブ区切りのリストをデータフレームに格納すると書いてある。\n",
    "- reset_index()　#reset_indexはデータフレームのインデックスを振り直す関数。drop引数がTrueなら、古いインデックスをカラムに追加しないように指定できる。\n",
    "- np.mean(vals)#平均を返す。\n",
    "- np.std(vals, ddof=1)#標準偏差を返す。\n",
    "- np.min(vals)#最小値を返す。\n",
    "- np.max(vals)#最大値を返す。\n",
    "- map(int, inputs[2:5])　#map(関数名, 関数に渡す引数)。一括で関数処理したい時に使える。左の例だと、inputs[2:5]の3つの引数に対して、int()を実行する。\n",
    "\n",
    "- matplotlib関連\n",
    " - prp() #凡例のフォント\n",
    " - FontProperties(fname=FONT_PATH) #凡例以外のフォント\n",
    " - plt.figure()\n",
    " - plt.subplots()\n",
    " - fig.canvas.draw()\n",
    " - plt.rcParams[\"axes.spines.left\"] = True\n",
    " - plt.rcParams[\"axes.spines.bottom\"] = True\n",
    " - plt.rcParams[\"axes.spines.top\"] = True\n",
    " - plt.rcParams[\"axes.spines.right\"] = True\n",
    " - plt.rcParams[\"polaraxes.grid\"] = True\n",
    " - plt.rcParams[\"axes.formatter.useoffset\"] = True\n",
    " - plt.rcParams[\"axes.labelcolor\"] = \"black\"\n",
    " - plt.rcParams[\"xtick.color\"] = \"black\"\n",
    " - plt.rcParams[\"ytick.color\"] = \"black\"\n",
    " - plt.rcParams[\"text.color\"] = \"black\"\n",
    "- @interact() #インタラクティブなUIを生成する。 \n",
    "- (_df[\"HOT\"] + 0)左のように書くと、どういう処理になるのだろう。\n",
    "- no_text_num = len(np.where(input_data['text'].isnull().values)[0]) #isnull().valuesでndarrayを返す。[https://pandas.pydata.org/pandas-docs/stable/generated/pandas.Series.values.html]。 また、where(引数)でTrueとなるインデックスをndarrayに格納する。その数をlenで数え、格納する。\n",
    " \n",
    "### 略語\n",
    "- NaN：Not a Number。浮動小数点演算の結果として、不正なオペランドを与えられた際に生じる不定の値。\n",
    "- inf：無限"
   ]
  }
 ],
 "metadata": {
  "kernelspec": {
   "display_name": "Python 3",
   "language": "python",
   "name": "python3"
  },
  "language_info": {
   "codemirror_mode": {
    "name": "ipython",
    "version": 3
   },
   "file_extension": ".py",
   "mimetype": "text/x-python",
   "name": "python",
   "nbconvert_exporter": "python",
   "pygments_lexer": "ipython3",
   "version": "3.6.0"
  }
 },
 "nbformat": 4,
 "nbformat_minor": 2
}
