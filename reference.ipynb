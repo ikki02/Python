{
 "cells": [
  {
   "cell_type": "code",
   "execution_count": null,
   "metadata": {
    "collapsed": true
   },
   "outputs": [],
   "source": [
    "# ディレクトリとファイルの一覧を取得\n",
    "import os\n",
    "\n",
    "directory = os.listdir('C:\\sample')\n",
    "print(directory)"
   ]
  },
  {
   "cell_type": "code",
   "execution_count": null,
   "metadata": {
    "collapsed": true
   },
   "outputs": [],
   "source": [
    "# ファイル名一覧取得\n",
    "import os\n",
    " \n",
    "path = 'C:\\sample\\\\'  #ディレクトリ一覧を取得したいディレクトリ\n",
    "files = []\n",
    " \n",
    "# isfile()は引数で渡されたパスがファイルならTrue, そうでないならFalseを返す。\n",
    "for x in os.listdir(path):\n",
    "    if os.path.isfile(path + x):  ##パスに取り出したオブジェクトを足してフルパスに\n",
    "        files.append(x) \n",
    "    \n",
    "print(files)"
   ]
  },
  {
   "cell_type": "code",
   "execution_count": null,
   "metadata": {
    "collapsed": true
   },
   "outputs": [],
   "source": [
    "# ファイルの拡張子を指定してファイル取得\n",
    "# glob()は、ディレクトリ名だけでなく単体のファイル名を入れることが出来る。\n",
    "import glob\n",
    " \n",
    "path = 'C:\\sample\\\\*.txt'  #拡張子をアスタリスクで指定\n",
    "files = []\n",
    "\n",
    "files = glob.glob(path)\n",
    "\n",
    "print(files)"
   ]
  },
  {
   "cell_type": "code",
   "execution_count": null,
   "metadata": {
    "collapsed": true
   },
   "outputs": [],
   "source": [
    "# ローカルのcsvファイルの読み込み。\n",
    "import pandas as pd\n",
    "\n",
    "dataset3 = pd.read_csv(\"dfse.csv\", encoding=\"utf-8\") #便利なオプション① header=Noneで1行目をデータとして扱う。便利なオプション② engine=\"python\"でセパレータ（csvなら,）を自動解釈する。\n",
    "dataset3"
   ]
  },
  {
   "cell_type": "code",
   "execution_count": null,
   "metadata": {
    "collapsed": true
   },
   "outputs": [],
   "source": [
    "# ネットワーク上のcsvファイルの読み込み。\n",
    "import pandas as pd\n",
    "\n",
    "dataset3 = pd.read_csv(\"http://pythondatascience.plavox.info/wp-content/uploads/2016/05/sample_dataset.csv\") #\n",
    "dataset3"
   ]
  },
  {
   "cell_type": "code",
   "execution_count": null,
   "metadata": {
    "collapsed": true
   },
   "outputs": [],
   "source": [
    "# エクセルファイルの保存\n",
    ".to_excel()メソッド\n",
    "# 参考URL[https://www.datacamp.com/community/tutorials/python-excel-tutorial]\n",
    "# なお、複数のDataFrameを複数のワークシートに保存したい際は、XlsxWriterをインストールしている必要がある。\n",
    "\n",
    "import pandas as pd\n",
    "\n",
    "dataset3 = pd.read_csv(\"dfse.csv\", encoding=\"utf-8\")\n",
    "dataset3.to_excel(\"./test.xlsx\", index=False, encoding=\"utf-8\")"
   ]
  },
  {
   "cell_type": "code",
   "execution_count": null,
   "metadata": {
    "collapsed": true
   },
   "outputs": [],
   "source": [
    "# 変数の結合\n",
    ".concat(変数1, 変数2, axis=0or1)\n",
    "\n",
    "new_df = pd.concat([review_rate, recall], axis=1) # concat()のaxis引数は0なら行で、1なら列で引数を結合する。"
   ]
  },
  {
   "cell_type": "code",
   "execution_count": null,
   "metadata": {
    "collapsed": true
   },
   "outputs": [],
   "source": [
    "# pandasでソート\n",
    "    .sort_values()\n",
    "    例: df.sort_values(by=[\"スコア\"], ascending=True)"
   ]
  },
  {
   "cell_type": "markdown",
   "metadata": {
    "collapsed": true
   },
   "source": [
    "---\n",
    "modules\n",
    " - sys [https://docs.python.jp/3/library/sys.html]\n",
    "  - .path.append('../my_modules') #モジュールを検索するパスを示す文字列のリスト\n",
    " - subprocess\n",
    " - codecs\n",
    " - make_scoring_config\n",
    " - automation\n",
    " - ReultModule_New\n",
    " - Ipython.display\n",
    "  - Javascript\n",
    "  - HTML\n",
    "  - display\n",
    "  \n",
    "functions\n",
    " - map(int, inputs[2:5])"
   ]
  }
 ],
 "metadata": {
  "kernelspec": {
   "display_name": "Python 3",
   "language": "python",
   "name": "python3"
  },
  "language_info": {
   "codemirror_mode": {
    "name": "ipython",
    "version": 3
   },
   "file_extension": ".py",
   "mimetype": "text/x-python",
   "name": "python",
   "nbconvert_exporter": "python",
   "pygments_lexer": "ipython3",
   "version": "3.6.0"
  }
 },
 "nbformat": 4,
 "nbformat_minor": 2
}
