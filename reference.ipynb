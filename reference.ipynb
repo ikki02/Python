{
 "cells": [
  {
   "cell_type": "code",
   "execution_count": 6,
   "metadata": {
    "collapsed": false
   },
   "outputs": [
    {
     "data": {
      "text/html": [
       "<div>\n",
       "<table border=\"1\" class=\"dataframe\">\n",
       "  <thead>\n",
       "    <tr style=\"text-align: right;\">\n",
       "      <th></th>\n",
       "      <th>あああ</th>\n",
       "      <th>あああ.1</th>\n",
       "      <th>file3</th>\n",
       "      <th>あああ.2</th>\n",
       "      <th>あああ.3</th>\n",
       "      <th>あああ.4</th>\n",
       "      <th>あああ.5</th>\n",
       "      <th>111</th>\n",
       "      <th>あああ.6</th>\n",
       "      <th>あああ.7</th>\n",
       "      <th>あああ.8</th>\n",
       "      <th>あああ.9</th>\n",
       "      <th>あああ.10</th>\n",
       "      <th>あああ.11</th>\n",
       "      <th>あああ.12</th>\n",
       "      <th>あああ.13</th>\n",
       "      <th>あああ.14</th>\n",
       "      <th>あああ.15</th>\n",
       "    </tr>\n",
       "  </thead>\n",
       "  <tbody>\n",
       "    <tr>\n",
       "      <th>0</th>\n",
       "      <td>いいいい</td>\n",
       "      <td>いいいい</td>\n",
       "      <td>file3</td>\n",
       "      <td>いいいい</td>\n",
       "      <td>いいいい</td>\n",
       "      <td>いいいい</td>\n",
       "      <td>いいいい</td>\n",
       "      <td>222</td>\n",
       "      <td>いいいい</td>\n",
       "      <td>いいいい</td>\n",
       "      <td>いいいい</td>\n",
       "      <td>いいいい</td>\n",
       "      <td>いいいい</td>\n",
       "      <td>いいいい</td>\n",
       "      <td>いいいい</td>\n",
       "      <td>いいいい</td>\n",
       "      <td>いいいい</td>\n",
       "      <td>いいいい</td>\n",
       "    </tr>\n",
       "    <tr>\n",
       "      <th>1</th>\n",
       "      <td>ううう</td>\n",
       "      <td>ううう</td>\n",
       "      <td>file3</td>\n",
       "      <td>ううう</td>\n",
       "      <td>ううう</td>\n",
       "      <td>ううう</td>\n",
       "      <td>ううう</td>\n",
       "      <td>333</td>\n",
       "      <td>ううう</td>\n",
       "      <td>ううう</td>\n",
       "      <td>ううう</td>\n",
       "      <td>ううう</td>\n",
       "      <td>ううう</td>\n",
       "      <td>ううう</td>\n",
       "      <td>ううう</td>\n",
       "      <td>ううう</td>\n",
       "      <td>ううう</td>\n",
       "      <td>ううう</td>\n",
       "    </tr>\n",
       "  </tbody>\n",
       "</table>\n",
       "</div>"
      ],
      "text/plain": [
       "    あああ あああ.1  file3 あああ.2 あああ.3 あああ.4 あああ.5  111 あああ.6 あああ.7 あああ.8 あああ.9  \\\n",
       "0  いいいい  いいいい  file3  いいいい  いいいい  いいいい  いいいい  222  いいいい  いいいい  いいいい  いいいい   \n",
       "1   ううう   ううう  file3   ううう   ううう   ううう   ううう  333   ううう   ううう   ううう   ううう   \n",
       "\n",
       "  あああ.10 あああ.11 あああ.12 あああ.13 あああ.14 あああ.15  \n",
       "0   いいいい   いいいい   いいいい   いいいい   いいいい   いいいい  \n",
       "1    ううう    ううう    ううう    ううう    ううう    ううう  "
      ]
     },
     "execution_count": 6,
     "metadata": {},
     "output_type": "execute_result"
    }
   ],
   "source": [
    "# ローカルのcsvファイルの読み込み。\n",
    "import pandas as pd\n",
    "\n",
    "dataset3 = pd.read_csv(\"dfse.csv\", encoding=\"utf-8\") #便利なオプション① header=Noneで1行目をデータとして扱う。便利なオプション② engine=\"python\"でセパレータ（csvなら,）を自動解釈する。\n",
    "# dataset3 = pd.read_csv(\"http://pythondatascience.plavox.info/wp-content/uploads/2016/05/sample_dataset.csv\") #ネットワーク上のcsvファイル読み込みはこちら。\n",
    "dataset3"
   ]
  },
  {
   "cell_type": "code",
   "execution_count": 22,
   "metadata": {
    "collapsed": true
   },
   "outputs": [],
   "source": [
    "# エクセルファイルの保存\n",
    "# .to_excel()メソッド\n",
    "# 参考URL[https://www.datacamp.com/community/tutorials/python-excel-tutorial]\n",
    "\n",
    "import pandas as pd\n",
    "\n",
    "dataset3 = pd.read_csv(\"dfse.csv\", encoding=\"utf-8\")\n",
    "dataset3.to_excel(\"./test.xlsx\", index=False, encoding=\"UTF-8-sig\")#UTF-8-sigとすることで、BOM付きにできる。他の文字コード例：'UTF-8', 'SHIFT-JIS', 'CP932'\n",
    "# dataset3.to_csv(\"./test.csv\", index=False, encoding=\"UTF-8-sig\")#csv保存はこちら。"
   ]
  },
  {
   "cell_type": "markdown",
   "metadata": {},
   "source": [
    "### なお、複数のDataFrameを複数のワークシートに保存したい際は、XlsxWriterをインストールしている必要がある。\n",
    "        \n",
    "    # Install `XlsxWriter` \n",
    "    pip install XlsxWriter\n",
    "\n",
    "    # Specify a writer\n",
    "    writer = pd.ExcelWriter('example.xlsx', engine='xlsxwriter')\n",
    "\n",
    "    # Write your DataFrame to a file     \n",
    "    yourData.to_excel(writer, 'Sheet1')\n",
    "\n",
    "    # Save the result \n",
    "    writer.save()"
   ]
  },
  {
   "cell_type": "code",
   "execution_count": null,
   "metadata": {
    "collapsed": true
   },
   "outputs": [],
   "source": [
    "# 変数の結合\n",
    "# .concat(変数1, 変数2, axis=0or1)\n",
    "#他の例： pd.merge() #データの中身を何かのキーの値（docIDなど）で紐付けて繋げる。concate()は、データの中身をある方向にそのまま繋げる。\n",
    "\n",
    "new_df = pd.concat([review_rate, recall], axis=1) # concat()のaxis引数は0なら行で、1なら列で引数を結合する。"
   ]
  },
  {
   "cell_type": "code",
   "execution_count": null,
   "metadata": {
    "collapsed": true
   },
   "outputs": [],
   "source": [
    "# pandasでソート\n",
    "# .sort_values()\n",
    "\n",
    "df.sort_values(by=[\"スコア\"], ascending=True)"
   ]
  },
  {
   "cell_type": "code",
   "execution_count": 2,
   "metadata": {
    "collapsed": false
   },
   "outputs": [
    {
     "data": {
      "text/html": [
       "<div>\n",
       "<table border=\"1\" class=\"dataframe\">\n",
       "  <thead>\n",
       "    <tr style=\"text-align: right;\">\n",
       "      <th></th>\n",
       "      <th>Yes</th>\n",
       "      <th>We can</th>\n",
       "      <th>閲覧率</th>\n",
       "    </tr>\n",
       "  </thead>\n",
       "  <tbody>\n",
       "    <tr>\n",
       "      <th>0</th>\n",
       "      <td>test1</td>\n",
       "      <td>test2</td>\n",
       "      <td>3</td>\n",
       "    </tr>\n",
       "    <tr>\n",
       "      <th>1</th>\n",
       "      <td>?</td>\n",
       "      <td>NaN</td>\n",
       "      <td>すごい</td>\n",
       "    </tr>\n",
       "    <tr>\n",
       "      <th>2</th>\n",
       "      <td>NaN</td>\n",
       "      <td>3.14</td>\n",
       "      <td>NaN</td>\n",
       "    </tr>\n",
       "    <tr>\n",
       "      <th>3</th>\n",
       "      <td>hoge</td>\n",
       "      <td>1</td>\n",
       "      <td>NaN</td>\n",
       "    </tr>\n",
       "  </tbody>\n",
       "</table>\n",
       "</div>"
      ],
      "text/plain": [
       "     Yes We can  閲覧率\n",
       "0  test1  test2    3\n",
       "1      ?    NaN  すごい\n",
       "2    NaN   3.14  NaN\n",
       "3   hoge      1  NaN"
      ]
     },
     "execution_count": 2,
     "metadata": {},
     "output_type": "execute_result"
    }
   ],
   "source": [
    "# データフレームを作成する。\n",
    "import pandas as pd\n",
    "import numpy as np\n",
    "\n",
    "df = pd.DataFrame([['test1', 'test2', 3], \n",
    "                 ['?',np.nan,'すごい'], \n",
    "                 [np.nan,3.14,np.nan],\n",
    "                  ['hoge', 1, np.nan]],\n",
    "                 columns = ['Yes', 'We can', '閲覧率'])\n",
    "\n",
    "df"
   ]
  },
  {
   "cell_type": "code",
   "execution_count": 8,
   "metadata": {
    "collapsed": false
   },
   "outputs": [
    {
     "data": {
      "text/plain": [
       "(array([2], dtype=int64),)"
      ]
     },
     "execution_count": 8,
     "metadata": {},
     "output_type": "execute_result"
    }
   ],
   "source": [
    "np.where(df['Yes'].isnull().values)"
   ]
  },
  {
   "cell_type": "code",
   "execution_count": 53,
   "metadata": {
    "collapsed": false
   },
   "outputs": [
    {
     "data": {
      "text/html": [
       "<div>\n",
       "<table border=\"1\" class=\"dataframe\">\n",
       "  <thead>\n",
       "    <tr style=\"text-align: right;\">\n",
       "      <th></th>\n",
       "      <th>Hot</th>\n",
       "      <th>Not</th>\n",
       "      <th>test</th>\n",
       "    </tr>\n",
       "  </thead>\n",
       "  <tbody>\n",
       "    <tr>\n",
       "      <th>0</th>\n",
       "      <td>1</td>\n",
       "      <td>0</td>\n",
       "      <td>1</td>\n",
       "    </tr>\n",
       "    <tr>\n",
       "      <th>1</th>\n",
       "      <td>1</td>\n",
       "      <td>0</td>\n",
       "      <td>0</td>\n",
       "    </tr>\n",
       "    <tr>\n",
       "      <th>2</th>\n",
       "      <td>0</td>\n",
       "      <td>1</td>\n",
       "      <td>1</td>\n",
       "    </tr>\n",
       "    <tr>\n",
       "      <th>3</th>\n",
       "      <td>1</td>\n",
       "      <td>1</td>\n",
       "      <td>0</td>\n",
       "    </tr>\n",
       "    <tr>\n",
       "      <th>4</th>\n",
       "      <td>0</td>\n",
       "      <td>0</td>\n",
       "      <td>0</td>\n",
       "    </tr>\n",
       "  </tbody>\n",
       "</table>\n",
       "</div>"
      ],
      "text/plain": [
       "   Hot  Not  test\n",
       "0    1    0     1\n",
       "1    1    0     0\n",
       "2    0    1     1\n",
       "3    1    1     0\n",
       "4    0    0     0"
      ]
     },
     "execution_count": 53,
     "metadata": {},
     "output_type": "execute_result"
    }
   ],
   "source": [
    "df = pd.DataFrame([[1, 0, 1], \n",
    "                 [1,0,0], \n",
    "                 [0,1,1],\n",
    "                  [1, 1, 0],\n",
    "                  [0,0,0]],\n",
    "                 columns = ['Hot', 'Not', 'test'])\n",
    "\n",
    "df"
   ]
  },
  {
   "cell_type": "code",
   "execution_count": 54,
   "metadata": {
    "collapsed": false
   },
   "outputs": [
    {
     "name": "stdout",
     "output_type": "stream",
     "text": [
      "[WARN] ALL FLAG 0 DATA DELETED: 1\n"
     ]
    }
   ],
   "source": [
    "all_0_indexes = []\n",
    "for i in range(len(df)):\n",
    "    hot_val = df['Hot'].values[i]\n",
    "    not_val = df['Not'].values[i]\n",
    "    test_val = df['test'].values[i]\n",
    "    if sum([hot_val, not_val] + test_val) == 0:\n",
    "        all_0_indexes.append(i)\n",
    "    if len(all_0_indexes) > 0:\n",
    "        df = df.drop(all_0_indexes)\n",
    "        print('[WARN] ALL FLAG 0 DATA DELETED: %s' % len(all_0_indexes))"
   ]
  },
  {
   "cell_type": "code",
   "execution_count": 66,
   "metadata": {
    "collapsed": false
   },
   "outputs": [
    {
     "data": {
      "text/plain": [
       "[2]"
      ]
     },
     "execution_count": 66,
     "metadata": {},
     "output_type": "execute_result"
    }
   ],
   "source": [
    "list(df[df['Hot'] == 0].index)"
   ]
  },
  {
   "cell_type": "code",
   "execution_count": 56,
   "metadata": {
    "collapsed": false
   },
   "outputs": [
    {
     "ename": "TypeError",
     "evalue": "'numpy.int64' object is not iterable",
     "output_type": "error",
     "traceback": [
      "\u001b[0;31m---------------------------------------------------------------------------\u001b[0m",
      "\u001b[0;31mTypeError\u001b[0m                                 Traceback (most recent call last)",
      "\u001b[0;32m<ipython-input-56-b93feb0a146c>\u001b[0m in \u001b[0;36m<module>\u001b[0;34m()\u001b[0m\n\u001b[1;32m      1\u001b[0m \u001b[0mtrain_indexes\u001b[0m \u001b[1;33m=\u001b[0m \u001b[1;33m[\u001b[0m\u001b[1;33m]\u001b[0m\u001b[1;33m\u001b[0m\u001b[0m\n\u001b[0;32m----> 2\u001b[0;31m \u001b[1;32mfor\u001b[0m \u001b[0mi\u001b[0m\u001b[1;33m,\u001b[0m \u001b[0mtest_column\u001b[0m \u001b[1;32min\u001b[0m \u001b[0menumerate\u001b[0m\u001b[1;33m(\u001b[0m\u001b[0mtest_val\u001b[0m\u001b[1;33m)\u001b[0m\u001b[1;33m:\u001b[0m\u001b[1;33m\u001b[0m\u001b[0m\n\u001b[0m\u001b[1;32m      3\u001b[0m             \u001b[1;32mif\u001b[0m \u001b[0mi\u001b[0m \u001b[1;33m==\u001b[0m \u001b[1;36m0\u001b[0m\u001b[1;33m:\u001b[0m\u001b[1;33m\u001b[0m\u001b[0m\n\u001b[1;32m      4\u001b[0m                 train_indexes = list(\n\u001b[1;32m      5\u001b[0m                     input_data[input_data[test_column] == 0].index)\n",
      "\u001b[0;31mTypeError\u001b[0m: 'numpy.int64' object is not iterable"
     ]
    }
   ],
   "source": [
    "train_indexes = []\n",
    "for i, test_column in enumerate(test_val):\n",
    "            if i == 0:\n",
    "                train_indexes = list(\n",
    "                    input_data[input_data[test_column] == 0].index)\n",
    "            else:\n",
    "                train_indexes = list(\n",
    "                    set(train_indexes) &\n",
    "                    set(input_data[input_data[test_column] == 0].index))"
   ]
  },
  {
   "cell_type": "code",
   "execution_count": 4,
   "metadata": {
    "collapsed": false
   },
   "outputs": [
    {
     "data": {
      "text/html": [
       "<div>\n",
       "<table border=\"1\" class=\"dataframe\">\n",
       "  <thead>\n",
       "    <tr style=\"text-align: right;\">\n",
       "      <th></th>\n",
       "      <th>閲覧数</th>\n",
       "      <th>再現率</th>\n",
       "      <th>理想</th>\n",
       "    </tr>\n",
       "  </thead>\n",
       "  <tbody>\n",
       "    <tr>\n",
       "      <th>0</th>\n",
       "      <td>1.0</td>\n",
       "      <td>0.8</td>\n",
       "      <td>1.3</td>\n",
       "    </tr>\n",
       "    <tr>\n",
       "      <th>1</th>\n",
       "      <td>1.2</td>\n",
       "      <td>1.4</td>\n",
       "      <td>1.4</td>\n",
       "    </tr>\n",
       "    <tr>\n",
       "      <th>2</th>\n",
       "      <td>3.4</td>\n",
       "      <td>3.2</td>\n",
       "      <td>2.9</td>\n",
       "    </tr>\n",
       "    <tr>\n",
       "      <th>3</th>\n",
       "      <td>4.1</td>\n",
       "      <td>4.3</td>\n",
       "      <td>3.8</td>\n",
       "    </tr>\n",
       "    <tr>\n",
       "      <th>4</th>\n",
       "      <td>8.2</td>\n",
       "      <td>7.9</td>\n",
       "      <td>9.4</td>\n",
       "    </tr>\n",
       "  </tbody>\n",
       "</table>\n",
       "</div>"
      ],
      "text/plain": [
       "   閲覧数  再現率   理想\n",
       "0  1.0  0.8  1.3\n",
       "1  1.2  1.4  1.4\n",
       "2  3.4  3.2  2.9\n",
       "3  4.1  4.3  3.8\n",
       "4  8.2  7.9  9.4"
      ]
     },
     "execution_count": 4,
     "metadata": {},
     "output_type": "execute_result"
    }
   ],
   "source": [
    "# データフレームのカラムを変更する。\n",
    "df = pd.DataFrame({'A': [1.0, 1.2, 3.4, 4.1, 8.2],\n",
    "                   'B': [0.8, 1.4, 3.2, 4.3, 7.9],\n",
    "                   'C': [1.3, 1.4, 2.9, 3.8, 9.4]})\n",
    "df.columns = ['閲覧数', '再現率','理想']\n",
    "df"
   ]
  },
  {
   "cell_type": "code",
   "execution_count": 3,
   "metadata": {
    "collapsed": false
   },
   "outputs": [
    {
     "data": {
      "text/html": [
       "<div>\n",
       "<table border=\"1\" class=\"dataframe\">\n",
       "  <thead>\n",
       "    <tr style=\"text-align: right;\">\n",
       "      <th></th>\n",
       "      <th>A</th>\n",
       "      <th>B</th>\n",
       "      <th>C</th>\n",
       "      <th>D</th>\n",
       "    </tr>\n",
       "  </thead>\n",
       "  <tbody>\n",
       "    <tr>\n",
       "      <th>0</th>\n",
       "      <td>NaN</td>\n",
       "      <td>2.0</td>\n",
       "      <td>NaN</td>\n",
       "      <td>0.0</td>\n",
       "    </tr>\n",
       "    <tr>\n",
       "      <th>1</th>\n",
       "      <td>3.0</td>\n",
       "      <td>4.0</td>\n",
       "      <td>NaN</td>\n",
       "      <td>1.0</td>\n",
       "    </tr>\n",
       "  </tbody>\n",
       "</table>\n",
       "</div>"
      ],
      "text/plain": [
       "     A    B   C    D\n",
       "0  NaN  2.0 NaN  0.0\n",
       "1  3.0  4.0 NaN  1.0"
      ]
     },
     "execution_count": 3,
     "metadata": {},
     "output_type": "execute_result"
    }
   ],
   "source": [
    "# NaNを消す。\n",
    "df = pd.DataFrame([[np.nan, 2, np.nan, 0], [3, 4, np.nan, 1],\n",
    "                    [np.nan, np.nan, np.nan, np.nan]],\n",
    "                   columns=list('ABCD'))\n",
    "df\n",
    "\n",
    "df.dropna(axis=0, how='all') #axis引数が0なら行単位（1なら列単位）でNaNを探して、該当行（該当列）を消す。また、how引数を'any'にすると、NaNがある行を削除する。\n",
    "\n",
    "- fillna()　#fillnaはN/Aの値を0に置き換える関数。[https://pandas.pydata.org/pandas-docs/stable/generated/pandas.DataFrame.fillna.html]\n",
    "- df['カラム名'].isnull() #NaNの値をTrue, それ以外の値をFalseとして返す。\n",
    "- no_text_num = len(np.where(input_data['text'].isnull().values)[0]) #isnull().valuesでndarrayを返す。[https://pandas.pydata.org/pandas-docs/stable/generated/pandas.Series.values.html]。また、where(引数)でTrueとなるインデックスをndarrayに格納する。その数をlenで数え、格納する。ぶっちゃけ、np.where入らない気もするが。。。\n",
    "- np.notnull() #NaNの値以外をTrue, NaNの値をFalseとして扱う。"
   ]
  },
  {
   "cell_type": "markdown",
   "metadata": {},
   "source": [
    "### modules\n",
    "- sys [https://docs.python.jp/3/library/sys.html]\n",
    " - .path.append('../my_modules') #モジュールを検索するパスを示す文字列のリスト\n",
    "- subprocess\n",
    "- codecs \n",
    "- Ipython.display\n",
    " - Javascript\n",
    " - HTML\n",
    " - display\n",
    "- automation\n",
    "- ipywidgets\n",
    " - interact\n",
    " - interactive\n",
    " - fixed\n",
    " - widgets\n",
    "- matplotlib.pyplot as plt\n",
    "- DataViewer\n",
    "- ReultModule_New\n",
    "  \n",
    "### functions\n",
    "- json.load(f) #csvモジュールのreader()のjson版。これで、pythonのオブジェクトとしてjsonデータを扱えるようになる。\n",
    "- map(int, inputs[2:5])　#map(関数名, 関数に渡す引数)。一括で関数処理したい時に使える。左の例だと、inputs[2:5]の3つの引数に対して、int()を実行する。\n",
    "- reset_index()　#reset_indexはデータフレームのインデックスを振り直す関数。drop引数がTrueなら、古いインデックスをカラムに追加しないように指定できる。\n",
    "- display() #引数に変数を指定することで、そのデータフレームを表示できる。from IPython.display import displayの必要性あり。\n",
    "- .iloc[:,0].apply(lambda x: pd.Series(x.split('\\t'))) #ilocは行列を番号で指定してデータを操作できる。ここでは、全行の1列目を対象に、.apply関数でlambda関数を実行する。lambda関数は、ここではタブ区切りのリストをデータフレームに格納すると書いてある。\n",
    "- データフレーム.isin(リストor辞書) #オブジェクトに、引数のリストまたは辞書（なお、辞書のキーは、オブジェクトのヘッダとマッチしなければならない）の値が含まれている場合Trueを、含まれていない場合Falseを返す。\n",
    "         >>> df = DataFrame({'A': [1, 2, 3], 'B': ['a', 'b', 'f']})\n",
    "         >>> df.isin([1, 3, 12, 'a'])\n",
    "                    A      B\n",
    "               0   True   True\n",
    "               1  False  False\n",
    "               2   True  False\n",
    "- shutil.rmtree(path) #ディレクトリツリー全体を削除する。\n",
    "- copy.deepcopy()#ただの.copy()が参照先をコピーするのに対して、deepcopy()はコンテンツもコピーする。\n",
    "- np.mean(vals)#平均を返す。\n",
    "- np.std(vals, ddof=1)#標準偏差を返す。\n",
    "- np.min(vals)#最小値を返す。\n",
    "- np.max(vals)#最大値を返す。\n",
    "- @interact() #インタラクティブなUIを生成する。 \n",
    "- matplotlib関連\n",
    " - prp() #凡例のフォント\n",
    " - FontProperties(fname=FONT_PATH) #凡例以外のフォント\n",
    " - plt.figure()\n",
    " - plt.subplots()\n",
    " - fig.canvas.draw()\n",
    " - plt.rcParams[\"axes.spines.left\"] = True\n",
    " - plt.rcParams[\"axes.spines.bottom\"] = True\n",
    " - plt.rcParams[\"axes.spines.top\"] = True\n",
    " - plt.rcParams[\"axes.spines.right\"] = True\n",
    " - plt.rcParams[\"polaraxes.grid\"] = True\n",
    " - plt.rcParams[\"axes.formatter.useoffset\"] = True\n",
    " - plt.rcParams[\"axes.labelcolor\"] = \"black\"\n",
    " - plt.rcParams[\"xtick.color\"] = \"black\"\n",
    " - plt.rcParams[\"ytick.color\"] = \"black\"\n",
    " - plt.rcParams[\"text.color\"] = \"black\"\n",
    "- (_df[\"HOT\"] + 0)左のように書くと、どういう処理になるのだろう。\n",
    "- _df.to_csv(result_file, encoding=\"utf-8-sig\", index=False) #utf-8-sigとすることで、文字化けしない？\n",
    " \n",
    "### 略語\n",
    "- NaN：Not a Number。浮動小数点演算の結果として、不正なオペランドを与えられた際に生じる不定の値。\n",
    "- inf：無限"
   ]
  }
 ],
 "metadata": {
  "kernelspec": {
   "display_name": "Python 3",
   "language": "python",
   "name": "python3"
  },
  "language_info": {
   "codemirror_mode": {
    "name": "ipython",
    "version": 3
   },
   "file_extension": ".py",
   "mimetype": "text/x-python",
   "name": "python",
   "nbconvert_exporter": "python",
   "pygments_lexer": "ipython3",
   "version": "3.6.0"
  }
 },
 "nbformat": 4,
 "nbformat_minor": 2
}
