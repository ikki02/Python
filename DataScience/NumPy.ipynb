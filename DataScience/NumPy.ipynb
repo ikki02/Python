{
 "cells": [
  {
   "cell_type": "markdown",
   "metadata": {},
   "source": [
    "# Numpyの関数をまとめる。\n",
    "### Table of Contents\n",
    "- Numpy Basics:Arrays\n",
    "- The Numpy ndarray: A multidimensional Array Object\n",
    "- Creating ndarray\n",
    "- Basic Indexing and slicing\n",
    "- Indexing with slices\n",
    "- Boolean Indexing\n",
    "- Fancy Indexing\n",
    "- Transposing Arrays and Swapping Axis\n",
    "- Unique and other set logic\n",
    "- 便利な統計の関数\n",
    "- ブロードキャスト\n",
    "- 確率分布に基づいた乱数生成\n",
    "- 線形代数の関数\n",
    "- 乱数"
   ]
  },
  {
   "cell_type": "markdown",
   "metadata": {},
   "source": [
    "### NumPy Basics: Arrays"
   ]
  },
  {
   "cell_type": "code",
   "execution_count": 1,
   "metadata": {},
   "outputs": [],
   "source": [
    "#設定\n",
    "import numpy as np\n",
    "import matplotlib.pyplot as plt\n",
    "from IPython.display import display\n",
    "np.random.seed(12345)\n",
    "plt.rc('figure', figsize=(10, 6))\n",
    "np.set_printoptions(precision=4, suppress=True)"
   ]
  },
  {
   "cell_type": "code",
   "execution_count": 2,
   "metadata": {},
   "outputs": [
    {
     "name": "stdout",
     "output_type": "stream",
     "text": [
      "CPU times: user 15.9 ms, sys: 11.3 ms, total: 27.2 ms\n",
      "Wall time: 27.2 ms\n",
      "CPU times: user 584 ms, sys: 168 ms, total: 752 ms\n",
      "Wall time: 754 ms\n"
     ]
    }
   ],
   "source": [
    "# NumPyを使うとリストより早い。\n",
    "import numpy as np\n",
    "my_arr = np.arange(1000000)\n",
    "my_list = list(range(1000000))\n",
    "\n",
    "%time for _ in range(10): my_arr2 = my_arr * 2\n",
    "%time for _ in range(10): my_list2 = [x * 2 for x in my_list]"
   ]
  },
  {
   "cell_type": "markdown",
   "metadata": {},
   "source": [
    "### The NumPy ndarray: A Multidimensional Array Object"
   ]
  },
  {
   "cell_type": "code",
   "execution_count": 3,
   "metadata": {},
   "outputs": [
    {
     "data": {
      "text/plain": [
       "array([[-0.2047,  0.4789, -0.5194],\n",
       "       [-0.5557,  1.9658,  1.3934]])"
      ]
     },
     "execution_count": 3,
     "metadata": {},
     "output_type": "execute_result"
    }
   ],
   "source": [
    "import numpy as np\n",
    "# Generate some random ndarray data\n",
    "data = np.random.randn(2, 3)\n",
    "data"
   ]
  },
  {
   "cell_type": "code",
   "execution_count": 4,
   "metadata": {},
   "outputs": [
    {
     "data": {
      "text/plain": [
       "array([[-2.0471,  4.7894, -5.1944],\n",
       "       [-5.5573, 19.6578, 13.9341]])"
      ]
     },
     "execution_count": 4,
     "metadata": {},
     "output_type": "execute_result"
    }
   ],
   "source": [
    "# ベクトル演算\n",
    "# ndarrayは、各要素を計算するときにfor文を書く必要がない。一括で計算してくれる。\n",
    "data * 10"
   ]
  },
  {
   "cell_type": "code",
   "execution_count": 5,
   "metadata": {},
   "outputs": [
    {
     "data": {
      "text/plain": [
       "array([[-0.4094,  0.9579, -1.0389],\n",
       "       [-1.1115,  3.9316,  2.7868]])"
      ]
     },
     "execution_count": 5,
     "metadata": {},
     "output_type": "execute_result"
    }
   ],
   "source": [
    "data + data"
   ]
  },
  {
   "cell_type": "code",
   "execution_count": 6,
   "metadata": {},
   "outputs": [
    {
     "data": {
      "text/plain": [
       "(2, 3)"
      ]
     },
     "execution_count": 6,
     "metadata": {},
     "output_type": "execute_result"
    }
   ],
   "source": [
    "# 配列次元数とそのサイズを格納するタプル\n",
    "data.shape"
   ]
  },
  {
   "cell_type": "code",
   "execution_count": 7,
   "metadata": {},
   "outputs": [
    {
     "name": "stdout",
     "output_type": "stream",
     "text": [
      "2\n",
      "6\n"
     ]
    }
   ],
   "source": [
    "# 配列の情報を抽出する。\n",
    "print(data.ndim)  #配列の次元数\n",
    "print(data.size)  #配列の要素数合計"
   ]
  },
  {
   "cell_type": "code",
   "execution_count": 8,
   "metadata": {},
   "outputs": [
    {
     "name": "stdout",
     "output_type": "stream",
     "text": [
      "[[-0.2047  0.4789]\n",
      " [-0.5194 -0.5557]\n",
      " [ 1.9658  1.3934]]\n"
     ]
    }
   ],
   "source": [
    "# 指定した次元数に直す。\n",
    "print(data.reshape(3,2))"
   ]
  },
  {
   "cell_type": "code",
   "execution_count": 9,
   "metadata": {},
   "outputs": [
    {
     "data": {
      "text/plain": [
       "array([[-0.2047,  0.4789],\n",
       "       [-0.5194, -0.5557],\n",
       "       [ 1.9658,  1.3934]])"
      ]
     },
     "execution_count": 9,
     "metadata": {},
     "output_type": "execute_result"
    }
   ],
   "source": [
    "# 列数自動で形状を変更できる。\n",
    "data.reshape(3, -1)  #自動で計算する際は引数に-1を与える。"
   ]
  },
  {
   "cell_type": "code",
   "execution_count": 10,
   "metadata": {},
   "outputs": [
    {
     "data": {
      "text/plain": [
       "array([[[-0.2047,  0.4789, -0.5194]],\n",
       "\n",
       "       [[-0.5557,  1.9658,  1.3934]]])"
      ]
     },
     "execution_count": 10,
     "metadata": {},
     "output_type": "execute_result"
    }
   ],
   "source": [
    "# （応用）np.newaxisを用いた次元の自動拡張\n",
    "# ベクトルや行列の演算をする際、例えばa+bの計算をする際、a[:, np.newaxis]と書くことで、bの次元数を考慮して、aの次元を調整してくれる。\n",
    "# （参考）https://qiita.com/rtok/items/10f803a226892a760d75\n",
    "data[:, np.newaxis]  #np.newaxisはNoneのエイリアス（言い換え）。つまり、data[:, None]と同値。ただし、newaxisと書いた方が分かりやすい。"
   ]
  },
  {
   "cell_type": "code",
   "execution_count": 11,
   "metadata": {},
   "outputs": [
    {
     "data": {
      "text/plain": [
       "array([-0.2047,  0.4789, -0.5194, -0.5557,  1.9658,  1.3934])"
      ]
     },
     "execution_count": 11,
     "metadata": {},
     "output_type": "execute_result"
    }
   ],
   "source": [
    "# 1次元配列に戻す。\n",
    "data.ravel()  #data.reshape(-1)と書いても同じ。"
   ]
  },
  {
   "cell_type": "code",
   "execution_count": 12,
   "metadata": {},
   "outputs": [
    {
     "data": {
      "text/plain": [
       "dtype('float64')"
      ]
     },
     "execution_count": 12,
     "metadata": {},
     "output_type": "execute_result"
    }
   ],
   "source": [
    "# 配列要素に期待する型を示す\n",
    "data.dtype"
   ]
  },
  {
   "cell_type": "markdown",
   "metadata": {},
   "source": [
    "### Creating ndarrays"
   ]
  },
  {
   "cell_type": "code",
   "execution_count": 13,
   "metadata": {},
   "outputs": [
    {
     "data": {
      "text/plain": [
       "array([6. , 7.5, 8. , 0. , 1. ])"
      ]
     },
     "execution_count": 13,
     "metadata": {},
     "output_type": "execute_result"
    }
   ],
   "source": [
    "# リストを作ってndarrayにする。\n",
    "data1 = [6, 7.5, 8, 0, 1]\n",
    "arr1 = np.array(data1)\n",
    "arr1"
   ]
  },
  {
   "cell_type": "code",
   "execution_count": 14,
   "metadata": {},
   "outputs": [
    {
     "data": {
      "text/plain": [
       "array([[1, 2, 3, 4],\n",
       "       [5, 6, 7, 8]])"
      ]
     },
     "execution_count": 14,
     "metadata": {},
     "output_type": "execute_result"
    }
   ],
   "source": [
    "# リストをネストさせることで、2次元配列（行列）を作れる。\n",
    "data2 = [[1, 2, 3, 4], [5, 6, 7, 8]]\n",
    "arr2 = np.array(data2)\n",
    "arr2"
   ]
  },
  {
   "cell_type": "code",
   "execution_count": 15,
   "metadata": {},
   "outputs": [
    {
     "name": "stdout",
     "output_type": "stream",
     "text": [
      "[0. 0. 0. 0. 0. 0. 0. 0. 0. 0.]\n",
      "[1. 1. 1. 1. 1. 1. 1. 1. 1. 1.]\n"
     ]
    }
   ],
   "source": [
    "# ndarrayの作り方1\n",
    "print(np.zeros(10))\n",
    "print(np.ones(10))"
   ]
  },
  {
   "cell_type": "code",
   "execution_count": 16,
   "metadata": {},
   "outputs": [
    {
     "data": {
      "text/plain": [
       "array([[0., 0., 0., 0., 0., 0.],\n",
       "       [0., 0., 0., 0., 0., 0.],\n",
       "       [0., 0., 0., 0., 0., 0.]])"
      ]
     },
     "execution_count": 16,
     "metadata": {},
     "output_type": "execute_result"
    }
   ],
   "source": [
    "# ndarrayの作り方2\n",
    "# 生成するndarrayのshapeを第一引数に渡す。\n",
    "np.zeros((3, 6))"
   ]
  },
  {
   "cell_type": "code",
   "execution_count": 17,
   "metadata": {},
   "outputs": [
    {
     "data": {
      "text/plain": [
       "array([[[ 0.0000e+000,  0.0000e+000],\n",
       "        [ 0.0000e+000,  0.0000e+000],\n",
       "        [ 0.0000e+000,  0.0000e+000]],\n",
       "\n",
       "       [[ 0.0000e+000,  0.0000e+000],\n",
       "        [-2.6816e+154, -2.6816e+154],\n",
       "        [-2.6816e+154, -2.6816e+154]]])"
      ]
     },
     "execution_count": 17,
     "metadata": {},
     "output_type": "execute_result"
    }
   ],
   "source": [
    "# ndarrayの作り方3\n",
    "# 生成するndarrayのshapeを第一引数に渡す。\n",
    "#  結果は環境依存。メモリ上のゴミを拾ってくる可能性がある。\n",
    "np.empty((2, 3, 2))"
   ]
  },
  {
   "cell_type": "code",
   "execution_count": 18,
   "metadata": {},
   "outputs": [
    {
     "data": {
      "text/plain": [
       "array([ 0,  1,  2,  3,  4,  5,  6,  7,  8,  9, 10, 11, 12, 13, 14])"
      ]
     },
     "execution_count": 18,
     "metadata": {},
     "output_type": "execute_result"
    }
   ],
   "source": [
    "# 等間隔に増減させた値で要素を満たす\n",
    "np.arange(15)"
   ]
  },
  {
   "cell_type": "code",
   "execution_count": 19,
   "metadata": {},
   "outputs": [
    {
     "data": {
      "text/plain": [
       "array([0.    , 0.1111, 0.2222, 0.3333, 0.4444, 0.5556, 0.6667, 0.7778,\n",
       "       0.8889, 1.    ])"
      ]
     },
     "execution_count": 19,
     "metadata": {},
     "output_type": "execute_result"
    }
   ],
   "source": [
    "# 等差数列を利用した配列の作成\n",
    "# 一般項：初項＋交差（n-1）\n",
    "# グラフの描画に便利。\n",
    "np.linspace(0, 1, 10)  #第一引数：初項、第二引数：末項、第三引数：返ってくる配列のサイズ。今回は10個あり、区間は10-1＝9つあることになるため、9等分。"
   ]
  },
  {
   "cell_type": "markdown",
   "metadata": {},
   "source": [
    "### Basic Indexing and Slicing"
   ]
  },
  {
   "cell_type": "code",
   "execution_count": 20,
   "metadata": {},
   "outputs": [
    {
     "data": {
      "text/plain": [
       "array([ 0,  1,  2,  3,  4, 12, 12, 12,  8,  9])"
      ]
     },
     "execution_count": 20,
     "metadata": {},
     "output_type": "execute_result"
    }
   ],
   "source": [
    "# スライスが使える。\n",
    "arr = np.arange(10)\n",
    "arr[5:8] = 12\n",
    "arr"
   ]
  },
  {
   "cell_type": "code",
   "execution_count": 21,
   "metadata": {},
   "outputs": [
    {
     "data": {
      "text/plain": [
       "array([12, 12, 12])"
      ]
     },
     "execution_count": 21,
     "metadata": {},
     "output_type": "execute_result"
    }
   ],
   "source": [
    "# スライスが使える。\n",
    "arr_slice = arr[5:8]\n",
    "arr_slice"
   ]
  },
  {
   "cell_type": "code",
   "execution_count": 22,
   "metadata": {},
   "outputs": [
    {
     "data": {
      "text/plain": [
       "array([    0,     1,     2,     3,     4, 12345,    12,    12,     8,\n",
       "           9])"
      ]
     },
     "execution_count": 22,
     "metadata": {},
     "output_type": "execute_result"
    }
   ],
   "source": [
    "# スライスを格納した変数に対する変更は、もとのndarrayにも反映される。\n",
    "arr_slice[0] = 12345\n",
    "arr"
   ]
  },
  {
   "cell_type": "code",
   "execution_count": 23,
   "metadata": {},
   "outputs": [
    {
     "name": "stdout",
     "output_type": "stream",
     "text": [
      "2次元配列に対して、インデックスを1つ指定した場合、該当行を返す; [7 8 9]\n",
      "2次元配列に対して、列を指定する場合、次のように[行,列]を書く。 [3 6 9]\n",
      "3\n",
      "3\n"
     ]
    }
   ],
   "source": [
    "# 2次元配列のインデックス\n",
    "arr2d = np.array([[1, 2, 3], [4, 5, 6], [7, 8, 9]])\n",
    "print('2次元配列に対して、インデックスを1つ指定した場合、該当行を返す;', arr2d[2])\n",
    "print('2次元配列に対して、列を指定する場合、次のように[行,列]を書く。', arr2d[:,2])\n",
    "\n",
    "# 下記2つの書き方は同じ場所を参照できる。\n",
    "print(arr2d[0][2])\n",
    "print(arr2d[0, 2])"
   ]
  },
  {
   "cell_type": "code",
   "execution_count": 24,
   "metadata": {},
   "outputs": [
    {
     "name": "stdout",
     "output_type": "stream",
     "text": [
      "original:\n",
      " [[[ 1  2  3]\n",
      "  [ 4  5  6]]\n",
      "\n",
      " [[ 7  8  9]\n",
      "  [10 11 12]]]\n",
      "\n",
      "\n",
      "indexing:\n",
      " [[1 2 3]\n",
      " [4 5 6]]\n",
      "\n",
      "\n",
      "indexing2:\n",
      " [7 8 9]\n"
     ]
    }
   ],
   "source": [
    "# 3次元配列のインデックス\n",
    "# 基本的にn次元のndarrayに対して、m個のインデックスを指定すると、(n-m)次元のndarrayが抽出できる。\n",
    "arr3d = np.array([[[1, 2, 3], [4, 5, 6]], [[7, 8, 9], [10, 11, 12]]])\n",
    "print('original:\\n', arr3d)\n",
    "print('\\n')\n",
    "print('indexing:\\n', arr3d[0])\n",
    "print('\\n')\n",
    "print('indexing2:\\n', arr3d[1, 0])"
   ]
  },
  {
   "cell_type": "markdown",
   "metadata": {
    "collapsed": true
   },
   "source": [
    "### Indexing with slices"
   ]
  },
  {
   "cell_type": "code",
   "execution_count": 25,
   "metadata": {},
   "outputs": [
    {
     "name": "stdout",
     "output_type": "stream",
     "text": [
      "arr2d:\n",
      " [[1 2 3]\n",
      " [4 5 6]\n",
      " [7 8 9]]\n",
      "\n",
      "\n",
      "slicing:\n",
      " [[1 2 3]\n",
      " [4 5 6]]\n",
      "\n",
      "\n",
      "slicing2:\n",
      " [[2 3]\n",
      " [5 6]]\n"
     ]
    }
   ],
   "source": [
    "# 2次元配列に対して、次のようにスライスできる。\n",
    "# ndarrayのスライスは「始点：終点-1」という感じで抽出する。\n",
    "arr2d = np.array([[1, 2, 3], [4, 5, 6], [7, 8, 9]])\n",
    "print('arr2d:\\n', arr2d)\n",
    "print('\\n')\n",
    "print('slicing:\\n', arr2d[:2]) # これは0軸に対して、2番目まで抽出する。\n",
    "print('\\n')\n",
    "print('slicing2:\\n', arr2d[:2, 1:]) # これは0軸に対して、2番目まで抽出し、1軸に対して2行目から抽出する。"
   ]
  },
  {
   "cell_type": "markdown",
   "metadata": {},
   "source": [
    "参考画像：\n",
    "<img src=\"ndarray's slice.png\"> "
   ]
  },
  {
   "cell_type": "markdown",
   "metadata": {
    "collapsed": true
   },
   "source": [
    "### Boolean Indexing"
   ]
  },
  {
   "cell_type": "code",
   "execution_count": 26,
   "metadata": {},
   "outputs": [
    {
     "name": "stdout",
     "output_type": "stream",
     "text": [
      "names\n",
      " ['Bob' 'Joe' 'Will' 'Bob' 'Will' 'Joe' 'Joe']\n",
      "data\n",
      " [[ 0.0929  0.2817  0.769   1.2464]\n",
      " [ 1.0072 -1.2962  0.275   0.2289]\n",
      " [ 1.3529  0.8864 -2.0016 -0.3718]\n",
      " [ 1.669  -0.4386 -0.5397  0.477 ]\n",
      " [ 3.2489 -1.0212 -0.5771  0.1241]\n",
      " [ 0.3026  0.5238  0.0009  1.3438]\n",
      " [-0.7135 -0.8312 -2.3702 -1.8608]]\n"
     ]
    }
   ],
   "source": [
    "# データの準備\n",
    "names = np.array(['Bob', 'Joe', 'Will', 'Bob', 'Will', 'Joe', 'Joe'])\n",
    "data = np.random.randn(7, 4)\n",
    "print('names\\n', names)\n",
    "print('data\\n', data)"
   ]
  },
  {
   "cell_type": "code",
   "execution_count": 27,
   "metadata": {},
   "outputs": [
    {
     "name": "stdout",
     "output_type": "stream",
     "text": [
      "[ True False False  True False False False]\n"
     ]
    },
    {
     "data": {
      "text/plain": [
       "array([[ 0.0929,  0.2817,  0.769 ,  1.2464],\n",
       "       [ 1.669 , -0.4386, -0.5397,  0.477 ]])"
      ]
     },
     "execution_count": 27,
     "metadata": {},
     "output_type": "execute_result"
    }
   ],
   "source": [
    "# indexに次のような真偽値を渡して抽出することができる。つまり、0と3をindexに指定するのと同じこと。\n",
    "# ブールインデックスで参照する場合、必ず「参照先配列の軸の要素数」と「真偽値の配列の要素数」が一致していなければならない。今回の場合、7個で一致。\n",
    "print(names == 'Bob')\n",
    "data[names == 'Bob']"
   ]
  },
  {
   "cell_type": "code",
   "execution_count": 28,
   "metadata": {},
   "outputs": [
    {
     "data": {
      "text/plain": [
       "array([[ 1.0072, -1.2962,  0.275 ,  0.2289],\n",
       "       [ 1.3529,  0.8864, -2.0016, -0.3718],\n",
       "       [ 3.2489, -1.0212, -0.5771,  0.1241],\n",
       "       [ 0.3026,  0.5238,  0.0009,  1.3438],\n",
       "       [-0.7135, -0.8312, -2.3702, -1.8608]])"
      ]
     },
     "execution_count": 28,
     "metadata": {},
     "output_type": "execute_result"
    }
   ],
   "source": [
    "# (参考)ブール値の反転のさせ方\n",
    "#1: 「!=」を使う。\n",
    "names != 'Bob'\n",
    "#2: 「~(ブール値)」を使う。\n",
    "data[~(names == 'Bob')]"
   ]
  },
  {
   "cell_type": "code",
   "execution_count": 29,
   "metadata": {},
   "outputs": [
    {
     "data": {
      "text/plain": [
       "array([[ 0.0929,  0.2817,  0.769 ,  1.2464],\n",
       "       [ 1.3529,  0.8864, -2.0016, -0.3718],\n",
       "       [ 1.669 , -0.4386, -0.5397,  0.477 ],\n",
       "       [ 3.2489, -1.0212, -0.5771,  0.1241]])"
      ]
     },
     "execution_count": 29,
     "metadata": {},
     "output_type": "execute_result"
    }
   ],
   "source": [
    "# 複数ブール条件の指定の仕方\n",
    "mask = (names == 'Bob') | (names == 'Will')  #複数ブール条件を指定する際は、各条件を()で囲う必要がある。\n",
    "data[mask]"
   ]
  },
  {
   "cell_type": "code",
   "execution_count": 30,
   "metadata": {},
   "outputs": [
    {
     "data": {
      "text/plain": [
       "array([[0.0929, 0.2817, 0.769 , 1.2464],\n",
       "       [1.0072, 0.    , 0.275 , 0.2289],\n",
       "       [1.3529, 0.8864, 0.    , 0.    ],\n",
       "       [1.669 , 0.    , 0.    , 0.477 ],\n",
       "       [3.2489, 0.    , 0.    , 0.1241],\n",
       "       [0.3026, 0.5238, 0.0009, 1.3438],\n",
       "       [0.    , 0.    , 0.    , 0.    ]])"
      ]
     },
     "execution_count": 30,
     "metadata": {},
     "output_type": "execute_result"
    }
   ],
   "source": [
    "# 比較演算子を使った指定\n",
    "data[data < 0] = 0\n",
    "data"
   ]
  },
  {
   "cell_type": "markdown",
   "metadata": {},
   "source": [
    "### Fancy Indexing"
   ]
  },
  {
   "cell_type": "code",
   "execution_count": 31,
   "metadata": {},
   "outputs": [
    {
     "data": {
      "text/plain": [
       "array([[0., 0., 0., 0.],\n",
       "       [1., 1., 1., 1.],\n",
       "       [2., 2., 2., 2.],\n",
       "       [3., 3., 3., 3.],\n",
       "       [4., 4., 4., 4.],\n",
       "       [5., 5., 5., 5.],\n",
       "       [6., 6., 6., 6.],\n",
       "       [7., 7., 7., 7.]])"
      ]
     },
     "execution_count": 31,
     "metadata": {},
     "output_type": "execute_result"
    }
   ],
   "source": [
    "# ファンシーインデックス参照：インデックス参照に整数配列を用いる方法\n",
    "arr = np.empty((8, 4))\n",
    "for i in range(8):\n",
    "    arr[i] = i\n",
    "arr"
   ]
  },
  {
   "cell_type": "code",
   "execution_count": 32,
   "metadata": {},
   "outputs": [
    {
     "name": "stdout",
     "output_type": "stream",
     "text": [
      "[[ 0  1  2  3]\n",
      " [ 4  5  6  7]\n",
      " [ 8  9 10 11]\n",
      " [12 13 14 15]\n",
      " [16 17 18 19]\n",
      " [20 21 22 23]\n",
      " [24 25 26 27]\n",
      " [28 29 30 31]]\n"
     ]
    },
    {
     "data": {
      "text/plain": [
       "array([ 4, 23, 29, 10])"
      ]
     },
     "execution_count": 32,
     "metadata": {},
     "output_type": "execute_result"
    }
   ],
   "source": [
    "# 複数の配列をインデックスに指定する場合：組み合わせを意識すること\n",
    "\n",
    "# データの準備\n",
    "arr = np.arange(32).reshape((8, 4))\n",
    "\n",
    "print(arr)\n",
    "\n",
    "arr[[1, 5, 7, 2], [0, 3, 1, 2]] # ここでは、(1,0),(5,3),(7,1),(2,2)の組み合わせでインデックス参照する。"
   ]
  },
  {
   "cell_type": "code",
   "execution_count": 33,
   "metadata": {},
   "outputs": [
    {
     "data": {
      "text/plain": [
       "array([[ 1,  3],\n",
       "       [ 5,  7],\n",
       "       [ 9, 11],\n",
       "       [13, 15],\n",
       "       [17, 19],\n",
       "       [21, 23],\n",
       "       [25, 27],\n",
       "       [29, 31]])"
      ]
     },
     "execution_count": 33,
     "metadata": {},
     "output_type": "execute_result"
    }
   ],
   "source": [
    "# 個人的に気に入った使い方\n",
    "# 全行の、指定した列を抽出する。\n",
    "arr[:,[1,3]]"
   ]
  },
  {
   "cell_type": "markdown",
   "metadata": {},
   "source": [
    "### Transposing Arrays and Swapping Axes"
   ]
  },
  {
   "cell_type": "code",
   "execution_count": 34,
   "metadata": {},
   "outputs": [
    {
     "name": "stdout",
     "output_type": "stream",
     "text": [
      "オリジナルの行列:\n",
      " [[ 0  1  2  3  4]\n",
      " [ 5  6  7  8  9]\n",
      " [10 11 12 13 14]]\n",
      "\n",
      "\n",
      "転置行列：\n",
      " [[ 0  5 10]\n",
      " [ 1  6 11]\n",
      " [ 2  7 12]\n",
      " [ 3  8 13]\n",
      " [ 4  9 14]]\n"
     ]
    }
   ],
   "source": [
    "# 転置行列の作り方： オブジェクト.T\n",
    "# 3次元以上の場合、「オブジェクト.transpose()」も使える。引数の数はオブジェクトの次元数分必要で、順番を引数に指定する。例：transpose(1,0,2)\n",
    "arr = np.arange(15).reshape((3, 5))\n",
    "print('オリジナルの行列:\\n', arr)\n",
    "print('\\n')\n",
    "print('転置行列：\\n', arr.T)"
   ]
  },
  {
   "cell_type": "code",
   "execution_count": 35,
   "metadata": {},
   "outputs": [
    {
     "data": {
      "text/plain": [
       "array([[125, 140, 155, 170, 185],\n",
       "       [140, 158, 176, 194, 212],\n",
       "       [155, 176, 197, 218, 239],\n",
       "       [170, 194, 218, 242, 266],\n",
       "       [185, 212, 239, 266, 293]])"
      ]
     },
     "execution_count": 35,
     "metadata": {},
     "output_type": "execute_result"
    }
   ],
   "source": [
    "# 行列の内積演算\n",
    "np.dot(arr.T, arr)"
   ]
  },
  {
   "cell_type": "code",
   "execution_count": 36,
   "metadata": {},
   "outputs": [
    {
     "data": {
      "text/plain": [
       "array([[125, 140, 155, 170, 185],\n",
       "       [140, 158, 176, 194, 212],\n",
       "       [155, 176, 197, 218, 239],\n",
       "       [170, 194, 218, 242, 266],\n",
       "       [185, 212, 239, 266, 293]])"
      ]
     },
     "execution_count": 36,
     "metadata": {},
     "output_type": "execute_result"
    }
   ],
   "source": [
    "# @を使っても内積が計算できる。\n",
    "arr.T@arr"
   ]
  },
  {
   "cell_type": "code",
   "execution_count": 37,
   "metadata": {},
   "outputs": [
    {
     "data": {
      "text/plain": [
       "32.0"
      ]
     },
     "execution_count": 37,
     "metadata": {},
     "output_type": "execute_result"
    }
   ],
   "source": [
    "# ベクトルの内積\n",
    "u = np.arange(4)\n",
    "v = np.arange(3., 7.)\n",
    "\n",
    "(u * v).sum()  #np.dot(u, v)と同義で、内積の別の計算方法。"
   ]
  },
  {
   "cell_type": "markdown",
   "metadata": {},
   "source": [
    "### Unique and Other Set Logic"
   ]
  },
  {
   "cell_type": "code",
   "execution_count": 38,
   "metadata": {},
   "outputs": [
    {
     "data": {
      "text/plain": [
       "array([1, 2, 3, 4])"
      ]
     },
     "execution_count": 38,
     "metadata": {},
     "output_type": "execute_result"
    }
   ],
   "source": [
    "# .unique(): 1次元配列に対して、重複を削除する。\n",
    "# 和集合など他の集合用の関数も用意されているので、気になる際は調べること。\n",
    "names = np.array(['Bob', 'Joe', 'Will', 'Bob', 'Will', 'Joe', 'Joe'])\n",
    "np.unique(names)\n",
    "ints = np.array([3, 3, 3, 2, 2, 1, 1, 4, 4])\n",
    "np.unique(ints)"
   ]
  },
  {
   "cell_type": "code",
   "execution_count": 39,
   "metadata": {},
   "outputs": [
    {
     "name": "stdout",
     "output_type": "stream",
     "text": [
      "[[ 0  1  2]\n",
      " [ 3  4  5]\n",
      " [ 6  7  8]\n",
      " [ 9 10 11]]\n",
      "[[ 0  1  2  6  7  8]\n",
      " [ 3  4  5  9 10 11]]\n"
     ]
    }
   ],
   "source": [
    "# 行列の連結\n",
    "a = np.array([[0, 1, 2], [3, 4, 5]])\n",
    "b = np.array([[6, 7, 8], [9, 10, 11]])\n",
    "print(np.r_[a, b])  #縦方向に連結\n",
    "print(np.c_[a, b])  #横方向に連結"
   ]
  },
  {
   "cell_type": "code",
   "execution_count": 40,
   "metadata": {},
   "outputs": [
    {
     "data": {
      "text/plain": [
       "array([[0, 1, 2],\n",
       "       [3, 4, 5],\n",
       "       [0, 1, 2]])"
      ]
     },
     "execution_count": 40,
     "metadata": {},
     "output_type": "execute_result"
    }
   ],
   "source": [
    "# 行列の連結（注意）\n",
    "# 連結したい行列のランクが異なるとエラーになるため、reshape()などで数学的に正しくすること。\n",
    "c = np.arange(3)  #1次元配列のため、shapeは(3, )。見た目が(1, 3)だからといって、プログラム上のshapeと数学のshapeは異なることに注意。\n",
    "np.r_[a, c.reshape(1, -1)]  #reshape(1, -1)で1＊nの形に自動調整できる。"
   ]
  },
  {
   "cell_type": "code",
   "execution_count": 71,
   "metadata": {},
   "outputs": [
    {
     "name": "stdout",
     "output_type": "stream",
     "text": [
      "xmeshのランク： (300, 300)\n",
      "xmesh：\n",
      " [[-5.     -4.9666 -4.9331 ...  4.9331  4.9666  5.    ]\n",
      " [-5.     -4.9666 -4.9331 ...  4.9331  4.9666  5.    ]\n",
      " [-5.     -4.9666 -4.9331 ...  4.9331  4.9666  5.    ]\n",
      " ...\n",
      " [-5.     -4.9666 -4.9331 ...  4.9331  4.9666  5.    ]\n",
      " [-5.     -4.9666 -4.9331 ...  4.9331  4.9666  5.    ]\n",
      " [-5.     -4.9666 -4.9331 ...  4.9331  4.9666  5.    ]]\n"
     ]
    }
   ],
   "source": [
    "# 1次元配列を組合わせた行列：　.meshgrid(x, y)\n",
    "x = np.linspace(-5, 5, 300)  #初項-5, 未項5, サイズ300\n",
    "y = np.linspace(-5, 5, 300) \n",
    "xmesh, ymesh = np.meshgrid(x, y)  #xとyを組合わせて行列化する。x軸はx, y軸はyの値を持つ格子をイメージする。\n",
    "\n",
    "print('xmeshのランク：', xmesh.shape)  #今回はymeshも同値。\n",
    "print('xmesh：\\n', xmesh)"
   ]
  },
  {
   "cell_type": "markdown",
   "metadata": {},
   "source": [
    "### 便利な統計の関数\n",
    "- np.sum(vals)  #合計\n",
    "- np.mean(vals)  #平均を返す。\n",
    "- np.std(vals, ddof=1)  #標準偏差を返す。\n",
    "- np.min(vals)  #最小値を返す。\n",
    "- np.max(vals)  #最大値を返す。"
   ]
  },
  {
   "cell_type": "code",
   "execution_count": 41,
   "metadata": {},
   "outputs": [
    {
     "data": {
      "text/plain": [
       "array([ 9., 12., 15.])"
      ]
     },
     "execution_count": 41,
     "metadata": {},
     "output_type": "execute_result"
    }
   ],
   "source": [
    "# axis引数にて計算単位をコントールする。\n",
    "b = np.arange(9.).reshape(3, 3)\n",
    "b.sum(axis=0)  #列毎の合計。考え方として、縦ベクトルを行方向に（左から右側へ）足していく。"
   ]
  },
  {
   "cell_type": "code",
   "execution_count": 42,
   "metadata": {
    "scrolled": true
   },
   "outputs": [
    {
     "data": {
      "text/plain": [
       "array([ 3., 12., 21.])"
      ]
     },
     "execution_count": 42,
     "metadata": {},
     "output_type": "execute_result"
    }
   ],
   "source": [
    "b.sum(axis=1)  #行毎の合計。考え方として、横ベクトルを列方向に（上から下側に）足していく。"
   ]
  },
  {
   "cell_type": "markdown",
   "metadata": {},
   "source": [
    "### ブロードキャスト\n",
    "NumPyの配列が、その配列を含む演算を行う場合に次元数や形状を自動的に調整する機能のこと。\n",
    "- np.exp()\n",
    "- np.log()\n",
    "- np.sqrt()  \n",
    "\n",
    "ブロードキャストされる関数はユニバーサル関数と呼ばれる。\n",
    "また、for文などで同じ処理をさせるよりも計算速度が一般に早い。"
   ]
  },
  {
   "cell_type": "code",
   "execution_count": 43,
   "metadata": {},
   "outputs": [
    {
     "data": {
      "text/plain": [
       "array([  20.0855,   54.5982,  148.4132,  403.4288, 1096.6332])"
      ]
     },
     "execution_count": 43,
     "metadata": {},
     "output_type": "execute_result"
    }
   ],
   "source": [
    "a = np.arange(3., 8.)\n",
    "np.exp(a)  #特にfor文などを書かなくても、aの配列の数分、計算する。"
   ]
  },
  {
   "cell_type": "code",
   "execution_count": 44,
   "metadata": {},
   "outputs": [
    {
     "data": {
      "text/plain": [
       "array([[   1.    ,    2.7183,    7.3891],\n",
       "       [  20.0855,   54.5982,  148.4132],\n",
       "       [ 403.4288, 1096.6332, 2980.958 ]])"
      ]
     },
     "execution_count": 44,
     "metadata": {},
     "output_type": "execute_result"
    }
   ],
   "source": [
    "b = np.arange(9.).reshape(3, 3)\n",
    "np.exp(b)"
   ]
  },
  {
   "cell_type": "code",
   "execution_count": 45,
   "metadata": {},
   "outputs": [
    {
     "name": "stdout",
     "output_type": "stream",
     "text": [
      "[ 9. 16. 25. 36. 49.]\n",
      "[False  True  True  True  True]\n"
     ]
    }
   ],
   "source": [
    "print(a ** 2)\n",
    "print(a !=3)"
   ]
  },
  {
   "cell_type": "code",
   "execution_count": 46,
   "metadata": {},
   "outputs": [
    {
     "name": "stdout",
     "output_type": "stream",
     "text": [
      "b:\n",
      " [[0. 1. 2.]]\n",
      "c:\n",
      " [[0.]\n",
      " [1.]\n",
      " [2.]\n",
      " [3.]]\n",
      "b-c:\n",
      " [[ 0.  1.  2.]\n",
      " [-1.  0.  1.]\n",
      " [-2. -1.  0.]\n",
      " [-3. -2. -1.]]\n"
     ]
    }
   ],
   "source": [
    "b = np.arange(3.).reshape(1, 3)\n",
    "c = np.arange(4.).reshape(4, 1)\n",
    "\n",
    "print('b:\\n', b)\n",
    "print('c:\\n', c)\n",
    "print('b-c:\\n', b - c)  #ブロードキャストと演算の混合処理。bとcの次元数に自動で合わせて計算する。"
   ]
  },
  {
   "cell_type": "markdown",
   "metadata": {},
   "source": [
    "### 確率分布に基づいた乱数生成\n",
    "以下の例以外にも、必要なら下記分布から選べる。\n",
    "- 二項分布\n",
    "- ベータ分布\n",
    "- ガンマ分布\n",
    "- カイ二乗分布\n",
    "\n",
    "なお、scipyのページにも正規分布などの確率密度関数を計算するメソッド（例：scipy.stats.norm.pdf）がある。"
   ]
  },
  {
   "cell_type": "code",
   "execution_count": 47,
   "metadata": {},
   "outputs": [
    {
     "data": {
      "text/plain": [
       "array([[0.7095, 0.1781, 0.5314, 0.1677, 0.7688],\n",
       "       [0.9282, 0.6095, 0.1502, 0.4896, 0.3773],\n",
       "       [0.8486, 0.9111, 0.3838, 0.3155, 0.5684]])"
      ]
     },
     "execution_count": 47,
     "metadata": {},
     "output_type": "execute_result"
    }
   ],
   "source": [
    "# 一様分布に基づいた乱数を3×5行列として出力する。\n",
    "np.random.rand(3,5)"
   ]
  },
  {
   "cell_type": "code",
   "execution_count": 48,
   "metadata": {},
   "outputs": [
    {
     "data": {
      "text/plain": [
       "array([[-0.2464, -0.2056,  0.9982,  0.625 ],\n",
       "       [ 0.4103,  0.0638,  0.8375,  0.2891],\n",
       "       [-2.2029, -0.0681,  0.0338,  1.8408],\n",
       "       [-0.7317, -0.7872, -0.0241,  1.4626]])"
      ]
     },
     "execution_count": 48,
     "metadata": {},
     "output_type": "execute_result"
    }
   ],
   "source": [
    "# 正規分布に基づいた乱数を4×4行列として出力する。\n",
    "# 引数は、平均、分散、件数\n",
    "# ちなみに、標準正規分布を指定したい場合は、np.random.randn(size)でよい。\n",
    "samples = np.random.normal(size=(4, 4))\n",
    "samples"
   ]
  },
  {
   "cell_type": "code",
   "execution_count": 49,
   "metadata": {},
   "outputs": [
    {
     "data": {
      "text/plain": [
       "array([33, 97, 87, 70, 84, 80, 99, 29,  8,  5])"
      ]
     },
     "execution_count": 49,
     "metadata": {},
     "output_type": "execute_result"
    }
   ],
   "source": [
    "# 乱数の範囲を指定して乱数生成する。\n",
    "# 引数は、下限、上限、件数\n",
    "np.random.randint(1, 100, 10)"
   ]
  },
  {
   "cell_type": "code",
   "execution_count": 50,
   "metadata": {},
   "outputs": [
    {
     "data": {
      "text/plain": [
       "0.1915194503788923"
      ]
     },
     "execution_count": 50,
     "metadata": {},
     "output_type": "execute_result"
    }
   ],
   "source": [
    "# 出力する乱数の再現性が重要な場合、np.random.seed(種)が使える\n",
    "# 下記ソースコードを別の場所で試しても、同じ値が出力されるはずだ。\n",
    "np.random.seed(1234)\n",
    "np.random.rand()"
   ]
  },
  {
   "cell_type": "code",
   "execution_count": 51,
   "metadata": {},
   "outputs": [
    {
     "data": {
      "text/plain": [
       "['C', 'B', 'D', 'A', 'E']"
      ]
     },
     "execution_count": 51,
     "metadata": {},
     "output_type": "execute_result"
    }
   ],
   "source": [
    "# 配列をランダムに並び替える。\n",
    "# 多分、スライスとかうまく使うといい感じにできる。\n",
    "arr1 = ['A', 'B', 'C', 'D', 'E']\n",
    "np.random.shuffle(arr1)\n",
    "arr1"
   ]
  },
  {
   "cell_type": "markdown",
   "metadata": {},
   "source": [
    "### 線形代数の関数"
   ]
  },
  {
   "cell_type": "code",
   "execution_count": 52,
   "metadata": {},
   "outputs": [
    {
     "name": "stdout",
     "output_type": "stream",
     "text": [
      "逆行列の計算：\n",
      " [[ 0.4286  0.1429]\n",
      " [ 0.1429 -0.2857]]\n"
     ]
    }
   ],
   "source": [
    "# 逆行列\n",
    "# A * A^-1 = 対角行列I となるような行列A^-1を逆行列という。\n",
    "\n",
    "A = np.array([[2, 1], [1, -3]])\n",
    "print('逆行列の計算：\\n', np.linalg.inv(A)) "
   ]
  },
  {
   "cell_type": "code",
   "execution_count": 53,
   "metadata": {},
   "outputs": [
    {
     "name": "stdout",
     "output_type": "stream",
     "text": [
      "方程式の計算：\n",
      " [ 2. -1.]\n"
     ]
    }
   ],
   "source": [
    "# 方程式 y = Axを解く\n",
    "# Aとyが判明しており、ベクトルxを計算で求めたい。\n",
    "\n",
    "A = np.array([[2, 1], [1, -3]])\n",
    "y = np.array([3, 5])\n",
    "print('方程式の計算：\\n', np.linalg.solve(A, y))"
   ]
  },
  {
   "cell_type": "markdown",
   "metadata": {},
   "source": [
    "np.linalg.solve（）を使った方法は、1つの方程式を解く際は効率がよいし直感的である。  \n",
    "しかし、実は上記のように同じ係数の複数の方程式を解く際には効率が良くない。  \n",
    "つまり、係数の行列Aと未知数xを使って、Ax = y1, Ax = y2, Ax = y3のような方程式の集まりを解く場合は、  \n",
    "下記LU分解を使うとよい。"
   ]
  },
  {
   "cell_type": "code",
   "execution_count": 54,
   "metadata": {},
   "outputs": [
    {
     "data": {
      "text/plain": [
       "array([-0.5714, -0.1429,  2.8571])"
      ]
     },
     "execution_count": 54,
     "metadata": {},
     "output_type": "execute_result"
    }
   ],
   "source": [
    "# LU分解\n",
    "# LU分解を利用して、Ax=yを解いてみる。\n",
    "# A = PLUとみなし、連立方程式Ps=y, Lt=s, Ux=tを解く手法。\n",
    "# Aは正方行列、Ｐは置換行列、Lは下三角行列、Uは上三角行列\n",
    "\n",
    "A = np.array([[3, 1, 1], [1, 2, 1], [0, -1, 1]])\n",
    "y = np.array([1, 2, 3])\n",
    "from scipy import linalg\n",
    "lu, p = linalg.lu_factor(A)  #LU分解。L, U, Pを計算する。\n",
    "linalg.lu_solve((lu, p), y)"
   ]
  },
  {
   "cell_type": "markdown",
   "metadata": {},
   "source": [
    "### 乱数\n",
    "Python標準モジュールのrandomもあるが、Numpyに含まれるnp.randomの方が多機能で数学的計算をするのに便利。"
   ]
  },
  {
   "cell_type": "code",
   "execution_count": 55,
   "metadata": {},
   "outputs": [
    {
     "data": {
      "text/plain": [
       "0.7799758081188035"
      ]
     },
     "execution_count": 55,
     "metadata": {},
     "output_type": "execute_result"
    }
   ],
   "source": [
    "# 0~1の範囲の浮動小数点数を返す。\n",
    "np.random.rand()"
   ]
  },
  {
   "cell_type": "code",
   "execution_count": 56,
   "metadata": {},
   "outputs": [
    {
     "name": "stdout",
     "output_type": "stream",
     "text": [
      "[[0.2726 0.2765]\n",
      " [0.8019 0.9581]\n",
      " [0.8759 0.3578]]\n",
      "[0.501  0.6835 0.7127 0.3703 0.5612]\n"
     ]
    }
   ],
   "source": [
    "# 乱数の行列を作る。\n",
    "print(np.random.rand(3, 2))  #多次元の場合\n",
    "print(np.random.rand(5))  #1次元の場合"
   ]
  },
  {
   "cell_type": "code",
   "execution_count": 57,
   "metadata": {},
   "outputs": [
    {
     "name": "stdout",
     "output_type": "stream",
     "text": [
      "0\n",
      "15\n"
     ]
    }
   ],
   "source": [
    "# 整数型の乱数を作る。\n",
    "print(np.random.randint(4))  #0以上4までの乱数\n",
    "print(np.random.randint(10, 20))  #10以上20未満の乱数"
   ]
  },
  {
   "cell_type": "code",
   "execution_count": 58,
   "metadata": {},
   "outputs": [
    {
     "data": {
      "text/plain": [
       "array([[2, 2, 3],\n",
       "       [3, 0, 1],\n",
       "       [3, 0, 3]])"
      ]
     },
     "execution_count": 58,
     "metadata": {},
     "output_type": "execute_result"
    }
   ],
   "source": [
    "# 整数型の乱数行列\n",
    "np.random.randint(5, size=(3, 3))"
   ]
  },
  {
   "cell_type": "code",
   "execution_count": 59,
   "metadata": {},
   "outputs": [
    {
     "data": {
      "text/plain": [
       "array([0.7713, 0.0208, 0.6336, 0.7488, 0.4985])"
      ]
     },
     "execution_count": 59,
     "metadata": {},
     "output_type": "execute_result"
    }
   ],
   "source": [
    "# 乱数の種を指定する。\n",
    "np.random.seed(10)  #乱数処理の前に1行追記すれば、乱数の種を固定できる。\n",
    "np.random.rand(5)"
   ]
  },
  {
   "cell_type": "code",
   "execution_count": 60,
   "metadata": {},
   "outputs": [
    {
     "data": {
      "text/plain": [
       "0.771320643266746"
      ]
     },
     "execution_count": 60,
     "metadata": {},
     "output_type": "execute_result"
    }
   ],
   "source": [
    "# RandomStateを用いた、独立したインスタンスの作成\n",
    "# 　上述の乱数の種はグローバル変数に干渉するのに対して、RandomStateはローカル変数に干渉する。\n",
    "# すなわち、乱数の種を設定するのに比べて、柔軟に乱数の再現性を確保できる。\n",
    "rs = np.random.RandomState(10)\n",
    "rs.rand()"
   ]
  }
 ],
 "metadata": {
  "kernelspec": {
   "display_name": "Python 3",
   "language": "python",
   "name": "python3"
  },
  "language_info": {
   "codemirror_mode": {
    "name": "ipython",
    "version": 3
   },
   "file_extension": ".py",
   "mimetype": "text/x-python",
   "name": "python",
   "nbconvert_exporter": "python",
   "pygments_lexer": "ipython3",
   "version": "3.6.5"
  }
 },
 "nbformat": 4,
 "nbformat_minor": 2
}
