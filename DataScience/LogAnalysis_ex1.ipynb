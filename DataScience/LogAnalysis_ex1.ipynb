{
 "cells": [
  {
   "cell_type": "markdown",
   "metadata": {},
   "source": [
    "# Table of Contents\n",
    "- 解析対象ファイル\n",
    "- データの確認\n",
    "- データ加工\n",
    "- 分析\n",
    "- 独立性の検定\n",
    "- Appendix（高度なグラフ描画）"
   ]
  },
  {
   "cell_type": "markdown",
   "metadata": {},
   "source": [
    "## 解析対象ファイル\n",
    "* user_login.csv: サービスAのユーザーlogin時間(4月分)\n",
    "    - user_id: user id\n",
    "    - timestamp: login time\n",
    "* event_entry_users.csv:イベント参加ユーザーリスト \n",
    "    - user_id: user id\n",
    "    - timestamp: event entry time\n",
    "* item_purchase_log.csv: アイテム購買履歴\n",
    "    - user_id: user id\n",
    "    - item_id: item id\n",
    "    - timestamp: item purchased time"
   ]
  },
  {
   "cell_type": "markdown",
   "metadata": {},
   "source": [
    "# データの確認"
   ]
  },
  {
   "cell_type": "code",
   "execution_count": 1,
   "metadata": {},
   "outputs": [],
   "source": [
    "import datetime\n",
    "import numpy as np\n",
    "import pandas as pd\n",
    "import pandas_profiling\n",
    "from scipy import stats\n",
    "import matplotlib.pyplot as plt"
   ]
  },
  {
   "cell_type": "code",
   "execution_count": 2,
   "metadata": {},
   "outputs": [],
   "source": [
    "user_login_df = pd.read_csv('user_login.csv')\n",
    "user_login_df = user_login_df.rename(columns={'timestamp': 'timestamp_login'})\n",
    "\n",
    "event_entry_df = pd.read_csv('event_entry_users.csv')\n",
    "event_entry_df = event_entry_df.rename(columns={'timestamp': 'timestamp_event_entry'})\n",
    "\n",
    "item_purchase_df = pd.read_csv('item_purchase_log.csv')\n",
    "item_purchase_df = item_purchase_df.rename(columns={'timestamp': 'timestamp_item_purchase'})"
   ]
  },
  {
   "cell_type": "code",
   "execution_count": null,
   "metadata": {
    "scrolled": true
   },
   "outputs": [],
   "source": [
    "# サービスAのユーザーlogin時間(4月分)\n",
    "pandas_profiling.ProfileReport(user_login_df)"
   ]
  },
  {
   "cell_type": "code",
   "execution_count": 4,
   "metadata": {},
   "outputs": [
    {
     "data": {
      "text/plain": [
       "u00004565    43\n",
       "u00000941    42\n",
       "u00007779    42\n",
       "u00007006    41\n",
       "u00001872    41\n",
       "Name: user_id, dtype: int64"
      ]
     },
     "execution_count": 4,
     "metadata": {},
     "output_type": "execute_result"
    }
   ],
   "source": [
    "# 4月の最多ログインユーザーをサンプル確認\n",
    "user_login_df['user_id'].value_counts()[:5]"
   ]
  },
  {
   "cell_type": "markdown",
   "metadata": {},
   "source": [
    "1日に何度かログインしている人（≒30回以上ログインしている人）がいることを確認"
   ]
  },
  {
   "cell_type": "code",
   "execution_count": 5,
   "metadata": {},
   "outputs": [
    {
     "data": {
      "text/html": [
       "<div>\n",
       "<style scoped>\n",
       "    .dataframe tbody tr th:only-of-type {\n",
       "        vertical-align: middle;\n",
       "    }\n",
       "\n",
       "    .dataframe tbody tr th {\n",
       "        vertical-align: top;\n",
       "    }\n",
       "\n",
       "    .dataframe thead th {\n",
       "        text-align: right;\n",
       "    }\n",
       "</style>\n",
       "<table border=\"1\" class=\"dataframe\">\n",
       "  <thead>\n",
       "    <tr style=\"text-align: right;\">\n",
       "      <th></th>\n",
       "      <th>user_id</th>\n",
       "      <th>timestamp_login</th>\n",
       "    </tr>\n",
       "  </thead>\n",
       "  <tbody>\n",
       "    <tr>\n",
       "      <th>0</th>\n",
       "      <td>u00005154</td>\n",
       "      <td>2016-04-01 00:01:03.90</td>\n",
       "    </tr>\n",
       "    <tr>\n",
       "      <th>1</th>\n",
       "      <td>u00000381</td>\n",
       "      <td>2016-04-01 00:01:18.67</td>\n",
       "    </tr>\n",
       "    <tr>\n",
       "      <th>2</th>\n",
       "      <td>u00004355</td>\n",
       "      <td>2016-04-01 00:01:23.34</td>\n",
       "    </tr>\n",
       "    <tr>\n",
       "      <th>3</th>\n",
       "      <td>u00001105</td>\n",
       "      <td>2016-04-01 00:01:25.70</td>\n",
       "    </tr>\n",
       "    <tr>\n",
       "      <th>4</th>\n",
       "      <td>u00004565</td>\n",
       "      <td>2016-04-01 00:01:38.57</td>\n",
       "    </tr>\n",
       "  </tbody>\n",
       "</table>\n",
       "</div>"
      ],
      "text/plain": [
       "     user_id         timestamp_login\n",
       "0  u00005154  2016-04-01 00:01:03.90\n",
       "1  u00000381  2016-04-01 00:01:18.67\n",
       "2  u00004355  2016-04-01 00:01:23.34\n",
       "3  u00001105  2016-04-01 00:01:25.70\n",
       "4  u00004565  2016-04-01 00:01:38.57"
      ]
     },
     "execution_count": 5,
     "metadata": {},
     "output_type": "execute_result"
    }
   ],
   "source": [
    "user_login_df.head()"
   ]
  },
  {
   "cell_type": "code",
   "execution_count": 6,
   "metadata": {},
   "outputs": [
    {
     "data": {
      "text/html": [
       "<div>\n",
       "<style scoped>\n",
       "    .dataframe tbody tr th:only-of-type {\n",
       "        vertical-align: middle;\n",
       "    }\n",
       "\n",
       "    .dataframe tbody tr th {\n",
       "        vertical-align: top;\n",
       "    }\n",
       "\n",
       "    .dataframe thead th {\n",
       "        text-align: right;\n",
       "    }\n",
       "</style>\n",
       "<table border=\"1\" class=\"dataframe\">\n",
       "  <thead>\n",
       "    <tr style=\"text-align: right;\">\n",
       "      <th></th>\n",
       "      <th>user_id</th>\n",
       "      <th>timestamp_login</th>\n",
       "      <th>login_date</th>\n",
       "    </tr>\n",
       "  </thead>\n",
       "  <tbody>\n",
       "    <tr>\n",
       "      <th>0</th>\n",
       "      <td>u00005154</td>\n",
       "      <td>2016-04-01 00:01:03.900</td>\n",
       "      <td>2016-04-01</td>\n",
       "    </tr>\n",
       "    <tr>\n",
       "      <th>1</th>\n",
       "      <td>u00000381</td>\n",
       "      <td>2016-04-01 00:01:18.670</td>\n",
       "      <td>2016-04-01</td>\n",
       "    </tr>\n",
       "    <tr>\n",
       "      <th>2</th>\n",
       "      <td>u00004355</td>\n",
       "      <td>2016-04-01 00:01:23.340</td>\n",
       "      <td>2016-04-01</td>\n",
       "    </tr>\n",
       "    <tr>\n",
       "      <th>3</th>\n",
       "      <td>u00001105</td>\n",
       "      <td>2016-04-01 00:01:25.700</td>\n",
       "      <td>2016-04-01</td>\n",
       "    </tr>\n",
       "    <tr>\n",
       "      <th>4</th>\n",
       "      <td>u00004565</td>\n",
       "      <td>2016-04-01 00:01:38.570</td>\n",
       "      <td>2016-04-01</td>\n",
       "    </tr>\n",
       "  </tbody>\n",
       "</table>\n",
       "</div>"
      ],
      "text/plain": [
       "     user_id         timestamp_login  login_date\n",
       "0  u00005154 2016-04-01 00:01:03.900  2016-04-01\n",
       "1  u00000381 2016-04-01 00:01:18.670  2016-04-01\n",
       "2  u00004355 2016-04-01 00:01:23.340  2016-04-01\n",
       "3  u00001105 2016-04-01 00:01:25.700  2016-04-01\n",
       "4  u00004565 2016-04-01 00:01:38.570  2016-04-01"
      ]
     },
     "execution_count": 6,
     "metadata": {},
     "output_type": "execute_result"
    }
   ],
   "source": [
    "# タイプスタンプから日にちだけ抽出して列作成\n",
    "user_login_df['timestamp_login'] = pd.to_datetime(user_login_df['timestamp_login'], format='%Y-%m-%d %H:%M:%S.%f')\n",
    "user_login_df['login_date'] = user_login_df['timestamp_login'].dt.date\n",
    "user_login_df.head()"
   ]
  },
  {
   "cell_type": "code",
   "execution_count": 7,
   "metadata": {},
   "outputs": [
    {
     "data": {
      "text/html": [
       "<div>\n",
       "<style scoped>\n",
       "    .dataframe tbody tr th:only-of-type {\n",
       "        vertical-align: middle;\n",
       "    }\n",
       "\n",
       "    .dataframe tbody tr th {\n",
       "        vertical-align: top;\n",
       "    }\n",
       "\n",
       "    .dataframe thead th {\n",
       "        text-align: right;\n",
       "    }\n",
       "</style>\n",
       "<table border=\"1\" class=\"dataframe\">\n",
       "  <thead>\n",
       "    <tr style=\"text-align: right;\">\n",
       "      <th></th>\n",
       "      <th>user_id</th>\n",
       "      <th>timestamp_login</th>\n",
       "      <th>login_date</th>\n",
       "    </tr>\n",
       "    <tr>\n",
       "      <th>user_id</th>\n",
       "      <th></th>\n",
       "      <th></th>\n",
       "      <th></th>\n",
       "    </tr>\n",
       "  </thead>\n",
       "  <tbody>\n",
       "    <tr>\n",
       "      <th>u00005154</th>\n",
       "      <td>u00005154</td>\n",
       "      <td>2016-04-01 00:01:03.900</td>\n",
       "      <td>2016-04-01</td>\n",
       "    </tr>\n",
       "    <tr>\n",
       "      <th>u00000381</th>\n",
       "      <td>u00000381</td>\n",
       "      <td>2016-04-01 00:01:18.670</td>\n",
       "      <td>2016-04-01</td>\n",
       "    </tr>\n",
       "    <tr>\n",
       "      <th>u00004355</th>\n",
       "      <td>u00004355</td>\n",
       "      <td>2016-04-01 00:01:23.340</td>\n",
       "      <td>2016-04-01</td>\n",
       "    </tr>\n",
       "    <tr>\n",
       "      <th>u00001105</th>\n",
       "      <td>u00001105</td>\n",
       "      <td>2016-04-01 00:01:25.700</td>\n",
       "      <td>2016-04-01</td>\n",
       "    </tr>\n",
       "    <tr>\n",
       "      <th>u00004565</th>\n",
       "      <td>u00004565</td>\n",
       "      <td>2016-04-01 00:01:38.570</td>\n",
       "      <td>2016-04-01</td>\n",
       "    </tr>\n",
       "  </tbody>\n",
       "</table>\n",
       "</div>"
      ],
      "text/plain": [
       "             user_id         timestamp_login  login_date\n",
       "user_id                                                 \n",
       "u00005154  u00005154 2016-04-01 00:01:03.900  2016-04-01\n",
       "u00000381  u00000381 2016-04-01 00:01:18.670  2016-04-01\n",
       "u00004355  u00004355 2016-04-01 00:01:23.340  2016-04-01\n",
       "u00001105  u00001105 2016-04-01 00:01:25.700  2016-04-01\n",
       "u00004565  u00004565 2016-04-01 00:01:38.570  2016-04-01"
      ]
     },
     "execution_count": 7,
     "metadata": {},
     "output_type": "execute_result"
    }
   ],
   "source": [
    "# インデックス設定\n",
    "user_login_df.set_index('user_id', drop=False, inplace=True)\n",
    "user_login_df.head()"
   ]
  },
  {
   "cell_type": "code",
   "execution_count": 8,
   "metadata": {},
   "outputs": [
    {
     "name": "stderr",
     "output_type": "stream",
     "text": [
      "/Users/ikki/.pyenv/versions/anaconda3-5.2.0/lib/python3.6/site-packages/ipykernel_launcher.py:3: FutureWarning: 'user_id' is both an index level and a column label.\n",
      "Defaulting to column, but this will raise an ambiguity error in a future version\n",
      "  This is separate from the ipykernel package so we can avoid doing imports until\n"
     ]
    },
    {
     "data": {
      "text/plain": [
       "user_id\n",
       "u00000001    29\n",
       "u00000002    28\n",
       "u00000003     8\n",
       "u00000004    14\n",
       "u00000005     4\n",
       "dtype: int64"
      ]
     },
     "execution_count": 8,
     "metadata": {},
     "output_type": "execute_result"
    }
   ],
   "source": [
    "# 2列で集約した後、1列目の大きな集約単位で要素の数を数える。\n",
    "# 2列目の細かい集約単位で要素の数を変える場合は、.count()を外す。\n",
    "login_days = user_login_df.groupby(['user_id', 'login_date']).size().count(level='user_id')\n",
    "login_days.head()"
   ]
  },
  {
   "cell_type": "code",
   "execution_count": 9,
   "metadata": {},
   "outputs": [
    {
     "data": {
      "text/html": [
       "<div>\n",
       "<style scoped>\n",
       "    .dataframe tbody tr th:only-of-type {\n",
       "        vertical-align: middle;\n",
       "    }\n",
       "\n",
       "    .dataframe tbody tr th {\n",
       "        vertical-align: top;\n",
       "    }\n",
       "\n",
       "    .dataframe thead th {\n",
       "        text-align: right;\n",
       "    }\n",
       "</style>\n",
       "<table border=\"1\" class=\"dataframe\">\n",
       "  <thead>\n",
       "    <tr style=\"text-align: right;\">\n",
       "      <th></th>\n",
       "      <th>user_id</th>\n",
       "      <th>timestamp_login</th>\n",
       "      <th>login_date</th>\n",
       "      <th>login_days</th>\n",
       "    </tr>\n",
       "  </thead>\n",
       "  <tbody>\n",
       "    <tr>\n",
       "      <th>0</th>\n",
       "      <td>u00005154</td>\n",
       "      <td>2016-04-01 00:01:03.900</td>\n",
       "      <td>2016-04-01</td>\n",
       "      <td>30.0</td>\n",
       "    </tr>\n",
       "    <tr>\n",
       "      <th>1</th>\n",
       "      <td>u00000381</td>\n",
       "      <td>2016-04-01 00:01:18.670</td>\n",
       "      <td>2016-04-01</td>\n",
       "      <td>21.0</td>\n",
       "    </tr>\n",
       "    <tr>\n",
       "      <th>2</th>\n",
       "      <td>u00004355</td>\n",
       "      <td>2016-04-01 00:01:23.340</td>\n",
       "      <td>2016-04-01</td>\n",
       "      <td>29.0</td>\n",
       "    </tr>\n",
       "    <tr>\n",
       "      <th>3</th>\n",
       "      <td>u00001105</td>\n",
       "      <td>2016-04-01 00:01:25.700</td>\n",
       "      <td>2016-04-01</td>\n",
       "      <td>29.0</td>\n",
       "    </tr>\n",
       "    <tr>\n",
       "      <th>4</th>\n",
       "      <td>u00004565</td>\n",
       "      <td>2016-04-01 00:01:38.570</td>\n",
       "      <td>2016-04-01</td>\n",
       "      <td>30.0</td>\n",
       "    </tr>\n",
       "  </tbody>\n",
       "</table>\n",
       "</div>"
      ],
      "text/plain": [
       "     user_id         timestamp_login  login_date  login_days\n",
       "0  u00005154 2016-04-01 00:01:03.900  2016-04-01        30.0\n",
       "1  u00000381 2016-04-01 00:01:18.670  2016-04-01        21.0\n",
       "2  u00004355 2016-04-01 00:01:23.340  2016-04-01        29.0\n",
       "3  u00001105 2016-04-01 00:01:25.700  2016-04-01        29.0\n",
       "4  u00004565 2016-04-01 00:01:38.570  2016-04-01        30.0"
      ]
     },
     "execution_count": 9,
     "metadata": {},
     "output_type": "execute_result"
    }
   ],
   "source": [
    "# シリーズ型をfor文で回して、インデックスと値を処理したいときの書き方\n",
    "for index, value in login_days.iteritems():\n",
    "    user_login_df.at[index, 'login_days'] = value\n",
    "user_login_df.reset_index(drop=True, inplace=True)\n",
    "\n",
    "user_login_df.head()"
   ]
  },
  {
   "cell_type": "code",
   "execution_count": 10,
   "metadata": {},
   "outputs": [
    {
     "data": {
      "text/html": [
       "<div>\n",
       "<style scoped>\n",
       "    .dataframe tbody tr th:only-of-type {\n",
       "        vertical-align: middle;\n",
       "    }\n",
       "\n",
       "    .dataframe tbody tr th {\n",
       "        vertical-align: top;\n",
       "    }\n",
       "\n",
       "    .dataframe thead th {\n",
       "        text-align: right;\n",
       "    }\n",
       "</style>\n",
       "<table border=\"1\" class=\"dataframe\">\n",
       "  <thead>\n",
       "    <tr style=\"text-align: right;\">\n",
       "      <th></th>\n",
       "      <th>user_id</th>\n",
       "      <th>timestamp_login</th>\n",
       "      <th>login_date</th>\n",
       "      <th>login_days</th>\n",
       "      <th>not_active</th>\n",
       "      <th>active</th>\n",
       "      <th>most_active</th>\n",
       "    </tr>\n",
       "  </thead>\n",
       "  <tbody>\n",
       "    <tr>\n",
       "      <th>0</th>\n",
       "      <td>u00005154</td>\n",
       "      <td>2016-04-01 00:01:03.900</td>\n",
       "      <td>2016-04-01</td>\n",
       "      <td>30.0</td>\n",
       "      <td>0</td>\n",
       "      <td>0</td>\n",
       "      <td>1</td>\n",
       "    </tr>\n",
       "    <tr>\n",
       "      <th>1</th>\n",
       "      <td>u00000381</td>\n",
       "      <td>2016-04-01 00:01:18.670</td>\n",
       "      <td>2016-04-01</td>\n",
       "      <td>21.0</td>\n",
       "      <td>0</td>\n",
       "      <td>0</td>\n",
       "      <td>1</td>\n",
       "    </tr>\n",
       "    <tr>\n",
       "      <th>2</th>\n",
       "      <td>u00004355</td>\n",
       "      <td>2016-04-01 00:01:23.340</td>\n",
       "      <td>2016-04-01</td>\n",
       "      <td>29.0</td>\n",
       "      <td>0</td>\n",
       "      <td>0</td>\n",
       "      <td>1</td>\n",
       "    </tr>\n",
       "    <tr>\n",
       "      <th>3</th>\n",
       "      <td>u00001105</td>\n",
       "      <td>2016-04-01 00:01:25.700</td>\n",
       "      <td>2016-04-01</td>\n",
       "      <td>29.0</td>\n",
       "      <td>0</td>\n",
       "      <td>0</td>\n",
       "      <td>1</td>\n",
       "    </tr>\n",
       "    <tr>\n",
       "      <th>4</th>\n",
       "      <td>u00004565</td>\n",
       "      <td>2016-04-01 00:01:38.570</td>\n",
       "      <td>2016-04-01</td>\n",
       "      <td>30.0</td>\n",
       "      <td>0</td>\n",
       "      <td>0</td>\n",
       "      <td>1</td>\n",
       "    </tr>\n",
       "  </tbody>\n",
       "</table>\n",
       "</div>"
      ],
      "text/plain": [
       "     user_id         timestamp_login  login_date  login_days  not_active  \\\n",
       "0  u00005154 2016-04-01 00:01:03.900  2016-04-01        30.0           0   \n",
       "1  u00000381 2016-04-01 00:01:18.670  2016-04-01        21.0           0   \n",
       "2  u00004355 2016-04-01 00:01:23.340  2016-04-01        29.0           0   \n",
       "3  u00001105 2016-04-01 00:01:25.700  2016-04-01        29.0           0   \n",
       "4  u00004565 2016-04-01 00:01:38.570  2016-04-01        30.0           0   \n",
       "\n",
       "   active  most_active  \n",
       "0       0            1  \n",
       "1       0            1  \n",
       "2       0            1  \n",
       "3       0            1  \n",
       "4       0            1  "
      ]
     },
     "execution_count": 10,
     "metadata": {},
     "output_type": "execute_result"
    }
   ],
   "source": [
    "# ある列の値を比較して、値を付与する書き方\n",
    "user_login_df['not_active'] = np.where(user_login_df['login_days'] <= 10, 1, 0)\n",
    "user_login_df['active'] = np.where((10 < user_login_df['login_days']) & (user_login_df['login_days'] < 21), 1, 0)\n",
    "user_login_df['most_active'] = np.where(21 <= user_login_df['login_days'], 1, 0)\n",
    "user_login_df.head()"
   ]
  },
  {
   "cell_type": "code",
   "execution_count": 11,
   "metadata": {},
   "outputs": [
    {
     "data": {
      "image/png": "[encoded data removed]",
      "text/plain": [
       "<Figure size 800x550 with 1 Axes>"
      ]
     },
     "metadata": {},
     "output_type": "display_data"
    }
   ],
   "source": [
    "# サービス利用日数を可視化\n",
    "fig = plt.figure()\n",
    "ax = fig.add_subplot(111)\n",
    "\n",
    "ax.hist(login_days, range(0, 32), rwidth=0.9)\n",
    "ax.set_title('Histogram')\n",
    "ax.set_xlabel('active days')\n",
    "ax.set_ylabel('user_num')\n",
    "plt.savefig('./AprilActiveDays.png', dpi=300, bbox_inches='tight')"
   ]
  },
  {
   "cell_type": "markdown",
   "metadata": {},
   "source": [
    "だいたい一様に分布している様子。"
   ]
  },
  {
   "cell_type": "code",
   "execution_count": 12,
   "metadata": {},
   "outputs": [
    {
     "name": "stdout",
     "output_type": "stream",
     "text": [
      "2回以上参加した人数 255\n"
     ]
    },
    {
     "data": {
      "text/html": [
       "<div>\n",
       "<style scoped>\n",
       "    .dataframe tbody tr th:only-of-type {\n",
       "        vertical-align: middle;\n",
       "    }\n",
       "\n",
       "    .dataframe tbody tr th {\n",
       "        vertical-align: top;\n",
       "    }\n",
       "\n",
       "    .dataframe thead th {\n",
       "        text-align: right;\n",
       "    }\n",
       "</style>\n",
       "<table border=\"1\" class=\"dataframe\">\n",
       "  <thead>\n",
       "    <tr style=\"text-align: right;\">\n",
       "      <th></th>\n",
       "      <th>user_id</th>\n",
       "      <th>timestamp_event_entry</th>\n",
       "    </tr>\n",
       "  </thead>\n",
       "  <tbody>\n",
       "    <tr>\n",
       "      <th>738</th>\n",
       "      <td>u00005434</td>\n",
       "      <td>2016-05-01 09:11:11</td>\n",
       "    </tr>\n",
       "    <tr>\n",
       "      <th>1583</th>\n",
       "      <td>u00005434</td>\n",
       "      <td>2016-05-01 19:29:36</td>\n",
       "    </tr>\n",
       "  </tbody>\n",
       "</table>\n",
       "</div>"
      ],
      "text/plain": [
       "        user_id timestamp_event_entry\n",
       "738   u00005434   2016-05-01 09:11:11\n",
       "1583  u00005434   2016-05-01 19:29:36"
      ]
     },
     "execution_count": 12,
     "metadata": {},
     "output_type": "execute_result"
    }
   ],
   "source": [
    "# 2回参加した人もいる。\n",
    "print('2回以上参加した人数', event_entry_df.duplicated(subset='user_id').value_counts()[True])\n",
    "\n",
    "# サンプル確認\n",
    "event_entry_df.loc[event_entry_df['user_id']=='u00005434']"
   ]
  },
  {
   "cell_type": "code",
   "execution_count": 13,
   "metadata": {},
   "outputs": [],
   "source": [
    "# 何回イベントに参加したかカラム追加\n",
    "event_entry_df.set_index('user_id', drop=False, inplace=True)\n",
    "\n",
    "for index, value in event_entry_df['user_id'].value_counts().iteritems():\n",
    "    event_entry_df.at[index, 'event_entry_num'] = value\n",
    "\n",
    "event_entry_df.reset_index(drop=True, inplace=True)"
   ]
  },
  {
   "cell_type": "code",
   "execution_count": 14,
   "metadata": {},
   "outputs": [],
   "source": [
    "# 2回参加した人の重複削除\n",
    "event_entry_df.drop_duplicates(subset='user_id', inplace=True)"
   ]
  },
  {
   "cell_type": "code",
   "execution_count": 15,
   "metadata": {},
   "outputs": [
    {
     "name": "stdout",
     "output_type": "stream",
     "text": [
      "2016-05-03    159\n",
      "2016-05-05    158\n",
      "2016-05-04    145\n",
      "2016-05-07    144\n",
      "2016-05-02    130\n",
      "2016-05-06    127\n",
      "2016-05-08     87\n",
      "2016-05-01     83\n",
      "2016-05-13      4\n",
      "2016-05-10      2\n",
      "2016-05-11      2\n",
      "2016-05-12      1\n",
      "2016-05-09      1\n",
      "Name: item_purchase_date, dtype: int64\n"
     ]
    }
   ],
   "source": [
    "# アイテム購買履歴をイベント効果範囲で絞り込み\n",
    "item_purchase_df['timestamp_item_purchase'] = pd.to_datetime(item_purchase_df['timestamp_item_purchase'], format='%Y-%m-%d %H:%M:%S.%f')\n",
    "item_purchase_df['item_purchase_date'] = item_purchase_df['timestamp_item_purchase'].dt.date\n",
    "print(item_purchase_df['item_purchase_date'].value_counts())  # イベント開催日以降の購入が多い\n",
    "item_purchase_df = item_purchase_df.loc[item_purchase_df['item_purchase_date'] <= datetime.date(2016, 5, 8)]"
   ]
  },
  {
   "cell_type": "code",
   "execution_count": 16,
   "metadata": {},
   "outputs": [],
   "source": [
    "# 何回買ったかカラム追加\n",
    "item_purchase_df.set_index('user_id', drop=False, inplace=True)\n",
    "\n",
    "for index, value in item_purchase_df['user_id'].value_counts().iteritems():\n",
    "    item_purchase_df.at[index, 'item_purchase_num'] = value\n",
    "\n",
    "item_purchase_df.reset_index(drop=True, inplace=True)\n",
    "\n",
    "assert len(item_purchase_df.loc[item_purchase_df['item_purchase_num'] == 2]['user_id'].value_counts()) == 34"
   ]
  },
  {
   "cell_type": "code",
   "execution_count": 17,
   "metadata": {},
   "outputs": [],
   "source": [
    "# 2回以上購入した人の重複削除\n",
    "item_purchase_drop_duplicated_df = item_purchase_df.drop_duplicates(subset='user_id')\n",
    "assert 1033 - 34 == len(item_purchase_drop_duplicated_df)"
   ]
  },
  {
   "cell_type": "code",
   "execution_count": 18,
   "metadata": {},
   "outputs": [
    {
     "name": "stdout",
     "output_type": "stream",
     "text": [
      "Unique user in user_login_df: 8046\n",
      "Unique user in event_entry_df: 3779\n",
      "Common users in both: 3779\n"
     ]
    }
   ],
   "source": [
    "# 重複確認：ユーザーlogin時間とイベント参加ユーザーリストのuser_id\n",
    "print('Unique user in user_login_df:', len(user_login_df.user_id.unique()))\n",
    "print('Unique user in event_entry_df:', len(event_entry_df.user_id.unique()))\n",
    "print('Common users in both:', len(set(user_login_df.user_id.unique()) & set(event_entry_df.user_id.unique())))"
   ]
  },
  {
   "cell_type": "markdown",
   "metadata": {},
   "source": [
    "# データ加工"
   ]
  },
  {
   "cell_type": "code",
   "execution_count": 19,
   "metadata": {},
   "outputs": [],
   "source": [
    "# ユーザーlogin時間とイベント参加ユーザーリストを結合して、イベント参加有無を表すフラグを付与\n",
    "master_df = pd.merge(user_login_df, event_entry_df, on='user_id', how='left')\n",
    "master_df['event_entry_flag'] = np.where(master_df['timestamp_event_entry'].isnull(), 0, 1)"
   ]
  },
  {
   "cell_type": "code",
   "execution_count": 20,
   "metadata": {},
   "outputs": [],
   "source": [
    "# アイテム購買記録を結合して、アイテム購買有無を表すフラグを付与\n",
    "master_df = pd.merge(master_df, item_purchase_drop_duplicated_df, on='user_id', how='left')\n",
    "master_df['item_purchase_flag'] = np.where(master_df['timestamp_item_purchase'].isnull(), 0, 1)"
   ]
  },
  {
   "cell_type": "code",
   "execution_count": 21,
   "metadata": {},
   "outputs": [],
   "source": [
    "# 型変換\n",
    "master_df['login_days'] = master_df['login_days'].astype(np.int8)\n",
    "master_df['event_entry_num'] = master_df['event_entry_num'].fillna(0.0).astype(np.int8)\n",
    "master_df['item_purchase_num'] = master_df['item_purchase_num'].fillna(0.0).astype(np.int8)\n",
    "master_df['timestamp_login'] = pd.to_datetime(master_df['timestamp_login'], format='%Y-%m-%d %H:%M:%S.%f')\n",
    "master_df['login_date'] = pd.to_datetime(master_df['login_date'], format='%Y-%m-%d %H:%M:%S.%f')\n",
    "master_df['timestamp_event_entry'] = pd.to_datetime(master_df['timestamp_event_entry'], format='%Y-%m-%d %H:%M:%S.%f')\n",
    "master_df['timestamp_item_purchase'] = pd.to_datetime(master_df['timestamp_item_purchase'], format='%Y-%m-%d %H:%M:%S.%f')\n",
    "master_df['item_purchase_date'] = pd.to_datetime(master_df['item_purchase_date'], format='%Y-%m-%d %H:%M:%S.%f')"
   ]
  },
  {
   "cell_type": "code",
   "execution_count": 22,
   "metadata": {},
   "outputs": [
    {
     "data": {
      "text/html": [
       "<div>\n",
       "<style scoped>\n",
       "    .dataframe tbody tr th:only-of-type {\n",
       "        vertical-align: middle;\n",
       "    }\n",
       "\n",
       "    .dataframe tbody tr th {\n",
       "        vertical-align: top;\n",
       "    }\n",
       "\n",
       "    .dataframe thead th {\n",
       "        text-align: right;\n",
       "    }\n",
       "</style>\n",
       "<table border=\"1\" class=\"dataframe\">\n",
       "  <thead>\n",
       "    <tr style=\"text-align: right;\">\n",
       "      <th></th>\n",
       "      <th>user_id</th>\n",
       "      <th>timestamp_login</th>\n",
       "      <th>login_date</th>\n",
       "      <th>login_days</th>\n",
       "      <th>not_active</th>\n",
       "      <th>active</th>\n",
       "      <th>most_active</th>\n",
       "      <th>timestamp_event_entry</th>\n",
       "      <th>event_entry_num</th>\n",
       "      <th>event_entry_flag</th>\n",
       "      <th>item_id</th>\n",
       "      <th>timestamp_item_purchase</th>\n",
       "      <th>item_purchase_date</th>\n",
       "      <th>item_purchase_num</th>\n",
       "      <th>item_purchase_flag</th>\n",
       "    </tr>\n",
       "  </thead>\n",
       "  <tbody>\n",
       "    <tr>\n",
       "      <th>0</th>\n",
       "      <td>u00005154</td>\n",
       "      <td>2016-04-01 00:01:03.900</td>\n",
       "      <td>2016-04-01</td>\n",
       "      <td>30</td>\n",
       "      <td>0</td>\n",
       "      <td>0</td>\n",
       "      <td>1</td>\n",
       "      <td>2016-05-02 08:23:51</td>\n",
       "      <td>1</td>\n",
       "      <td>1</td>\n",
       "      <td>NaN</td>\n",
       "      <td>NaT</td>\n",
       "      <td>NaT</td>\n",
       "      <td>0</td>\n",
       "      <td>0</td>\n",
       "    </tr>\n",
       "    <tr>\n",
       "      <th>1</th>\n",
       "      <td>u00000381</td>\n",
       "      <td>2016-04-01 00:01:18.670</td>\n",
       "      <td>2016-04-01</td>\n",
       "      <td>21</td>\n",
       "      <td>0</td>\n",
       "      <td>0</td>\n",
       "      <td>1</td>\n",
       "      <td>NaT</td>\n",
       "      <td>0</td>\n",
       "      <td>0</td>\n",
       "      <td>NaN</td>\n",
       "      <td>NaT</td>\n",
       "      <td>NaT</td>\n",
       "      <td>0</td>\n",
       "      <td>0</td>\n",
       "    </tr>\n",
       "    <tr>\n",
       "      <th>2</th>\n",
       "      <td>u00004355</td>\n",
       "      <td>2016-04-01 00:01:23.340</td>\n",
       "      <td>2016-04-01</td>\n",
       "      <td>29</td>\n",
       "      <td>0</td>\n",
       "      <td>0</td>\n",
       "      <td>1</td>\n",
       "      <td>NaT</td>\n",
       "      <td>0</td>\n",
       "      <td>0</td>\n",
       "      <td>NaN</td>\n",
       "      <td>NaT</td>\n",
       "      <td>NaT</td>\n",
       "      <td>0</td>\n",
       "      <td>0</td>\n",
       "    </tr>\n",
       "    <tr>\n",
       "      <th>3</th>\n",
       "      <td>u00001105</td>\n",
       "      <td>2016-04-01 00:01:25.700</td>\n",
       "      <td>2016-04-01</td>\n",
       "      <td>29</td>\n",
       "      <td>0</td>\n",
       "      <td>0</td>\n",
       "      <td>1</td>\n",
       "      <td>2016-05-01 14:09:58</td>\n",
       "      <td>1</td>\n",
       "      <td>1</td>\n",
       "      <td>NaN</td>\n",
       "      <td>NaT</td>\n",
       "      <td>NaT</td>\n",
       "      <td>0</td>\n",
       "      <td>0</td>\n",
       "    </tr>\n",
       "    <tr>\n",
       "      <th>4</th>\n",
       "      <td>u00004565</td>\n",
       "      <td>2016-04-01 00:01:38.570</td>\n",
       "      <td>2016-04-01</td>\n",
       "      <td>30</td>\n",
       "      <td>0</td>\n",
       "      <td>0</td>\n",
       "      <td>1</td>\n",
       "      <td>2016-05-01 08:09:35</td>\n",
       "      <td>1</td>\n",
       "      <td>1</td>\n",
       "      <td>NaN</td>\n",
       "      <td>NaT</td>\n",
       "      <td>NaT</td>\n",
       "      <td>0</td>\n",
       "      <td>0</td>\n",
       "    </tr>\n",
       "  </tbody>\n",
       "</table>\n",
       "</div>"
      ],
      "text/plain": [
       "     user_id         timestamp_login login_date  login_days  not_active  \\\n",
       "0  u00005154 2016-04-01 00:01:03.900 2016-04-01          30           0   \n",
       "1  u00000381 2016-04-01 00:01:18.670 2016-04-01          21           0   \n",
       "2  u00004355 2016-04-01 00:01:23.340 2016-04-01          29           0   \n",
       "3  u00001105 2016-04-01 00:01:25.700 2016-04-01          29           0   \n",
       "4  u00004565 2016-04-01 00:01:38.570 2016-04-01          30           0   \n",
       "\n",
       "   active  most_active timestamp_event_entry  event_entry_num  \\\n",
       "0       0            1   2016-05-02 08:23:51                1   \n",
       "1       0            1                   NaT                0   \n",
       "2       0            1                   NaT                0   \n",
       "3       0            1   2016-05-01 14:09:58                1   \n",
       "4       0            1   2016-05-01 08:09:35                1   \n",
       "\n",
       "   event_entry_flag item_id timestamp_item_purchase item_purchase_date  \\\n",
       "0                 1     NaN                     NaT                NaT   \n",
       "1                 0     NaN                     NaT                NaT   \n",
       "2                 0     NaN                     NaT                NaT   \n",
       "3                 1     NaN                     NaT                NaT   \n",
       "4                 1     NaN                     NaT                NaT   \n",
       "\n",
       "   item_purchase_num  item_purchase_flag  \n",
       "0                  0                   0  \n",
       "1                  0                   0  \n",
       "2                  0                   0  \n",
       "3                  0                   0  \n",
       "4                  0                   0  "
      ]
     },
     "execution_count": 22,
     "metadata": {},
     "output_type": "execute_result"
    }
   ],
   "source": [
    "master_df.head()"
   ]
  },
  {
   "cell_type": "markdown",
   "metadata": {},
   "source": [
    "# 分析"
   ]
  },
  {
   "cell_type": "code",
   "execution_count": 23,
   "metadata": {},
   "outputs": [],
   "source": [
    "# user_idの重複削除\n",
    "analysis_df = master_df.drop_duplicates(subset='user_id')"
   ]
  },
  {
   "cell_type": "code",
   "execution_count": 24,
   "metadata": {},
   "outputs": [
    {
     "data": {
      "text/html": [
       "<div>\n",
       "<style scoped>\n",
       "    .dataframe tbody tr th:only-of-type {\n",
       "        vertical-align: middle;\n",
       "    }\n",
       "\n",
       "    .dataframe tbody tr th {\n",
       "        vertical-align: top;\n",
       "    }\n",
       "\n",
       "    .dataframe thead th {\n",
       "        text-align: right;\n",
       "    }\n",
       "</style>\n",
       "<table border=\"1\" class=\"dataframe\">\n",
       "  <thead>\n",
       "    <tr style=\"text-align: right;\">\n",
       "      <th></th>\n",
       "      <th></th>\n",
       "      <th>not_active</th>\n",
       "      <th>active</th>\n",
       "      <th>most_active</th>\n",
       "    </tr>\n",
       "    <tr>\n",
       "      <th>event_entry_flag</th>\n",
       "      <th>item_purchase_flag</th>\n",
       "      <th></th>\n",
       "      <th></th>\n",
       "      <th></th>\n",
       "    </tr>\n",
       "  </thead>\n",
       "  <tbody>\n",
       "    <tr>\n",
       "      <th rowspan=\"2\" valign=\"top\">0</th>\n",
       "      <th>0</th>\n",
       "      <td>1694</td>\n",
       "      <td>1327</td>\n",
       "      <td>592</td>\n",
       "    </tr>\n",
       "    <tr>\n",
       "      <th>1</th>\n",
       "      <td>425</td>\n",
       "      <td>208</td>\n",
       "      <td>21</td>\n",
       "    </tr>\n",
       "    <tr>\n",
       "      <th rowspan=\"2\" valign=\"top\">1</th>\n",
       "      <th>0</th>\n",
       "      <td>432</td>\n",
       "      <td>1042</td>\n",
       "      <td>1960</td>\n",
       "    </tr>\n",
       "    <tr>\n",
       "      <th>1</th>\n",
       "      <td>111</td>\n",
       "      <td>146</td>\n",
       "      <td>88</td>\n",
       "    </tr>\n",
       "  </tbody>\n",
       "</table>\n",
       "</div>"
      ],
      "text/plain": [
       "                                     not_active  active  most_active\n",
       "event_entry_flag item_purchase_flag                                 \n",
       "0                0                         1694    1327          592\n",
       "                 1                          425     208           21\n",
       "1                0                          432    1042         1960\n",
       "                 1                          111     146           88"
      ]
     },
     "execution_count": 24,
     "metadata": {},
     "output_type": "execute_result"
    }
   ],
   "source": [
    "# 集約\n",
    "analysis_df = analysis_df[['not_active', 'active', 'most_active', 'event_entry_flag', 'item_purchase_flag']]\n",
    "analysis_df.sort_values(['event_entry_flag', 'item_purchase_flag'], inplace=True)\n",
    "analysis_agg_df = analysis_df.groupby([analysis_df['event_entry_flag'], analysis_df['item_purchase_flag']]).sum()\n",
    "analysis_agg_df"
   ]
  },
  {
   "cell_type": "code",
   "execution_count": 25,
   "metadata": {},
   "outputs": [
    {
     "data": {
      "text/html": [
       "<div>\n",
       "<style scoped>\n",
       "    .dataframe tbody tr th:only-of-type {\n",
       "        vertical-align: middle;\n",
       "    }\n",
       "\n",
       "    .dataframe tbody tr th {\n",
       "        vertical-align: top;\n",
       "    }\n",
       "\n",
       "    .dataframe thead th {\n",
       "        text-align: right;\n",
       "    }\n",
       "</style>\n",
       "<table border=\"1\" class=\"dataframe\">\n",
       "  <thead>\n",
       "    <tr style=\"text-align: right;\">\n",
       "      <th></th>\n",
       "      <th></th>\n",
       "      <th>not_active</th>\n",
       "      <th>active</th>\n",
       "      <th>most_active</th>\n",
       "    </tr>\n",
       "    <tr>\n",
       "      <th>event_entry_flag</th>\n",
       "      <th>item_purchase_flag</th>\n",
       "      <th></th>\n",
       "      <th></th>\n",
       "      <th></th>\n",
       "    </tr>\n",
       "  </thead>\n",
       "  <tbody>\n",
       "    <tr>\n",
       "      <th rowspan=\"2\" valign=\"top\">0</th>\n",
       "      <th>0</th>\n",
       "      <td>63.636364</td>\n",
       "      <td>48.733015</td>\n",
       "      <td>22.247275</td>\n",
       "    </tr>\n",
       "    <tr>\n",
       "      <th>1</th>\n",
       "      <td>15.965440</td>\n",
       "      <td>7.638634</td>\n",
       "      <td>0.789177</td>\n",
       "    </tr>\n",
       "    <tr>\n",
       "      <th rowspan=\"2\" valign=\"top\">1</th>\n",
       "      <th>0</th>\n",
       "      <td>16.228400</td>\n",
       "      <td>38.266618</td>\n",
       "      <td>73.656520</td>\n",
       "    </tr>\n",
       "    <tr>\n",
       "      <th>1</th>\n",
       "      <td>4.169797</td>\n",
       "      <td>5.361733</td>\n",
       "      <td>3.307027</td>\n",
       "    </tr>\n",
       "  </tbody>\n",
       "</table>\n",
       "</div>"
      ],
      "text/plain": [
       "                                     not_active     active  most_active\n",
       "event_entry_flag item_purchase_flag                                    \n",
       "0                0                    63.636364  48.733015    22.247275\n",
       "                 1                    15.965440   7.638634     0.789177\n",
       "1                0                    16.228400  38.266618    73.656520\n",
       "                 1                     4.169797   5.361733     3.307027"
      ]
     },
     "execution_count": 25,
     "metadata": {},
     "output_type": "execute_result"
    }
   ],
   "source": [
    "# 割合表示\n",
    "analysis_agg_pct_df = analysis_agg_df / analysis_agg_df.sum() * 100\n",
    "analysis_agg_pct_df"
   ]
  },
  {
   "cell_type": "code",
   "execution_count": 26,
   "metadata": {},
   "outputs": [
    {
     "data": {
      "image/png": "[encoded data removed]",
      "text/plain": [
       "<Figure size 1200x300 with 1 Axes>"
      ]
     },
     "metadata": {},
     "output_type": "display_data"
    }
   ],
   "source": [
    "# 棒グラフに描画する\n",
    "fig = plt.figure(figsize=(12, 3))\n",
    "ax = fig.add_subplot(111)\n",
    "\n",
    "x = np.arange(1, 4)\n",
    "labels = ['not_active', 'active', 'most_active']\n",
    "\n",
    "y4 = analysis_agg_pct_df.iloc[:, :].sum().tolist()\n",
    "y3 = analysis_agg_pct_df.iloc[1:4, :].sum().tolist()\n",
    "y2 = analysis_agg_pct_df.iloc[2:4, :].sum().tolist()\n",
    "y1 = analysis_agg_pct_df.iloc[3, :].tolist()\n",
    "\n",
    "ax.bar(x, y4, tick_label=labels, label='notevent&notbuyer') \n",
    "ax.bar(x, y3, tick_label=labels, label='notevent&buyer') \n",
    "ax.bar(x, y2, tick_label=labels, label='event&notbuyer')\n",
    "ax.bar(x, y1, tick_label=labels, label='event&buyer')\n",
    "ax.legend(bbox_to_anchor=(1, 1))\n",
    "\n",
    "plt.savefig('./BarGraphAnalysis.png', dpi=300, bbox_inches='tight')"
   ]
  },
  {
   "cell_type": "code",
   "execution_count": 27,
   "metadata": {},
   "outputs": [
    {
     "data": {
      "image/png": "[encoded data removed]",
      "text/plain": [
       "<Figure size 1000x600 with 3 Axes>"
      ]
     },
     "metadata": {},
     "output_type": "display_data"
    }
   ],
   "source": [
    "# 円グラフの描画\n",
    "fig = plt.figure(figsize=(10,6))\n",
    "ax1= fig.add_subplot(221)\n",
    "ax2= fig.add_subplot(222)\n",
    "ax3= fig.add_subplot(223)\n",
    "\n",
    "axes = [ax1, ax2, ax3]\n",
    "labels = ['notevent&notbuyer', 'notevent&buyer', 'event&notbuyer', 'event&buyer']\n",
    "titles = ['not_active(~10days)', 'active(11~20days)', 'most_active(21days~)']\n",
    "\n",
    "for i in range(0, 3):\n",
    "    sizes = analysis_agg_pct_df.iloc[:, i].tolist()\n",
    "    axes[i].pie(sizes, labels=labels, startangle=90, counterclock=False, explode=(0, 0.15, 0, 0.15), autopct='%1.0f%%')\n",
    "    axes[i].set_title(titles[i])\n",
    "\n",
    "plt.savefig('./PieChartsAnalysis.png', dpi=300, bbox_inches='tight')"
   ]
  },
  {
   "cell_type": "code",
   "execution_count": 28,
   "metadata": {
    "scrolled": true
   },
   "outputs": [
    {
     "name": "stdout",
     "output_type": "stream",
     "text": [
      "イベント参加率（%）46.97%\n",
      "購買率（%）12.42%\n"
     ]
    }
   ],
   "source": [
    "print('イベント参加率（%）{:2.2f}%'.format(len(event_entry_df.user_id.unique()) / len(user_login_df.user_id.unique()) * 100))\n",
    "print('購買率（%）{:2.2f}%'.format(len(item_purchase_df.user_id.unique()) / len(user_login_df.user_id.unique()) * 100))"
   ]
  },
  {
   "cell_type": "code",
   "execution_count": 29,
   "metadata": {},
   "outputs": [],
   "source": [
    "# 細分化\n",
    "notevent_notbuyer = analysis_df.loc[(analysis_df['event_entry_flag'] == 0) & (analysis_df['item_purchase_flag'] == 0)]\n",
    "notevent_buyer = analysis_df.loc[(analysis_df['event_entry_flag'] == 0) & (analysis_df['item_purchase_flag'] == 1)]\n",
    "event_notbuyer = analysis_df.loc[(analysis_df['event_entry_flag'] == 1) & (analysis_df['item_purchase_flag'] == 0)]\n",
    "event_buyer = analysis_df.loc[(analysis_df['event_entry_flag'] == 1) & (analysis_df['item_purchase_flag'] == 1)]"
   ]
  },
  {
   "cell_type": "code",
   "execution_count": 30,
   "metadata": {},
   "outputs": [
    {
     "data": {
      "text/html": [
       "<div>\n",
       "<style scoped>\n",
       "    .dataframe tbody tr th:only-of-type {\n",
       "        vertical-align: middle;\n",
       "    }\n",
       "\n",
       "    .dataframe tbody tr th {\n",
       "        vertical-align: top;\n",
       "    }\n",
       "\n",
       "    .dataframe thead th {\n",
       "        text-align: right;\n",
       "    }\n",
       "</style>\n",
       "<table border=\"1\" class=\"dataframe\">\n",
       "  <thead>\n",
       "    <tr style=\"text-align: right;\">\n",
       "      <th></th>\n",
       "      <th>not_active</th>\n",
       "      <th>active</th>\n",
       "      <th>most_active</th>\n",
       "    </tr>\n",
       "    <tr>\n",
       "      <th>item_purchase_flag</th>\n",
       "      <th></th>\n",
       "      <th></th>\n",
       "      <th></th>\n",
       "    </tr>\n",
       "  </thead>\n",
       "  <tbody>\n",
       "    <tr>\n",
       "      <th>0</th>\n",
       "      <td>432</td>\n",
       "      <td>1042</td>\n",
       "      <td>1960</td>\n",
       "    </tr>\n",
       "    <tr>\n",
       "      <th>1</th>\n",
       "      <td>111</td>\n",
       "      <td>146</td>\n",
       "      <td>88</td>\n",
       "    </tr>\n",
       "  </tbody>\n",
       "</table>\n",
       "</div>"
      ],
      "text/plain": [
       "                    not_active  active  most_active\n",
       "item_purchase_flag                                 \n",
       "0                          432    1042         1960\n",
       "1                          111     146           88"
      ]
     },
     "execution_count": 30,
     "metadata": {},
     "output_type": "execute_result"
    }
   ],
   "source": [
    "# イベント参加者の切り口で再結合\n",
    "event_df = pd.concat([event_notbuyer, event_buyer])\n",
    "if len(event_df['event_entry_flag'].unique()) == 1:\n",
    "    event_df.drop(['event_entry_flag'], axis=1, inplace=True)\n",
    "assert event_df.shape == (3779, 4), '「イベント参加」のユーザー数がおかしい'\n",
    "\n",
    "event_agg_df = event_df.groupby(event_df['item_purchase_flag']).sum()\n",
    "event_agg_df"
   ]
  },
  {
   "cell_type": "code",
   "execution_count": 31,
   "metadata": {},
   "outputs": [
    {
     "data": {
      "text/html": [
       "<div>\n",
       "<style scoped>\n",
       "    .dataframe tbody tr th:only-of-type {\n",
       "        vertical-align: middle;\n",
       "    }\n",
       "\n",
       "    .dataframe tbody tr th {\n",
       "        vertical-align: top;\n",
       "    }\n",
       "\n",
       "    .dataframe thead th {\n",
       "        text-align: right;\n",
       "    }\n",
       "</style>\n",
       "<table border=\"1\" class=\"dataframe\">\n",
       "  <thead>\n",
       "    <tr style=\"text-align: right;\">\n",
       "      <th></th>\n",
       "      <th>not_active</th>\n",
       "      <th>active</th>\n",
       "      <th>most_active</th>\n",
       "    </tr>\n",
       "    <tr>\n",
       "      <th>item_purchase_flag</th>\n",
       "      <th></th>\n",
       "      <th></th>\n",
       "      <th></th>\n",
       "    </tr>\n",
       "  </thead>\n",
       "  <tbody>\n",
       "    <tr>\n",
       "      <th>0</th>\n",
       "      <td>79.558011</td>\n",
       "      <td>87.710438</td>\n",
       "      <td>95.703125</td>\n",
       "    </tr>\n",
       "    <tr>\n",
       "      <th>1</th>\n",
       "      <td>20.441989</td>\n",
       "      <td>12.289562</td>\n",
       "      <td>4.296875</td>\n",
       "    </tr>\n",
       "  </tbody>\n",
       "</table>\n",
       "</div>"
      ],
      "text/plain": [
       "                    not_active     active  most_active\n",
       "item_purchase_flag                                    \n",
       "0                    79.558011  87.710438    95.703125\n",
       "1                    20.441989  12.289562     4.296875"
      ]
     },
     "execution_count": 31,
     "metadata": {},
     "output_type": "execute_result"
    }
   ],
   "source": [
    "# 割合表示\n",
    "event_agg_df / event_agg_df.sum() * 100"
   ]
  },
  {
   "cell_type": "markdown",
   "metadata": {},
   "source": [
    "# 独立性検定"
   ]
  },
  {
   "cell_type": "markdown",
   "metadata": {},
   "source": [
    "カイ二乗検定  \n",
    "帰無仮説$H_0$: 「アイテム購入」と「サービス利用頻度」は独立である（関係がない）」  \n",
    "対立仮説$H_1$: 「アイテム購入」と「サービス利用頻度」は独立ではない（関係がある）」\n",
    "\n",
    "有意水準を0.05とする。  \n",
    "自由度は(3-1)*(2-1)の3。  \n",
    "棄却域7.81  "
   ]
  },
  {
   "cell_type": "code",
   "execution_count": 32,
   "metadata": {},
   "outputs": [
    {
     "name": "stdout",
     "output_type": "stream",
     "text": [
      "カイ二乗の統計量：155.717\n",
      "p値：0.000\n"
     ]
    }
   ],
   "source": [
    "event_data = np.array(event_agg_df)\n",
    "result = stats.chi2_contingency(event_data)\n",
    "\n",
    "print('カイ二乗の統計量：{:3.3f}'.format(result[0]))\n",
    "print('p値：{:3.3f}'.format(result[1]))"
   ]
  },
  {
   "cell_type": "markdown",
   "metadata": {},
   "source": [
    "p値が有意水準を下回ったため、帰無仮説$H_0$を棄却する。  \n",
    "（対立仮説$H_1$『「アイテム購入」と「サービス利用頻度」は独立ではない（関係がある）』を支持する。）"
   ]
  },
  {
   "cell_type": "markdown",
   "metadata": {},
   "source": [
    "# Appendix"
   ]
  },
  {
   "cell_type": "code",
   "execution_count": 33,
   "metadata": {},
   "outputs": [],
   "source": [
    "analysis_df = master_df.drop_duplicates(subset='user_id')\n",
    "notevent_notbuyer_analysis_df = analysis_df.loc[(analysis_df['event_entry_flag'] == 0) & (analysis_df['item_purchase_flag'] == 0)]\n",
    "notevent_buyer_analysis_df = analysis_df.loc[(analysis_df['event_entry_flag'] == 0) & (analysis_df['item_purchase_flag'] == 1)]\n",
    "event_notbuyer_analysis_df = analysis_df.loc[(analysis_df['event_entry_flag'] == 1) & (analysis_df['item_purchase_flag'] == 0)]\n",
    "event_buyer_analysis_df = analysis_df.loc[(analysis_df['event_entry_flag'] == 1) & (analysis_df['item_purchase_flag'] == 1)]"
   ]
  },
  {
   "cell_type": "code",
   "execution_count": 34,
   "metadata": {},
   "outputs": [],
   "source": [
    "buyer_analysis_df = pd.concat([notevent_buyer_analysis_df, event_buyer_analysis_df])"
   ]
  },
  {
   "cell_type": "code",
   "execution_count": 35,
   "metadata": {
    "scrolled": true
   },
   "outputs": [
    {
     "data": {
      "image/png": "[encoded data removed]",
      "text/plain": [
       "<Figure size 1200x300 with 1 Axes>"
      ]
     },
     "metadata": {},
     "output_type": "display_data"
    }
   ],
   "source": [
    "# 棒グラフ\n",
    "y1 = buyer_analysis_df.loc[buyer_analysis_df['event_entry_flag'] == 1]['item_id'].value_counts().sort_index()\n",
    "y2 = buyer_analysis_df.loc[buyer_analysis_df['event_entry_flag'] == 0]['item_id'].value_counts().sort_index()\n",
    "\n",
    "fig = plt.figure(figsize=(12, 3))\n",
    "ax = fig.add_subplot(111)\n",
    "\n",
    "w = 1\n",
    "x = np.arange(1, 11) * 3\n",
    "labels = ['item10000', 'item10001', 'item10002', 'item10003', 'item10004', 'item10005', 'item10006', 'item10007', 'item10008', 'item10009']\n",
    "ax.bar(x, y1, tick_label=labels, label='event') \n",
    "ax.bar(x+w, y2, width=w, tick_label=labels, label='notevent')\n",
    "ax.legend(loc='upper right')\n",
    "\n",
    "plt.savefig('./ItemAnalysis_BarGraph.png', dpi=300, bbox_inches='tight')"
   ]
  },
  {
   "cell_type": "markdown",
   "metadata": {},
   "source": [
    "イベントしたことでitem10002や10003の購買底上げ効果があるかもしれない。"
   ]
  },
  {
   "cell_type": "code",
   "execution_count": 36,
   "metadata": {},
   "outputs": [],
   "source": [
    "event_item_purchase_num_df = event_buyer_analysis_df.groupby(event_buyer_analysis_df['item_purchase_num']).sum()\n",
    "event_item_purchase_num_df.drop(['login_days', 'event_entry_flag', 'event_entry_num', 'item_purchase_flag'], axis=1, inplace=True)"
   ]
  },
  {
   "cell_type": "code",
   "execution_count": 37,
   "metadata": {},
   "outputs": [
    {
     "data": {
      "image/png": "[encoded data removed]",
      "text/plain": [
       "<Figure size 800x550 with 3 Axes>"
      ]
     },
     "metadata": {},
     "output_type": "display_data"
    }
   ],
   "source": [
    "# 円グラフの描画\n",
    "fig, axes = plt.subplots(1, 3)\n",
    "\n",
    "labels = ['item_purchase_num:1', 'item_purchase_num:2']\n",
    "titles = ['not_active', 'active', 'most_active']\n",
    "\n",
    "y1_pct = event_item_purchase_num_df.iloc[0] / event_item_purchase_num_df.sum()\n",
    "y2_pct = event_item_purchase_num_df.iloc[1] / event_item_purchase_num_df.sum()\n",
    "y_pct = np.array(pd.concat([y1_pct, y2_pct], axis=1))\n",
    "\n",
    "for i in range(0, 3):\n",
    "    sizes = y_pct[i].tolist()\n",
    "    axes[i].pie(sizes, labels=labels, startangle=90, counterclock=False, autopct='%1.0f%%')\n",
    "    axes[i].set_title(titles[i])\n",
    "\n",
    "plt.savefig('./ItemPurchaseNumAnalysis.png', dpi=300, bbox_inches='tight')"
   ]
  },
  {
   "cell_type": "markdown",
   "metadata": {},
   "source": [
    "eventに参加したmost_activeは2回買う人の割合は多く、使いこなしている、と言える。  "
   ]
  }
 ],
 "metadata": {
  "kernelspec": {
   "display_name": "Python 3",
   "language": "python",
   "name": "python3"
  },
  "language_info": {
   "codemirror_mode": {
    "name": "ipython",
    "version": 3
   },
   "file_extension": ".py",
   "mimetype": "text/x-python",
   "name": "python",
   "nbconvert_exporter": "python",
   "pygments_lexer": "ipython3",
   "version": "3.6.5"
  }
 },
 "nbformat": 4,
 "nbformat_minor": 2
}
