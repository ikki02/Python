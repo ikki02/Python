{
 "cells": [
  {
   "cell_type": "markdown",
   "metadata": {},
   "source": [
    "### GCP上でのサーバーの立て方\n",
    "\n",
    "1. Cloud Shellを起動する。\n",
    "1. echo \"Hello world\" > index.html\n",
    "1. python -m SimpleHTTPServer 81\n",
    "1. ブラウザの右上のボタン上にある「81で開く」的なやつをクリックすると、index.htmlが起動するはず。  \n",
    "  \n",
    "なお、Cloud Shell上ではポート番号は81-84が使えるらしい。"
   ]
  }
 ],
 "metadata": {
  "kernelspec": {
   "display_name": "Python 3",
   "language": "python",
   "name": "python3"
  },
  "language_info": {
   "codemirror_mode": {
    "name": "ipython",
    "version": 3
   },
   "file_extension": ".py",
   "mimetype": "text/x-python",
   "name": "python",
   "nbconvert_exporter": "python",
   "pygments_lexer": "ipython3",
   "version": "3.6.1"
  }
 },
 "nbformat": 4,
 "nbformat_minor": 2
}
