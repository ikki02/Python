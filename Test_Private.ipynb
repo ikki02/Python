{
 "cells": [
  {
   "cell_type": "code",
   "execution_count": 12,
   "metadata": {},
   "outputs": [
    {
     "data": {
      "text/plain": [
       "'ok'"
      ]
     },
     "execution_count": 12,
     "metadata": {},
     "output_type": "execute_result"
    }
   ],
   "source": [
    "# GUIからファイルの絶対パスを取得するプログラム\n",
    "# モジュールのインポート\n",
    "import os, tkinter, tkinter.filedialog, tkinter.messagebox\n",
    "\n",
    "# ファイル選択ダイアログの表示\n",
    "root = tkinter.Tk()\n",
    "root.withdraw()\n",
    "fTyp = [(\"\",\"*\")] #fTyp = [(\"\",\".csv\")]などと拡張子を指定すると、その拡張子のファイルしか表示しない。\n",
    "iDir = os.path.abspath(os.path.dirname('__file__')) #__file__で動かなかったので文字列に変更した。\n",
    "tkinter.messagebox.showinfo('○×プログラム','処理ファイルを選択してください！')\n",
    "file = tkinter.filedialog.askopenfilenames(filetypes = fTyp,initialdir = iDir) #askopenfilenamesと複数形にすると複数ファイル選択できる。\n",
    "\n",
    "# 処理ファイル名の出力\n",
    "tkinter.messagebox.showinfo('○×プログラム',file)"
   ]
  },
  {
   "cell_type": "code",
   "execution_count": null,
   "metadata": {
    "collapsed": true
   },
   "outputs": [],
   "source": [
    "# GUIでファイルを選択して特定の処理をさせる\n",
    "# 参考URL：　https://qiita.com/chanmaru/items/8e5ebf7d8b0b21c8fd3a\n",
    "import os,sys\n",
    "from tkinter import * #画面作成のモジュール\n",
    "from tkinter import ttk #画面作成のモジュール\n",
    "from tkinter import filedialog #ボタンクリック時の処理モジュール\n",
    "from tkinter import messagebox #ボタンクリック時の処理モジュール\n",
    "\n",
    "# 参照ボタンのイベント\n",
    "# button1クリック時の処理\n",
    "def button1_clicked():\n",
    "    fTyp = [(\"\",\"*\")]\n",
    "    iDir = os.path.abspath(os.path.dirname('__file__'))\n",
    "    #この辺の処理を変えれば、動きを変えられる？あるいは任意の処理を追加すればいいだけか。\n",
    "    filepath = filedialog.askopenfilenames(filetypes = fTyp,initialdir = iDir)\n",
    "    file1.set(filepath)\n",
    "\n",
    "# button2クリック時の処理\n",
    "def button2_clicked():\n",
    "    messagebox.showinfo('FileReference Tool', u'参照ファイルは↓↓\\n' + file1.get())\n",
    "\n",
    "# if __name__ == の書き方については、http://programming-study.com/technology/python-if-main/参照    \n",
    "if __name__ == '__main__':\n",
    "    # rootの作成\n",
    "    root = Tk()\n",
    "    root.title('FileReference Tool')\n",
    "    root.resizable(False, False) #ウィンドウサイズの変更を無効にする。\n",
    "\n",
    "    # Frame1の作成\n",
    "    frame1 = ttk.Frame(root, padding=10)\n",
    "    frame1.grid()\n",
    "\n",
    "    # 参照ボタンの作成\n",
    "    button1 = ttk.Button(root, text=u'参照', command=button1_clicked)\n",
    "    button1.grid(row=0, column=3)\n",
    "\n",
    "    # ラベルの作成\n",
    "    # 「ファイル」ラベルの作成\n",
    "    s = StringVar()\n",
    "    s.set('ファイル>>')\n",
    "    label1 = ttk.Label(frame1, textvariable=s)\n",
    "    label1.grid(row=0, column=0)\n",
    "\n",
    "    # 参照ファイルパス表示ラベルの作成\n",
    "    file1 = StringVar()\n",
    "    file1_entry = ttk.Entry(frame1, textvariable=file1, width=50)\n",
    "    file1_entry.grid(row=0, column=2)\n",
    "\n",
    "    # Frame2の作成\n",
    "    frame2 = ttk.Frame(root, padding=(0,5))\n",
    "    frame2.grid(row=1)\n",
    "\n",
    "    # Startボタンの作成\n",
    "    button2 = ttk.Button(frame2, text='Start', command=button2_clicked)\n",
    "    button2.pack(side=LEFT)\n",
    "\n",
    "    # Cancelボタンの作成\n",
    "    button3 = ttk.Button(frame2, text='Cancel', command=quit)\n",
    "    button3.pack(side=LEFT)\n",
    "\n",
    "    root.mainloop()"
   ]
  },
  {
   "cell_type": "code",
   "execution_count": null,
   "metadata": {
    "collapsed": true
   },
   "outputs": [],
   "source": [
    "# 特定のディレクトリ階層の中にあるcsvファイルを全て削除する。\n",
    "import os \n",
    "import glob\n",
    "\n",
    "path_list = glob.glob('./ac/*/*/*/*/weight*.csv') #globを使えば、*を使ったパス指定ができる。\n",
    "\n",
    "for path in path_list:\n",
    "    os.remove(path)"
   ]
  },
  {
   "cell_type": "code",
   "execution_count": null,
   "metadata": {
    "collapsed": true
   },
   "outputs": [],
   "source": [
    "# ディレクトリ内のファイル一括操作\n",
    "import os\n",
    "import sys\n",
    "\n",
    "directory = 'D:/1.programming/python/test'\n",
    "\n",
    "filelist = os.listdir(directory)\n",
    "\n",
    "a = 1\n",
    "\n",
    "for file in filelist:\n",
    "    path = os.path.join(directory, file)\n",
    "    name = 'file'+str(a)+'.xlsx'\n",
    "    target = os.path.join(directory, name)\n",
    "    os.rename(path, target)\n",
    "    a = a +1"
   ]
  },
  {
   "cell_type": "code",
   "execution_count": 1,
   "metadata": {},
   "outputs": [
    {
     "name": "stdout",
     "output_type": "stream",
     "text": [
      "ForTest_private.ipynb\n",
      "Introducing Python 3\n",
      "Introduction_to_ml_with_python\n",
      "Lib\n",
      "Matplotlib.ipynb\n",
      "NLP100Practices\n",
      "Pandas.ipynb\n",
      "Python-master\n",
      "Untitled.ipynb\n",
      "blockchain\n",
      "data_cleansing.ipynb\n",
      "sample-data-master\n",
      "test\n",
      "test1.py\n",
      "test2.py\n",
      "weather.py\n",
      "\n"
     ]
    }
   ],
   "source": [
    "import subprocess\n",
    "\n",
    "try:\n",
    "    command = subprocess.check_output('ls')\n",
    "except:\n",
    "    print('Error')\n",
    "\n",
    "print(command.decode('sjis'))"
   ]
  },
  {
   "cell_type": "code",
   "execution_count": null,
   "metadata": {
    "collapsed": true
   },
   "outputs": [],
   "source": [
    "import subprocess\n",
    "\n",
    "try:\n",
    "    command2 = subprocess.check_output('cd ')\n",
    "except:\n",
    "    print('Error')\n",
    "\n",
    "print(command2.decode('sjis'))"
   ]
  },
  {
   "cell_type": "code",
   "execution_count": null,
   "metadata": {
    "collapsed": true
   },
   "outputs": [],
   "source": [
    "# read_csvでエラーが起きたときの対処方法①\n",
    "# https://qiita.com/niwaringo/items/d2a30e04e08da8eaa643\n",
    "# エラーが起きた行に対してignoreで無視する。他の引数として、'replace'でエンコードできない文字を?に変える。'backslashreplace'でPython Unicode文字列を生成する。\n",
    "\n",
    "with codecs.open(\"file/to/path\", \"r\", \"Shift-JIS\", \"ignore\") as file: \n",
    "    df = pd.read_table(file, delimiter=\",\")\n",
    "    print(df)"
   ]
  },
  {
   "cell_type": "code",
   "execution_count": null,
   "metadata": {
    "collapsed": true
   },
   "outputs": [],
   "source": [
    "# read_csvでエラーが起きたときの対処方法②\n",
    "# http://own-search-and-study.xyz/2015/09/03/pandas%E3%81%AEread_csv%E3%81%AE%E5%85%A8%E5%BC%95%E6%95%B0%E3%82%92%E4%BD%BF%E3%81%84%E3%81%93%E3%81%AA%E3%81%99/#quotechar\n",
    "# quotechar: クォテーションを指定するパラメータ。デフォルトは”（ダブルクォテーション）。クォテーションで挟まれた値は１つのデータとみなし、下例のように、sep or delimiterで指定した区切り記号があっても無視されます。\n",
    "df = pd.read_csv('test2.txt', delimiter=',', quotechar='\"')"
   ]
  },
  {
   "cell_type": "code",
   "execution_count": null,
   "metadata": {
    "collapsed": true
   },
   "outputs": [],
   "source": [
    "# read_csvでエラーが起きたときの対処方法③\n",
    "# これが一番シンプルな方法。\n",
    "df = pd.read_csv(encoding='', usecols=[])"
   ]
  },
  {
   "cell_type": "code",
   "execution_count": 8,
   "metadata": {},
   "outputs": [
    {
     "data": {
      "text/plain": [
       "['c000',\n",
       " 'c001',\n",
       " 'c002',\n",
       " 'c003',\n",
       " 'c004',\n",
       " 'c005',\n",
       " 'c006',\n",
       " 'c007',\n",
       " 'c008',\n",
       " 'c009',\n",
       " 'c010']"
      ]
     },
     "execution_count": 8,
     "metadata": {},
     "output_type": "execute_result"
    }
   ],
   "source": [
    "# 0で指定した桁数埋めたい。\n",
    "# そんなときは.formatの{}をうまく使う。位置引数を指定した後、:の後に0で埋めて、何桁埋めるか記入した後、d（10進数）と書くとそれで埋まる。\n",
    "\n",
    "['c{0:03d}'.format(i) for i in range(11)]"
   ]
  },
  {
   "cell_type": "markdown",
   "metadata": {
    "collapsed": true
   },
   "source": [
    "### 形態素解析器janome参考URL:   \n",
    "[http://mocobeta.github.io/janome/]"
   ]
  },
  {
   "cell_type": "code",
   "execution_count": 2,
   "metadata": {},
   "outputs": [
    {
     "name": "stdout",
     "output_type": "stream",
     "text": [
      "すもも\t名詞,一般,*,*,*,*,すもも,スモモ,スモモ\n",
      "も\t助詞,係助詞,*,*,*,*,も,モ,モ\n",
      "もも\t名詞,一般,*,*,*,*,もも,モモ,モモ\n",
      "も\t助詞,係助詞,*,*,*,*,も,モ,モ\n",
      "もも\t名詞,一般,*,*,*,*,もも,モモ,モモ\n",
      "の\t助詞,連体化,*,*,*,*,の,ノ,ノ\n",
      "うち\t名詞,非自立,副詞可能,*,*,*,うち,ウチ,ウチ\n"
     ]
    }
   ],
   "source": [
    "# 文字化けする場合は、print(str(token).decode('utf8))などを試す。\n",
    "from janome.tokenizer import Tokenizer\n",
    "t = Tokenizer()\n",
    "for token in t.tokenize('すもももももももものうち'):\n",
    "    print(token)"
   ]
  },
  {
   "cell_type": "code",
   "execution_count": 3,
   "metadata": {},
   "outputs": [
    {
     "name": "stdout",
     "output_type": "stream",
     "text": [
      "すもも: 1\n",
      "もも: 2\n",
      "うち: 1\n"
     ]
    }
   ],
   "source": [
    "# tfのワードカウント\n",
    "# TokenCountFilter(att='base_form)とすると基本形の数を調べる。\n",
    "from janome.tokenizer import Tokenizer\n",
    "from janome.analyzer import Analyzer\n",
    "from janome.tokenfilter import *\n",
    "\n",
    "text = 'すもももももももものうち'\n",
    "token_filters = [POSKeepFilter('名詞'), TokenCountFilter()]\n",
    "a = Analyzer(token_filters=token_filters)\n",
    "for k, v in a.analyze(text):\n",
    "    print('%s: %d' % (k, v))"
   ]
  },
  {
   "cell_type": "code",
   "execution_count": 4,
   "metadata": {},
   "outputs": [
    {
     "data": {
      "text/plain": [
       "['分かち書き', 'モード', 'が', 'つき', 'まし', 'た', '！']"
      ]
     },
     "execution_count": 4,
     "metadata": {},
     "output_type": "execute_result"
    }
   ],
   "source": [
    "# 分かち書きモード\n",
    "# 表層形のみを返す\n",
    "# 分かち書きモードしか使わないということであれば、下記のように書くとメモリを節約できる。\n",
    "#t = Tokenizer(wakati=True)\n",
    "t = Tokenizer()\n",
    "tokens = t.tokenize('分かち書きモードがつきました！', wakati=True)\n",
    "tokens"
   ]
  }
 ],
 "metadata": {
  "kernelspec": {
   "display_name": "Python 3",
   "language": "python",
   "name": "python3"
  },
  "language_info": {
   "codemirror_mode": {
    "name": "ipython",
    "version": 3
   },
   "file_extension": ".py",
   "mimetype": "text/x-python",
   "name": "python",
   "nbconvert_exporter": "python",
   "pygments_lexer": "ipython3",
   "version": "3.6.1"
  }
 },
 "nbformat": 4,
 "nbformat_minor": 2
}
