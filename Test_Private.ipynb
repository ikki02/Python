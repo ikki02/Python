{
 "cells": [
  {
   "cell_type": "code",
   "execution_count": 28,
   "metadata": {
    "collapsed": false
   },
   "outputs": [],
   "source": [
    "# テキストファイル群のリストをhot_idsに取得\n",
    "import codecs\n",
    "with codecs.open('C:/Users/analysis/hot_ids.txt', mode='r', encoding='utf-8') as infile:\n",
    "    hot_ids = infile.readlines()"
   ]
  },
  {
   "cell_type": "code",
   "execution_count": null,
   "metadata": {
    "collapsed": false
   },
   "outputs": [],
   "source": [
    "# コーパス全体のTFおよびヒストグラム算出\n",
    "import os \n",
    "import sys\n",
    "from collections import Counter\n",
    "from matplotlib import pyplot as plt, font_manager\n",
    "%matplotlib inline\n",
    "\n",
    "input_directory = 'C:/Users/analysis/input/elements'\n",
    "filelist = os.listdir(input_directory)\n",
    "mecablist = []\n",
    "\n",
    "for file in filelist:\n",
    "    input_path = os.path.join(input_directory, file)    \n",
    "    with open(input_path, 'rt', encoding='UTF-8') as infile:\n",
    "        maru = infile.read()\n",
    "        maru_list = maru.splitlines()\n",
    "        for u in maru_list:\n",
    "            xlist = []\n",
    "            for v in u.split():\n",
    "                xlist.append(v)\n",
    "            mecablist.append(xlist)\n",
    "\n",
    "        # 得られた単語情報リストのリストから、単語の部分だけを取り出したリストを作る\n",
    "        wordbodylist = []\n",
    "        for u in mecablist:\n",
    "            wordbodylist.append(u[0])\n",
    "# 単語のリストで出現頻度を数える\n",
    "cnt = Counter(wordbodylist)\n",
    "# 頻度順に100個表示\n",
    "print(sorted(cnt.items(), key=lambda x: x[1], reverse=True)[:100])\n",
    "        #text = text.replace(',', '\\t')\n",
    "\n",
    "# matplotlib設定用コート\n",
    "# matplotlibに描画する度に（, fontproperties=font）引数を指定する。\n",
    "# なぜか設定ファイルはきかない。。。\n",
    "font_manager._rebuild()\n",
    "font_dir = font_manager.win32FontDirectory()\n",
    "font_path = os.path.join(font_dir, 'SourceHanCodeJP-Regular.otf')\n",
    "fp = font_manager.FontProperties(fname=font_path, size=14)\n",
    "\n",
    "size = 100\n",
    "list_word = cnt.most_common(size)\n",
    "\n",
    "# 単語（x軸用）と出現数（y軸用）のリストに分解\n",
    "list_zipped = list(zip(*list_word))\n",
    "words = list_zipped[0]\n",
    "counts = list_zipped[1]\n",
    "\n",
    "# グラフで使うフォント情報(デフォルトのままでは日本語が表示できない)\n",
    "#fp = FontProperties(\n",
    "#    fname='/usr/share/fonts/truetype/takao-gothic/TakaoGothic.ttf'\n",
    "#)\n",
    "\n",
    "# 棒グラフのデータ指定\n",
    "plt.bar(\n",
    "    range(0, size),     # x軸の値（0,1,2...9）\n",
    "    counts,             # それに対応するy軸の値\n",
    "    align='center'      # x軸における棒グラフの表示位置\n",
    ")\n",
    "\n",
    "# x軸のラベルの指定\n",
    "plt.xticks(\n",
    "    range(0, size),     # x軸の値（0,1,2...9）\n",
    "    words,              # それに対応するラベル\n",
    "    fontproperties=fp   # 使うフォント情報\n",
    ")\n",
    "\n",
    "# x軸の値の範囲の調整\n",
    "plt.xlim(\n",
    "    xmin=-1, xmax=size  # -1〜10（左右に1の余裕を持たせて見栄え良く）\n",
    ")\n",
    "\n",
    "# グラフのタイトル、ラベル指定\n",
    "plt.title(\n",
    "    '37. 頻度上位10語',    # タイトル\n",
    "    fontproperties=fp   # 使うフォント情報\n",
    ")\n",
    "plt.xlabel(\n",
    "    '出現頻度が高い10語',# x軸ラベル\n",
    "    fontproperties=fp   # 使うフォント情報\n",
    ")\n",
    "plt.ylabel(\n",
    "    '出現頻度',         # y軸ラベル\n",
    "    fontproperties=fp   # 使うフォント情報\n",
    ")\n",
    "\n",
    "# グリッドを表示\n",
    "plt.grid(axis='y')\n",
    "\n",
    "# 表示\n",
    "plt.show()"
   ]
  },
  {
   "cell_type": "code",
   "execution_count": null,
   "metadata": {
    "collapsed": true
   },
   "outputs": [],
   "source": [
    "from datetime import datetime, timedelta\n",
    "import re\n",
    "\n",
    "def trans_active_date(org):\n",
    "    int8 = re.compile(r'\\d{8}')\n",
    "    serial = re.complile(r'\\d{5}')\n",
    "    org_string = str(org)\n",
    "    if int8.match(org_string):\n",
    "        return pd.to_datetime(org, format='%Y%m%d')\n",
    "    elif serial.match(org_string):\n",
    "        return (datetime(1899, 12, 30) + timedelta(days=int(org)))\n",
    "    else:\n",
    "        return pd.to_datetime(org, infer_datetime_format=True)"
   ]
  },
  {
   "cell_type": "code",
   "execution_count": null,
   "metadata": {},
   "outputs": [],
   "source": [
    "# xlsxwriter:エクセルファイルの作成\n",
    "# 参考URL：[http://www.rouge.gr.jp/~fuku/tips/xlsxwriter/docs/]\n",
    "import xlsxwriter\n",
    "wb = xlsxwriter.Workbook('test.xlsx')\n",
    "ws = wb.add_worksheet(\"シート名\")\n",
    "\n",
    "ws.write(0, 0, \"テストテストテスト\")\n",
    "wb.close()"
   ]
  },
  {
   "cell_type": "code",
   "execution_count": 11,
   "metadata": {},
   "outputs": [
    {
     "name": "stdout",
     "output_type": "stream",
     "text": [
      "weightlistの値：[0.       0.426744 0.221186]\n",
      "最大値のインデックス：1\n"
     ]
    }
   ],
   "source": [
    "# 乱数生成と最大値のインデックス取得方法\n",
    "import numpy as np\n",
    "from numpy.random import *\n",
    "\n",
    "ndarray = np.array([0,1,2])\n",
    "weightlist = rand(len(ndarray)) * ndarray\n",
    "print('weightlistの値：' + str(weightlist))\n",
    "print('最大値のインデックス：' + str(np.argmax(weightlist)))"
   ]
  },
  {
   "cell_type": "code",
   "execution_count": 2,
   "metadata": {},
   "outputs": [
    {
     "name": "stdout",
     "output_type": "stream",
     "text": [
      "d:\\0.programs\\anaconda3\\lib\\datetime.py\n"
     ]
    }
   ],
   "source": [
    "# ライブラリが格納されているパスの調べ方\n",
    "import datetime\n",
    "print (datetime.__file__)"
   ]
  },
  {
   "cell_type": "code",
   "execution_count": 1,
   "metadata": {},
   "outputs": [
    {
     "name": "stdout",
     "output_type": "stream",
     "text": [
      "[1, 2, 3, 4, 5, 6]\n"
     ]
    }
   ],
   "source": [
    "# 一意のリストにする書き方\n",
    "# 一度集合化して、再リスト化する。\n",
    "u = [1, 1, 2, 3, 3, 4, 5, 6, 6]\n",
    "v = list(set(u))\n",
    "print(v)"
   ]
  },
  {
   "cell_type": "code",
   "execution_count": 1,
   "metadata": {},
   "outputs": [],
   "source": [
    "#ラムダ式(ついでにリストのソートも。)\n",
    "'''\n",
    "def extract_height(u):\n",
    "    return u[1]\n",
    "p = [['東京タワー', 330], ['通天閣', 108], ['名古屋テレビ塔', 180]]\n",
    "p = sorted(p) # ←名前（バイナリ形式？）でソートする。\n",
    "q = sorted(p, key=extract_height)# ←関数にpを渡して返される値がkeyとしてソートされる。\n",
    "'''\n",
    "\n",
    "# リストをラムダ式でソートする場合。\n",
    "p = [['東京タワー', 330], ['通天閣', 108], ['名古屋テレビ塔', 180]]\n",
    "q = sorted(p, key=lambda u: u[1])\n",
    "print(q)\n",
    "\n",
    "# 辞書をソートする場合。\n",
    "dic = {'東京タワー': 333, '富士山': 3776, '通天閣': 108, '天保山': 4.53}\n",
    "print(sorted(dic.items(), key=lambda u: u[1]))\n",
    "\n",
    "# 降順にするには、reverse引数をTrueにする。\n",
    "print(sorted(dic.items(), key=lambda u: u[1], reverse=True))"
   ]
  },
  {
   "cell_type": "code",
   "execution_count": 7,
   "metadata": {},
   "outputs": [
    {
     "name": "stdout",
     "output_type": "stream",
     "text": [
      "[2, 6, 10, 14, 18]\n",
      "[6, 10, 14, 18]\n",
      "[5, 6, 10, 14, 18]\n"
     ]
    }
   ],
   "source": [
    "#リスト内包表記\n",
    "#内包表記を使った方が見やすく、\n",
    "input = [1, 3, 5, 7, 9]\n",
    "output = []  #                   ←空のリストを作る\n",
    "\n",
    "'''\n",
    "for u in input:\n",
    "    output.append(u*2)  #        ←u*2の要素を1つずつ追加\n",
    "print(output)           #        ←結果は[2, 6, 10, 14, 18]\n",
    "'''\n",
    "\n",
    "output = [u*2 for u in input]\n",
    "print(output)           #        ←結果は[2, 6, 10, 14, 18]\n",
    "\n",
    "# 条件をつける場合の書き方①\n",
    "output = [u*2 for u in input if u>=3]\n",
    "print(output)           #        ←結果は[6, 10, 14, 18]\n",
    "\n",
    "# 条件を付ける場合の書き方②: if else節をforの前に書かなければならない。\n",
    "output = [u*2 if u>=3 else u*5 for u in input]\n",
    "print(output)           #        ←結果は[5, 6, 10, 14, 18]"
   ]
  },
  {
   "cell_type": "code",
   "execution_count": 4,
   "metadata": {},
   "outputs": [
    {
     "name": "stdout",
     "output_type": "stream",
     "text": [
      "{'東京タワー': 0.333, '富士山': 3.776, '通天閣': 0.108, '天保山': 0.00453}\n"
     ]
    }
   ],
   "source": [
    "# 辞書内包表記\n",
    "input = {'東京タワー': 333, '富士山': 3776, '通天閣': 108, '天保山': 4.53}\n",
    "\n",
    "output = { u:v/1000 for u,v in input.items() }\n",
    "print(output)           # 結果は\\{'東京タワー': 0.333, '富士山': 3.776, '通天閣': 0.108, '天保山': 0.00453\\}"
   ]
  },
  {
   "cell_type": "code",
   "execution_count": 2,
   "metadata": {},
   "outputs": [
    {
     "name": "stdout",
     "output_type": "stream",
     "text": [
      "0 東京\n",
      "1 大阪\n",
      "2 福岡\n"
     ]
    }
   ],
   "source": [
    "# -*- coding: utf-8 -*-\n",
    "# enumerateの使い方\n",
    "input = ['東京', '大阪', '福岡']\n",
    "for i, v in enumerate(input):\n",
    "    print(i, v)"
   ]
  },
  {
   "cell_type": "code",
   "execution_count": 8,
   "metadata": {},
   "outputs": [
    {
     "name": "stdout",
     "output_type": "stream",
     "text": [
      "('東京タワー', 330)\n",
      "('通天閣', 108)\n",
      "('名古屋テレビ塔', 180)\n"
     ]
    }
   ],
   "source": [
    "# zipの使い方\n",
    "# 複数のリストライクなオブジェクトをまとめて処理できる。\n",
    "towers = ['東京タワー', '通天閣', '名古屋テレビ塔']\n",
    "heights = [330, 108, 180]\n",
    "for u in zip(towers, heights):\n",
    "    print(u)"
   ]
  },
  {
   "cell_type": "code",
   "execution_count": 19,
   "metadata": {},
   "outputs": [
    {
     "name": "stdout",
     "output_type": "stream",
     "text": [
      "True\n"
     ]
    }
   ],
   "source": [
    "# if文の便利な纏め方。\n",
    "# sumを使って、条件を,で区切る。下記の書き方は、3つの条件のうち、2つ以上満たしていればTrueを返す。\n",
    "n = 77\n",
    "\n",
    "if sum([n >= 20, n <= 50, n % 7 == 0]) >= 2:\n",
    "    print(True)\n",
    "else:\n",
    "    print(False)"
   ]
  },
  {
   "cell_type": "code",
   "execution_count": 1,
   "metadata": {},
   "outputs": [
    {
     "name": "stdout",
     "output_type": "stream",
     "text": [
      "ForTest_private.ipynb\n",
      "Introducing Python 3\n",
      "Introduction_to_ml_with_python\n",
      "Lib\n",
      "Matplotlib.ipynb\n",
      "NLP100Practices\n",
      "Pandas.ipynb\n",
      "Python-master\n",
      "Untitled.ipynb\n",
      "blockchain\n",
      "data_cleansing.ipynb\n",
      "sample-data-master\n",
      "test\n",
      "test1.py\n",
      "test2.py\n",
      "weather.py\n",
      "\n"
     ]
    }
   ],
   "source": [
    "import subprocess\n",
    "\n",
    "try:\n",
    "    command = subprocess.check_output('ls')\n",
    "except:\n",
    "    print('Error')\n",
    "\n",
    "print(command.decode('sjis'))"
   ]
  },
  {
   "cell_type": "code",
   "execution_count": null,
   "metadata": {
    "collapsed": true
   },
   "outputs": [],
   "source": [
    "import subprocess\n",
    "\n",
    "try:\n",
    "    command2 = subprocess.check_output('cd ')\n",
    "except:\n",
    "    print('Error')\n",
    "\n",
    "print(command2.decode('sjis'))"
   ]
  },
  {
   "cell_type": "code",
   "execution_count": null,
   "metadata": {
    "collapsed": true
   },
   "outputs": [],
   "source": [
    "# read_csvでエラーが起きたときの対処方法①\n",
    "# https://qiita.com/niwaringo/items/d2a30e04e08da8eaa643\n",
    "# エラーが起きた行に対してignoreで無視する。他の引数として、'replace'でエンコードできない文字を?に変える。'backslashreplace'でPython Unicode文字列を生成する。\n",
    "\n",
    "with codecs.open(\"file/to/path\", \"r\", \"Shift-JIS\", \"ignore\") as file: \n",
    "    df = pd.read_table(file, delimiter=\",\")\n",
    "    print(df)"
   ]
  },
  {
   "cell_type": "code",
   "execution_count": null,
   "metadata": {
    "collapsed": true
   },
   "outputs": [],
   "source": [
    "# read_csvでエラーが起きたときの対処方法②\n",
    "# http://own-search-and-study.xyz/2015/09/03/pandas%E3%81%AEread_csv%E3%81%AE%E5%85%A8%E5%BC%95%E6%95%B0%E3%82%92%E4%BD%BF%E3%81%84%E3%81%93%E3%81%AA%E3%81%99/#quotechar\n",
    "# quotechar: クォテーションを指定するパラメータ。デフォルトは”（ダブルクォテーション）。クォテーションで挟まれた値は１つのデータとみなし、下例のように、sep or delimiterで指定した区切り記号があっても無視されます。\n",
    "df = pd.read_csv('test2.txt', delimiter=',', quotechar='\"')"
   ]
  },
  {
   "cell_type": "code",
   "execution_count": null,
   "metadata": {
    "collapsed": true
   },
   "outputs": [],
   "source": [
    "# read_csvでエラーが起きたときの対処方法③\n",
    "# これが一番シンプルな方法。\n",
    "df = pd.read_csv(encoding='', usecols=[])"
   ]
  },
  {
   "cell_type": "code",
   "execution_count": 8,
   "metadata": {},
   "outputs": [
    {
     "data": {
      "text/plain": [
       "['c000',\n",
       " 'c001',\n",
       " 'c002',\n",
       " 'c003',\n",
       " 'c004',\n",
       " 'c005',\n",
       " 'c006',\n",
       " 'c007',\n",
       " 'c008',\n",
       " 'c009',\n",
       " 'c010']"
      ]
     },
     "execution_count": 8,
     "metadata": {},
     "output_type": "execute_result"
    }
   ],
   "source": [
    "# 0で指定した桁数埋めたい。\n",
    "# そんなときは.formatの{}をうまく使う。位置引数を指定した後、:の後に0で埋めて、何桁埋めるか記入した後、d（10進数）と書くとそれで埋まる。\n",
    "\n",
    "['c{0:03d}'.format(i) for i in range(11)]"
   ]
  },
  {
   "cell_type": "code",
   "execution_count": null,
   "metadata": {
    "collapsed": true
   },
   "outputs": [],
   "source": [
    "# csv_to_txt converter\n",
    "# 必要な引数：csv入力パス、text出力パス\n",
    "# 設定の必要があるパラメータ：textファイルの名前になるカラム名（デフォルト：ID）、出力したいカラム名（デフォルト：text）、出力先のパス名\n",
    "import pandas as pd\n",
    "import codecs\n",
    "\n",
    "def csv_to_text(df, outPath):\n",
    "    outPath += \"/texts\"\n",
    "\n",
    "    for i in df.index:\n",
    "        fname = \"{0}/{1}.txt\".format(outPath, df['ID'][i])\n",
    "        fw = codecs.open(fname, \"w\", \"utf-8\")\n",
    "        fw.write(str(df[\"text\"][i]))\n",
    "        fw.close()\n",
    "\n",
    "# csv入力パスを指定します。\n",
    "test2 = pd.read_csv('..\\\\..\\\\Desktop\\\\analysis\\\\data\\\\sample.csv', engine='python')\n",
    "\n",
    "# csv_to_text converterを実行します。\n",
    "csv_to_text(test2, 'C:\\\\Users\\\\ikki_ikazaki\\\\Desktop\\\\analysis\\\\input')"
   ]
  }
 ],
 "metadata": {
  "kernelspec": {
   "display_name": "Python 3",
   "language": "python",
   "name": "python3"
  },
  "language_info": {
   "codemirror_mode": {
    "name": "ipython",
    "version": 3
   },
   "file_extension": ".py",
   "mimetype": "text/x-python",
   "name": "python",
   "nbconvert_exporter": "python",
   "pygments_lexer": "ipython3",
   "version": "3.6.1"
  }
 },
 "nbformat": 4,
 "nbformat_minor": 2
}
