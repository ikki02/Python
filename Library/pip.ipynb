{
 "cells": [
  {
   "cell_type": "markdown",
   "metadata": {},
   "source": [
    "### pipの使い方\n",
    "基本は pip command -option の書き方。    \n",
    "参考URL：[https://www.python-izm.com/tips/pip/]      \n",
    "get-pip.pyのダウンロード先URL：[https://bootstrap.pypa.io/get-pip.py]\n",
    "- python -mというオプションを指定すると、モジュールをスクリプトとして実行できる。（例：python -m pip -V）\n",
    "- その他コマンドラインのオプション一覧[https://docs.python.jp/3/using/cmdline.html]"
   ]
  },
  {
   "cell_type": "code",
   "execution_count": null,
   "metadata": {
    "collapsed": true
   },
   "outputs": [],
   "source": [
    "# pipのインストール\n",
    "python get-pip.py"
   ]
  },
  {
   "cell_type": "code",
   "execution_count": null,
   "metadata": {
    "collapsed": true
   },
   "outputs": [],
   "source": [
    "# なにはともあれヘルプ！！\n",
    "# 使えるコマンドが表示される。\n",
    "# 特定のコマンドのヘルプを知りたい場合は pip 特定のcommand -h で調べられる。\n",
    "pip -h"
   ]
  },
  {
   "cell_type": "code",
   "execution_count": null,
   "metadata": {
    "collapsed": true
   },
   "outputs": [],
   "source": [
    "# pipのバージョンを確認する。\n",
    "# コメントアウトしている書き方はpythonのバージョンを確認する。\n",
    "pip -V\n",
    "# python -V"
   ]
  },
  {
   "cell_type": "code",
   "execution_count": null,
   "metadata": {
    "collapsed": true
   },
   "outputs": [],
   "source": [
    "# インストール済のライブラリの一覧とバージョンを表示する。\n",
    "# コメントアウトしている書き方もほぼ同様のコマンド\n",
    "pip list\n",
    "# pip freeze"
   ]
  },
  {
   "cell_type": "code",
   "execution_count": null,
   "metadata": {
    "collapsed": true
   },
   "outputs": [],
   "source": [
    "# パッケージのインストール\n",
    "# バージョンを指定してインストールしたい時はコメントアウトの書き方を参照。\n",
    "pip install PackageName\n",
    "# pip install numpy==1.11.0"
   ]
  },
  {
   "cell_type": "code",
   "execution_count": null,
   "metadata": {
    "collapsed": true
   },
   "outputs": [],
   "source": [
    "# 一括インストールの仕方\n",
    "# テキストファイルに numpy==1.11.0 みたいなのを1行ずつ記載していく。（requirements.txt）\n",
    "pip install -r requirements.txt"
   ]
  },
  {
   "cell_type": "code",
   "execution_count": null,
   "metadata": {
    "collapsed": true
   },
   "outputs": [],
   "source": [
    "# パッケージのアンインストール\n",
    "pip uninstall PackageName"
   ]
  },
  {
   "cell_type": "code",
   "execution_count": null,
   "metadata": {
    "collapsed": true
   },
   "outputs": [],
   "source": [
    "# パッケージを検索する。\n",
    "pip search SearchWord"
   ]
  },
  {
   "cell_type": "code",
   "execution_count": null,
   "metadata": {
    "collapsed": true
   },
   "outputs": [],
   "source": [
    "# pipをアップグレードする。\n",
    "pip install -U pip"
   ]
  },
  {
   "cell_type": "code",
   "execution_count": null,
   "metadata": {
    "collapsed": true
   },
   "outputs": [],
   "source": [
    "# パッケージをアップグレードする。\n",
    "pip install -U pandas"
   ]
  },
  {
   "cell_type": "code",
   "execution_count": null,
   "metadata": {
    "collapsed": true
   },
   "outputs": [],
   "source": [
    "# パッケージの情報を得る。pathやバージョンなど。\n",
    "pip show pandas"
   ]
  },
  {
   "cell_type": "markdown",
   "metadata": {},
   "source": [
    "### 上級編"
   ]
  },
  {
   "cell_type": "code",
   "execution_count": null,
   "metadata": {
    "collapsed": true
   },
   "outputs": [],
   "source": [
    "# すでにインストールしているパッケージが邪魔で新しいパッケージのインストールがうまくいかない時。\n",
    "# エラー例：Cannot uninstall 'ipython'. It is a distutils installed project and thus we cannot accurately determine which files belong to it which would lead to only a partial uninstall.\n",
    "pip install --ignore-installed jupyterthemes"
   ]
  }
 ],
 "metadata": {
  "kernelspec": {
   "display_name": "Python 3",
   "language": "python",
   "name": "python3"
  },
  "language_info": {
   "codemirror_mode": {
    "name": "ipython",
    "version": 3
   },
   "file_extension": ".py",
   "mimetype": "text/x-python",
   "name": "python",
   "nbconvert_exporter": "python",
   "pygments_lexer": "ipython3",
   "version": "3.6.1"
  }
 },
 "nbformat": 4,
 "nbformat_minor": 2
}
