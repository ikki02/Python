{
 "cells": [
  {
   "cell_type": "markdown",
   "metadata": {},
   "source": [
    "### tqdm\n",
    "大前提として、pipする必要があります。  \n",
    "pip install tqdm\n",
    "\n",
    "また、tqdmはWidget Javascriptを使うため、  \n",
    "notebook起動時に以下のオプションが必要です。  \n",
    "jupyter nbextension enable --py --sys-prefix widgetsnbextension  \n",
    "※最悪上記エラーが出てもうまく動くときもある。気になる方はググってください。"
   ]
  },
  {
   "cell_type": "code",
   "execution_count": 1,
   "metadata": {},
   "outputs": [
    {
     "name": "stderr",
     "output_type": "stream",
     "text": [
      "2018-08-20 22:19:45,502 LoadData 29 INFO read_train start\n",
      "2018-08-20 22:19:54,779 LoadData 31 INFO train:\n",
      "         date  date_block_num  shop_id  item_id  item_price  item_cnt_day\n",
      "0  02.01.2013               0       59    22154      999.00           1.0\n",
      "1  03.01.2013               0       25     2552      899.00           1.0\n",
      "2  05.01.2013               0       25     2552      899.00          -1.0\n",
      "3  06.01.2013               0       25     2554     1709.05           1.0\n",
      "4  15.01.2013               0       25     2555     1099.00           1.0\n"
     ]
    }
   ],
   "source": [
    "# データの準備\n",
    "import sys\n",
    "sys.path.append('../../../../Myproject/Git/gcp/activity/180813_DataProcess/')\n",
    "from LoadData import load_train_data\n",
    "\n",
    "train = load_train_data()"
   ]
  },
  {
   "cell_type": "code",
   "execution_count": 2,
   "metadata": {},
   "outputs": [
    {
     "name": "stderr",
     "output_type": "stream",
     "text": [
      "Widget Javascript not detected.  It may not be installed or enabled properly.\n"
     ]
    },
    {
     "data": {
      "application/vnd.jupyter.widget-view+json": {
       "model_id": "875163a67cdf40f4a8df500564671028"
      }
     },
     "metadata": {},
     "output_type": "display_data"
    },
    {
     "name": "stdout",
     "output_type": "stream",
     "text": [
      "\n"
     ]
    }
   ],
   "source": [
    "# 以下の3行で実行できます。\n",
    "from tqdm._tqdm_notebook import tqdm_notebook\n",
    "tqdm_notebook.pandas(desc='hoge process:')  #desc引数に進捗バーの任意の名前を付けます。\n",
    "\n",
    "tqdm_test = train['item_cnt_day'].groupby( \\\n",
    "                [train['date_block_num'], train['shop_id'], train['item_id']]) \\\n",
    "                .progress_apply(sum)"
   ]
  }
 ],
 "metadata": {
  "kernelspec": {
   "display_name": "Python 3",
   "language": "python",
   "name": "python3"
  },
  "language_info": {
   "codemirror_mode": {
    "name": "ipython",
    "version": 3
   },
   "file_extension": ".py",
   "mimetype": "text/x-python",
   "name": "python",
   "nbconvert_exporter": "python",
   "pygments_lexer": "ipython3",
   "version": "3.6.1"
  }
 },
 "nbformat": 4,
 "nbformat_minor": 2
}
