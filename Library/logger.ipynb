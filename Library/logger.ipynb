{
 "cells": [
  {
   "cell_type": "markdown",
   "metadata": {},
   "source": [
    "### loggerについて  \n",
    "[loggerの参考URL①](https://www.sejuku.net/blog/23149)  \n",
    "[loggerの考え方②](https://qiita.com/amedama/items/b856b2f30c2f38665701)  \n",
    "上記考え方を鑑みて次のセルの書き方に落ち着いた。  \n",
    "\n",
    "なお、ログのクラス階層については以下のイメージ。\n",
    "1. 葉：LogRecord\n",
    "1. 枝：Logger\n",
    "1. 根：Logging\n",
    "\n",
    "結論として、loggingでログを書くとグローバル変数を操作することになるので、getLoggerを使って枝のログクラスを各プロセスに割り当てるのが望ましいということ。"
   ]
  },
  {
   "cell_type": "code",
   "execution_count": null,
   "metadata": {
    "collapsed": true
   },
   "outputs": [],
   "source": [
    "from logging import getLogger, Formatter, StreamHandler, FileHandler, DEBUG\n",
    "\n",
    "# ログの出力名を設定\n",
    "logger = getLogger(__name__)\n",
    "\n",
    "# ログのフォーマットを設定（詳細は次のマークダウンテーブル参考）\n",
    "fmt = Formatter('%(asctime)s %(name)s %(lineno)d %(levelname)s %(message)s')\n",
    "\n",
    "# ログのコンソール出力の設定\n",
    "shandler = StreamHandler()\n",
    "shandler.setLevel('INFO')\n",
    "shandler.setFormatter(fmt)\n",
    "\n",
    "# ログのファイル出力先の設定\n",
    "fhandler = FileHandler('result_tmp/hoge.log')\n",
    "fhandler.setLevel(DEBUG)\n",
    "fhandler.setFormatter(fmt)\n",
    "\n",
    "# ログレベルの設定\n",
    "logger.setLevel(DEBUG)\n",
    "logger.addHandler(shandler)\n",
    "logger.addHandler(fhandler)\n",
    "# logger.propagate = False\n",
    "\n",
    "# 実際に書く際は、以下のように処理中に記載してログを取る。\n",
    "logger.debug('start')\n",
    "#df = pd.read_csv('input/train.csv')\n",
    "logger.debug('end')"
   ]
  },
  {
   "cell_type": "markdown",
   "metadata": {},
   "source": [
    "### ログのフォーマットの書き方\n",
    "|フォーマット|役割|\n",
    "|:-:|:-:|\n",
    "|%(asctime)s|\t実行時刻|\n",
    "|%(filename)s|\tファイル名|\n",
    "|%(funcName)s|\t行番号|\n",
    "|%(levelname)s|\tログの定義|\n",
    "|%(lineno)d|\tログレベル名|\n",
    "|%(message)s|\tログメッセージ|\n",
    "|%(module)s|\tモジュール名|\n",
    "|%(name)s|\t関数名|\n",
    "|%(process)d|\tプロセスID|\n",
    "|%(thread)d|\tスレッドID|"
   ]
  }
 ],
 "metadata": {
  "kernelspec": {
   "display_name": "Python 3",
   "language": "python",
   "name": "python3"
  },
  "language_info": {
   "codemirror_mode": {
    "name": "ipython",
    "version": 3
   },
   "file_extension": ".py",
   "mimetype": "text/x-python",
   "name": "python",
   "nbconvert_exporter": "python",
   "pygments_lexer": "ipython3",
   "version": "3.6.1"
  }
 },
 "nbformat": 4,
 "nbformat_minor": 2
}
