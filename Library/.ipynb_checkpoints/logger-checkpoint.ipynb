{
 "cells": [
  {
   "cell_type": "markdown",
   "metadata": {},
   "source": [
    "### loggerについて  \n",
    "[loggerの参考URL①](https://www.sejuku.net/blog/23149)  \n",
    "[loggerの考え方②](https://qiita.com/amedama/items/b856b2f30c2f38665701)  \n",
    "上記考え方を鑑みて次のセルの書き方に落ち着いた。  \n",
    "解説は下段のセルを参照すること。"
   ]
  },
  {
   "cell_type": "code",
   "execution_count": null,
   "metadata": {
    "collapsed": true
   },
   "outputs": [],
   "source": [
    "from logging import getLogger, Formatter, StreamHandler, FileHandler, DEBUG\n",
    "\n",
    "# ログの出力名を設定\n",
    "logger = getLogger(__name__)\n",
    "\n",
    "# ログのフォーマットを設定\n",
    "fmt = Formatter('%(asctime)s %(name)s %(lineno)d %(levelname)s %(message)s')\n",
    "\n",
    "# ログのコンソール出力の設定\n",
    "shandler = StreamHandler()\n",
    "shandler.setLevel('INFO')\n",
    "shandler.setFormatter(fmt)\n",
    "\n",
    "# ログのファイル出力先の設定\n",
    "fhandler = FileHandler('result_tmp/hoge.log')\n",
    "fhandler.setLevel(DEBUG)\n",
    "fhandler.setFormatter(fmt)\n",
    "\n",
    "# ログレベルの設定\n",
    "logger.setLevel(DEBUG)\n",
    "logger.addHandler(shandler)\n",
    "logger.addHandler(fhandler)\n",
    "logger.propagate = False\n",
    "\n",
    "# 実際に書く際は、以下のように処理中に記載してログを取る。\n",
    "logger.info('start')\n",
    "#df = pd.read_csv('input/train.csv')\n",
    "logger.info('end')"
   ]
  },
  {
   "cell_type": "markdown",
   "metadata": {},
   "source": [
    "### loggerについて解説  \n",
    "[loggerの参考URL①](https://www.sejuku.net/blog/23149)  \n",
    "[loggerの考え方②](https://qiita.com/amedama/items/b856b2f30c2f38665701)  \n",
    "\n",
    "なお、pythonのロガーは木構造的になっていて、ロガーのクラス階層については以下のイメージ。\n",
    "1. 根：Logging\n",
    "1. 枝：Logger\n",
    "1. 葉：LogRecord\n",
    "\n",
    "結論として、根っこのloggingでログを書くとそのデフォルト設定が全ログに適用され、  \n",
    "本来の木構造を活かすことができなくなるため（e.g. logging.debug()などは）避けるべき。  \n",
    "例えば、logging.basicConfig(level='DEBUG')などと書くと、  \n",
    "全てのログ出力がDEBUG以上になるのである。  \n",
    "グローバル変数であるloggingの変更を全てのロガーに反映させないためにも、  \n",
    "getLogger（'プロセス名'）を使って、各枝のロガークラスを各プロセスに割り当てるのが望ましい。"
   ]
  },
  {
   "cell_type": "markdown",
   "metadata": {},
   "source": [
    "### ログレベル\n",
    "|レベル|値|意味|\n",
    "|:-:|:-:|:-:|\n",
    "|debug|10|動作確認|\n",
    "|info|20|正常動作|\n",
    "|warn|30|ログの定義名|\n",
    "|error|40|エラーなどの重大な問題|\n",
    "|critical|50|停止などの致命的な問題|\n",
    "なお、デフォルトではdebugとinfoは出力しないように設定されている。"
   ]
  },
  {
   "cell_type": "code",
   "execution_count": null,
   "metadata": {
    "collapsed": true
   },
   "outputs": [],
   "source": [
    "# 解説用\n",
    "\n",
    "# loggingパッケージから関数getLoggerなどをimportする。\n",
    "from logging import getLogger, Formatter, StreamHandler, FileHandler, DEBUG\n",
    "\n",
    "# ログの出力名を設定\n",
    "# __name__によって、直接実行しているmainファイルか、importされたファイルかを特定できる。\n",
    "# つまり、どのファイルのログか特定できるため、ログを追いやすくなる。\n",
    "logger = getLogger(__name__)\n",
    "\n",
    "# ログのフォーマットを設定（詳細は次のマークダウンテーブル参考）\n",
    "fmt = Formatter('%(asctime)s %(name)s %(lineno)d %(levelname)s %(message)s')\n",
    "\n",
    "# ログのコンソール出力の設定\n",
    "# 気を付けなければならないのは、shandler.setLevel()でINFOを指定していることである。\n",
    "# そのため、logger.debug('処理')と書いた場合、INFOより下位レベルのdebugは表示されない。\n",
    "shandler = StreamHandler()\n",
    "shandler.setLevel('INFO')\n",
    "shandler.setFormatter(fmt)\n",
    "\n",
    "# ログのファイル出力先の設定\n",
    "fhandler = FileHandler('result_tmp/hoge.log')\n",
    "fhandler.setLevel(DEBUG)\n",
    "fhandler.setFormatter(fmt)\n",
    "\n",
    "# ログレベルの設定\n",
    "logger.setLevel(DEBUG)\n",
    "logger.addHandler(shandler)\n",
    "logger.addHandler(fhandler)\n",
    "# logger.propagate = False\n",
    "\n",
    "# 実際に書く際は、以下のように処理中に記載してログを取る。\n",
    "logger.info('start')\n",
    "#df = pd.read_csv('input/train.csv')\n",
    "logger.info('end')"
   ]
  },
  {
   "cell_type": "markdown",
   "metadata": {},
   "source": [
    "### ログのFormatterの書き方\n",
    "|フォーマット|役割|\n",
    "|:-:|:-:|\n",
    "|%(asctime)s|\t実行時刻|\n",
    "|%(filename)s|\tファイル名|\n",
    "|%(funcName)s|\t行番号|\n",
    "|%(levelname)s|\tログの定義|\n",
    "|%(lineno)d|\tログレベル名|\n",
    "|%(message)s|\tログメッセージ|\n",
    "|%(module)s|\tモジュール名|\n",
    "|%(name)s|\t関数名|\n",
    "|%(process)d|\tプロセスID|\n",
    "|%(thread)d|\tスレッドID|"
   ]
  }
 ],
 "metadata": {
  "kernelspec": {
   "display_name": "Python 3",
   "language": "python",
   "name": "python3"
  },
  "language_info": {
   "codemirror_mode": {
    "name": "ipython",
    "version": 3
   },
   "file_extension": ".py",
   "mimetype": "text/x-python",
   "name": "python",
   "nbconvert_exporter": "python",
   "pygments_lexer": "ipython3",
   "version": "3.6.1"
  }
 },
 "nbformat": 4,
 "nbformat_minor": 2
}
