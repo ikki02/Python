{
 "cells": [
  {
   "cell_type": "markdown",
   "metadata": {},
   "source": [
    "### tqdm\n",
    "大前提として、pipする必要があります。  \n",
    "pip install tqdm\n",
    "\n",
    "また、tqdmはWidget Javascriptを使うため、  \n",
    "notebook起動時に以下のオプションが必要です。  \n",
    "jupyter nbextension enable --py --sys-prefix widgetsnbextension  \n",
    "※最悪上記エラーが出てもうまく動くときもある。気になるときはググってください。"
   ]
  },
  {
   "cell_type": "markdown",
   "metadata": {},
   "source": [
    "[参考URL](https://wonderwall.hatenablog.com/entry/2017/07/23/222856)"
   ]
  },
  {
   "cell_type": "code",
   "execution_count": 1,
   "metadata": {},
   "outputs": [
    {
     "name": "stderr",
     "output_type": "stream",
     "text": [
      "100%|█████████████████| 4/4 [00:00<00:00, 4010.81it/s]\n"
     ]
    }
   ],
   "source": [
    "# 基本的な使い方\n",
    "# イテラブルオブジェクトに対して進捗表示する。\n",
    "from tqdm import tqdm\n",
    "\n",
    "text = ''\n",
    "for char in tqdm([\"a\", \"b\", \"c\", \"d\"]):\n",
    "    text = text + char"
   ]
  },
  {
   "cell_type": "code",
   "execution_count": 2,
   "metadata": {},
   "outputs": [
    {
     "name": "stderr",
     "output_type": "stream",
     "text": [
      "100%|███████| 10000/10000 [00:00<00:00, 714836.64it/s]\n"
     ]
    }
   ],
   "source": [
    "# trangeはtqdm(range(10000))を最適化したもの\n",
    "from tqdm import trange\n",
    "for i in trange(10000):\n",
    "    pass"
   ]
  },
  {
   "cell_type": "markdown",
   "metadata": {},
   "source": [
    "### pandasへの処理"
   ]
  },
  {
   "cell_type": "code",
   "execution_count": 8,
   "metadata": {},
   "outputs": [],
   "source": [
    "# データの準備\n",
    "import pandas as pd\n",
    "train = pd.read_csv('../../../../Myproject/kaggle_sales02/input/sales_train.csv')"
   ]
  },
  {
   "cell_type": "code",
   "execution_count": null,
   "metadata": {},
   "outputs": [],
   "source": [
    "# 以下の3行で実行できます。\n",
    "from tqdm._tqdm_notebook import tqdm_notebook\n",
    "tqdm_notebook.pandas(desc='hoge process:')  #desc引数に進捗バーの任意の名前を付けます。\n",
    "\n",
    "tqdm_test = train['item_cnt_day'].groupby( \\\n",
    "                [train['date_block_num'], train['shop_id'], train['item_id']]) \\\n",
    "                .progress_apply(sum)"
   ]
  },
  {
   "cell_type": "code",
   "execution_count": null,
   "metadata": {
    "collapsed": true
   },
   "outputs": [],
   "source": [
    "# 参考\n",
    "# Now you can use `progress_apply` instead of `apply`\n",
    "# and `progress_map` instead of `map`\n",
    "# df.progress_apply(lambda x: x**2)\n",
    "# can also groupby:\n",
    "# df.groupby(0).progress_apply(lambda x: x**2)"
   ]
  }
 ],
 "metadata": {
  "kernelspec": {
   "display_name": "Python 3",
   "language": "python",
   "name": "python3"
  },
  "language_info": {
   "codemirror_mode": {
    "name": "ipython",
    "version": 3
   },
   "file_extension": ".py",
   "mimetype": "text/x-python",
   "name": "python",
   "nbconvert_exporter": "python",
   "pygments_lexer": "ipython3",
   "version": "3.6.1"
  }
 },
 "nbformat": 4,
 "nbformat_minor": 2
}
