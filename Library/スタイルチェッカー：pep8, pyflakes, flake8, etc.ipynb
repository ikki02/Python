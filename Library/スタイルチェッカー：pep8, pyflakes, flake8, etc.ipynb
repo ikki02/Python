{
 "cells": [
  {
   "cell_type": "markdown",
   "metadata": {},
   "source": [
    "### pep8, pyflakes, flake8, hacking, Pylint\n",
    "[すごく分かりやすい参考記事](https://blog-ja.sideci.com/entry/python-lint-pickup-5tools)\n",
    "\n",
    "|ツール|概要|\n",
    "|:-:|:-:|\n",
    "|pep8|PEP8のスタイルに則ったチェッカー|\n",
    "|pyflakes|スタイルは気にせず、動作確認用チェッカー|\n",
    "|flake8|pep8のチェック、pyflakesのチェック、及び循環的複雑度をチェックできるラッパー|\n",
    "|hacking|flake8プラグイン。細かい設定が多分できる。|\n",
    "|Pylint|複数ファイルのモジュールやパッケージ用チェッカー。10点満点のスコアを返す。|"
   ]
  },
  {
   "cell_type": "markdown",
   "metadata": {},
   "source": [
    "### 使い方\n",
    "基本は以下のように使う。\n",
    "```\n",
    "pyflakes hoge.py\n",
    "```\n",
    "オプションもあるため、参考記事を要参照。"
   ]
  }
 ],
 "metadata": {
  "kernelspec": {
   "display_name": "Python 3",
   "language": "python",
   "name": "python3"
  },
  "language_info": {
   "codemirror_mode": {
    "name": "ipython",
    "version": 3
   },
   "file_extension": ".py",
   "mimetype": "text/x-python",
   "name": "python",
   "nbconvert_exporter": "python",
   "pygments_lexer": "ipython3",
   "version": "3.6.1"
  }
 },
 "nbformat": 4,
 "nbformat_minor": 2
}
