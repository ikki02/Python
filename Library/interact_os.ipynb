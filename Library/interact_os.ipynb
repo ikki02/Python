{
 "cells": [
  {
   "cell_type": "markdown",
   "metadata": {},
   "source": [
    "### 対話型インタフェースのipywidgets\n",
    "- interact()をデコレータとして使うことで簡単にスライダを実装できる。\n",
    "- interact()は簡単にスライダを実装できるが、内部的にはipywidgets.IntSliderなどのウィジェットなるクラスを呼び出している。\n",
    "- ウィジェットのイベントハンドラを活用しよう\n",
    "- ウィジェットのレイアウトのオプション\n",
    "\n",
    "|設定値|説明|\n",
    "|:-:|:-:|\n",
    "|HBox|横並びに整列|\n",
    "|VBox|縦並びに整列|\n",
    "|Accordion|アコーディオン表示|\n",
    "|Tabs|タブ表示|"
   ]
  },
  {
   "cell_type": "code",
   "execution_count": 1,
   "metadata": {},
   "outputs": [
    {
     "data": {
      "application/vnd.jupyter.widget-view+json": {
       "model_id": "0aa21fb02a394c0a9496566fecff6797"
      }
     },
     "metadata": {},
     "output_type": "display_data"
    }
   ],
   "source": [
    "# 整数のスライダを作る←interact関数の引数に整数を与える。\n",
    "from ipywidgets import interact\n",
    "\n",
    "@interact(n=5)\n",
    "def f(n):\n",
    "    return n"
   ]
  },
  {
   "cell_type": "code",
   "execution_count": 2,
   "metadata": {},
   "outputs": [
    {
     "data": {
      "application/vnd.jupyter.widget-view+json": {
       "model_id": "c0a08776c4374fa7a8841b5898effeb8"
      }
     },
     "metadata": {},
     "output_type": "display_data"
    }
   ],
   "source": [
    "# 様々なスライダを作る。←interact関数の引数に対応する型を与える。今回は、int, float, str, list, bool値。\n",
    "@interact(i=1, f=0.1, s='text', l=['a', 'b'], is_checked=True)\n",
    "def f(i, f, s, l, is_checked):\n",
    "    return i, f, s, l, is_checked"
   ]
  },
  {
   "cell_type": "code",
   "execution_count": 4,
   "metadata": {},
   "outputs": [
    {
     "data": {
      "application/vnd.jupyter.widget-view+json": {
       "model_id": "33d1026d1dd641c6874068673f680c08"
      }
     },
     "metadata": {},
     "output_type": "display_data"
    }
   ],
   "source": [
    "# 明示的にクラスを指定して渡す。:FloatSlider, IntSlider\n",
    "from ipywidgets import IntSlider, FloatSlider\n",
    "import numpy as np\n",
    "\n",
    "rate_slider = FloatSlider(min=-1, max=5, step=0.1, value=2, description='金利')\n",
    "nper_slider = IntSlider(min=1, max=35, step=1, value=20, description='返済期間')\n",
    "pv_slider = IntSlider(\n",
    "    min=5000000,\n",
    "    max=50000000,\n",
    "    step=1000000,\n",
    "    value=20000000,\n",
    "    description='返済金額')\n",
    "\n",
    "@interact(rate=rate_slider, nper=nper_slider, pv=pv_slider)\n",
    "def pmt(rate, nper, pv):\n",
    "    rate = rate * 0.01 / 12\n",
    "    nper = nper * 12\n",
    "    payment = abs(int(np.pmt(rate, nper, pv)))\n",
    "    print('月々の返済額:{:,d}円'.format(payment))\n",
    "    print('総返済額:{:,d}円'.format(payment * nper))"
   ]
  },
  {
   "cell_type": "code",
   "execution_count": 5,
   "metadata": {},
   "outputs": [
    {
     "name": "stdout",
     "output_type": "stream",
     "text": [
      "{'Jupyter.Accordion': <class 'ipywidgets.widgets.widget_selectioncontainer.Accordion'>,\n",
      " 'Jupyter.BoundedFloatText': <class 'ipywidgets.widgets.widget_float.BoundedFloatText'>,\n",
      " 'Jupyter.BoundedIntText': <class 'ipywidgets.widgets.widget_int.BoundedIntText'>,\n",
      " 'Jupyter.Box': <class 'ipywidgets.widgets.widget_box.Box'>,\n",
      " 'Jupyter.Button': <class 'ipywidgets.widgets.widget_button.Button'>,\n",
      " 'Jupyter.ButtonStyle': <class 'ipywidgets.widgets.widget_button.ButtonStyle'>,\n",
      " 'Jupyter.Checkbox': <class 'ipywidgets.widgets.widget_bool.Checkbox'>,\n",
      " 'Jupyter.ColorPicker': <class 'ipywidgets.widgets.widget_color.ColorPicker'>,\n",
      " 'Jupyter.Controller': <class 'ipywidgets.widgets.widget_controller.Controller'>,\n",
      " 'Jupyter.ControllerAxis': <class 'ipywidgets.widgets.widget_controller.Axis'>,\n",
      " 'Jupyter.ControllerButton': <class 'ipywidgets.widgets.widget_controller.Button'>,\n",
      " 'Jupyter.DatePicker': <class 'ipywidgets.widgets.widget_date.DatePicker'>,\n",
      " 'Jupyter.Dropdown': <class 'ipywidgets.widgets.widget_selection.Dropdown'>,\n",
      " 'Jupyter.FloatProgress': <class 'ipywidgets.widgets.widget_float.FloatProgress'>,\n",
      " 'Jupyter.FloatRangeSlider': <class 'ipywidgets.widgets.widget_float.FloatRangeSlider'>,\n",
      " 'Jupyter.FloatSlider': <class 'ipywidgets.widgets.widget_float.FloatSlider'>,\n",
      " 'Jupyter.FloatText': <class 'ipywidgets.widgets.widget_float.FloatText'>,\n",
      " 'Jupyter.HBox': <class 'ipywidgets.widgets.widget_box.HBox'>,\n",
      " 'Jupyter.HTML': <class 'ipywidgets.widgets.widget_string.HTML'>,\n",
      " 'Jupyter.HTMLMath': <class 'ipywidgets.widgets.widget_string.HTMLMath'>,\n",
      " 'Jupyter.Image': <class 'ipywidgets.widgets.widget_image.Image'>,\n",
      " 'Jupyter.IntProgress': <class 'ipywidgets.widgets.widget_int.IntProgress'>,\n",
      " 'Jupyter.IntRangeSlider': <class 'ipywidgets.widgets.widget_int.IntRangeSlider'>,\n",
      " 'Jupyter.IntSlider': <class 'ipywidgets.widgets.widget_int.IntSlider'>,\n",
      " 'Jupyter.IntText': <class 'ipywidgets.widgets.widget_int.IntText'>,\n",
      " 'Jupyter.Label': <class 'ipywidgets.widgets.widget_string.Label'>,\n",
      " 'Jupyter.Play': <class 'ipywidgets.widgets.widget_int.Play'>,\n",
      " 'Jupyter.ProgressStyle': <class 'ipywidgets.widgets.widget_int.ProgressStyle'>,\n",
      " 'Jupyter.RadioButtons': <class 'ipywidgets.widgets.widget_selection.RadioButtons'>,\n",
      " 'Jupyter.Select': <class 'ipywidgets.widgets.widget_selection.Select'>,\n",
      " 'Jupyter.SelectMultiple': <class 'ipywidgets.widgets.widget_selection.SelectMultiple'>,\n",
      " 'Jupyter.SelectionSlider': <class 'ipywidgets.widgets.widget_selection.SelectionSlider'>,\n",
      " 'Jupyter.SliderStyle': <class 'ipywidgets.widgets.widget_int.SliderStyle'>,\n",
      " 'Jupyter.Tab': <class 'ipywidgets.widgets.widget_selectioncontainer.Tab'>,\n",
      " 'Jupyter.Text': <class 'ipywidgets.widgets.widget_string.Text'>,\n",
      " 'Jupyter.Textarea': <class 'ipywidgets.widgets.widget_string.Textarea'>,\n",
      " 'Jupyter.ToggleButton': <class 'ipywidgets.widgets.widget_bool.ToggleButton'>,\n",
      " 'Jupyter.ToggleButtons': <class 'ipywidgets.widgets.widget_selection.ToggleButtons'>,\n",
      " 'Jupyter.VBox': <class 'ipywidgets.widgets.widget_box.VBox'>,\n",
      " 'Jupyter.Valid': <class 'ipywidgets.widgets.widget_bool.Valid'>,\n",
      " 'jupyter.DirectionalLink': <class 'ipywidgets.widgets.widget_link.DirectionalLink'>,\n",
      " 'jupyter.Link': <class 'ipywidgets.widgets.widget_link.Link'>}\n"
     ]
    }
   ],
   "source": [
    "# 使用可能なウィジェットの表示方法\n",
    "from ipywidgets import Widget\n",
    "from pprint import pprint\n",
    "\n",
    "pprint(Widget.widget_types)"
   ]
  },
  {
   "cell_type": "code",
   "execution_count": 18,
   "metadata": {},
   "outputs": [
    {
     "name": "stdout",
     "output_type": "stream",
     "text": [
      "20h35m15sです\n"
     ]
    }
   ],
   "source": [
    "# イベントのハンドリング\n",
    "# ①クリックした時に起動する関数（下記ではon_button_clicked()のこと）を作成する。\n",
    "# ②ウィジェットのインスタンス（下記ではb=Button()のこと）を作成する。\n",
    "# ③②のイベントメソッド（下記では.on_click()のこと）を実行し、引数に①を渡す。\n",
    "# ④display()関数に②のインスタンスを渡す。\n",
    "from ipywidgets import Button\n",
    "from IPython.display import display, clear_output\n",
    "from datetime import datetime\n",
    "\n",
    "def on_button_clicked(b):\n",
    "    clear_output() #既にある出力を削除\n",
    "    print('{:%Hh%Mm%Ss}です'.format(datetime.now()))\n",
    "    \n",
    "b = Button(description='今何時？')\n",
    "b.on_click(on_button_clicked)\n",
    "display(b)"
   ]
  },
  {
   "cell_type": "code",
   "execution_count": 19,
   "metadata": {},
   "outputs": [
    {
     "data": {
      "application/vnd.jupyter.widget-view+json": {
       "model_id": "fe8f391682414c24a698153637cf59b1"
      }
     },
     "metadata": {},
     "output_type": "display_data"
    }
   ],
   "source": [
    "# ウィジェットのレイアウト:HBox, VBox, Accordion, Tabs\n",
    "from ipywidgets import HBox, VBox, Text, Dropdown\n",
    "\n",
    "w1 = Text(value='Text')\n",
    "w2 = Button(description='Button')\n",
    "w3 = Dropdown(options=['1', '2'])\n",
    "w4 = IntSlider()\n",
    "\n",
    "VBox([HBox([w1, w2]), HBox([w3, w4])])"
   ]
  },
  {
   "cell_type": "code",
   "execution_count": 23,
   "metadata": {},
   "outputs": [
    {
     "data": {
      "image/png": "[encoded data removed]",
      "text/plain": [
       "<matplotlib.figure.Figure at 0x227451a96d8>"
      ]
     },
     "metadata": {},
     "output_type": "display_data"
    }
   ],
   "source": [
    "# 可視化ツール（matplotlib）との連携\n",
    "# 下記例では、typeカラムを選択すると、そのtypeのgenre毎のmembersを棒グラフに表示する。\n",
    "import os\n",
    "import pandas as pd\n",
    "import matplotlib.pyplot as plt\n",
    "\n",
    "base_url = 'https://raw.githubusercontent.com/practical-jupyter/sample-data/master/anime/'\n",
    "anime_genre_top10_csv = os.path.join(base_url, 'anime_genre_top10.csv')\n",
    "top10_df = pd.read_csv(anime_genre_top10_csv)\n",
    "\n",
    "def plot_genre_members(b):\n",
    "    clear_output()\n",
    "    filter_by_type = top10_df.loc[top10_df['type'] == types.value]\n",
    "    plot_data = filter_by_type.groupby('genre').sum()['members']\n",
    "    ax = plot_data.plot.bar()\n",
    "    ax.set_title(types.value)\n",
    "    plt.show()\n",
    "    \n",
    "types = Dropdown(options=list(top10_df['type'].unique()))\n",
    "submit_button = Button(description='グラフを表示')\n",
    "submit_button.on_click(plot_genre_members)\n",
    "\n",
    "HBox([types, submit_button])"
   ]
  },
  {
   "cell_type": "markdown",
   "metadata": {},
   "source": [
    "↓より簡単な解説"
   ]
  },
  {
   "cell_type": "code",
   "execution_count": null,
   "metadata": {},
   "outputs": [],
   "source": [
    "from __future__ import print_function\n",
    "from IPython.html.widgets import interact, interactive, fixed\n",
    "from IPython.html import widgets\n",
    "import os\n",
    "import numpy as np\n",
    "%matplotlib inline\n",
    "import matplotlib.pyplot as plt"
   ]
  },
  {
   "cell_type": "code",
   "execution_count": 24,
   "metadata": {
    "collapsed": true
   },
   "outputs": [],
   "source": [
    "def f(x):\n",
    "    print(x)"
   ]
  },
  {
   "cell_type": "code",
   "execution_count": 25,
   "metadata": {},
   "outputs": [
    {
     "data": {
      "application/vnd.jupyter.widget-view+json": {
       "model_id": "b0fb8c643eb9418c88de9cf4aff3779c"
      }
     },
     "metadata": {},
     "output_type": "display_data"
    }
   ],
   "source": [
    "# 整数を渡すとスライダー\n",
    "interact(f, x=10);"
   ]
  },
  {
   "cell_type": "code",
   "execution_count": 26,
   "metadata": {},
   "outputs": [
    {
     "data": {
      "application/vnd.jupyter.widget-view+json": {
       "model_id": "2c8e34a59018416e995a7fe2b3019cc2"
      }
     },
     "metadata": {},
     "output_type": "display_data"
    }
   ],
   "source": [
    "# 真偽値を渡すとチェックボックス\n",
    "interact(f, x=True);"
   ]
  },
  {
   "cell_type": "code",
   "execution_count": 27,
   "metadata": {},
   "outputs": [
    {
     "data": {
      "application/vnd.jupyter.widget-view+json": {
       "model_id": "4e183f072977423399242435ff04dfe5"
      }
     },
     "metadata": {},
     "output_type": "display_data"
    }
   ],
   "source": [
    "# 文字列を渡すとテキストエリアを生成する\n",
    "interact(f, x=u\"こんにちは世界！\");"
   ]
  },
  {
   "cell_type": "code",
   "execution_count": 28,
   "metadata": {},
   "outputs": [
    {
     "data": {
      "application/vnd.jupyter.widget-view+json": {
       "model_id": "7253d851fdf7483bb8b922be6e2559f5"
      }
     },
     "metadata": {},
     "output_type": "display_data"
    }
   ],
   "source": [
    "# デコレータ\n",
    "@interact(x=True, y=1.0)\n",
    "def g(x, y):\n",
    "    print(x, y);"
   ]
  },
  {
   "cell_type": "code",
   "execution_count": 29,
   "metadata": {
    "scrolled": true
   },
   "outputs": [
    {
     "data": {
      "application/vnd.jupyter.widget-view+json": {
       "model_id": "9078e1a1c52644c8818f655c41353adf"
      }
     },
     "metadata": {},
     "output_type": "display_data"
    },
    {
     "data": {
      "image/png": "[encoded data removed]",
      "text/plain": [
       "<matplotlib.figure.Figure at 0x2274552e470>"
      ]
     },
     "metadata": {},
     "output_type": "display_data"
    }
   ],
   "source": [
    "@interact(amp=(0.1, 4.0, 0.1), omega=(0.1, 4.0, 0.1), phase=(-np.pi, np.pi, 0.1), \n",
    "          fn = {'sin': np.sin, 'cos': np.cos, 'tan': np.tan})\n",
    "def h(amp=1.0, omega=1.0, phase=0.0, fn=np.sin):\n",
    "    domain=[-np.pi, np.pi]\n",
    "    x = np.linspace(domain[0], domain[1], 100)\n",
    "    y  = amp * fn(omega * x + phase)\n",
    "    plt.plot(x, y)\n",
    "    plt.plot(-phase/omega, 0, 'or')\n",
    "    plt.xlim(domain)\n",
    "    plt.ylim([-4, 4])"
   ]
  },
  {
   "cell_type": "markdown",
   "metadata": {},
   "source": [
    "### ここからはosモジュールの話"
   ]
  },
  {
   "cell_type": "code",
   "execution_count": 3,
   "metadata": {},
   "outputs": [
    {
     "data": {
      "text/plain": [
       "'nt'"
      ]
     },
     "execution_count": 3,
     "metadata": {},
     "output_type": "execute_result"
    }
   ],
   "source": [
    "# osモジュールでパスを操作する。\n",
    "#pythonの実行環境のOSを知りたい場合に使用。ntはWindows, posixはLinux。\n",
    "import os\n",
    "os.name "
   ]
  },
  {
   "cell_type": "code",
   "execution_count": 1,
   "metadata": {},
   "outputs": [
    {
     "data": {
      "text/plain": [
       "'C:\\\\Users\\\\ikki_ikazaki\\\\KIBIT\\\\ikki_modules'"
      ]
     },
     "execution_count": 1,
     "metadata": {},
     "output_type": "execute_result"
    }
   ],
   "source": [
    "# カレントディレクトリを表示する。\n",
    "os.getcwd()"
   ]
  },
  {
   "cell_type": "code",
   "execution_count": 10,
   "metadata": {},
   "outputs": [
    {
     "data": {
      "text/plain": [
       "'C:\\\\Users\\\\ikki_ikazaki\\\\KIBIT'"
      ]
     },
     "execution_count": 10,
     "metadata": {},
     "output_type": "execute_result"
    }
   ],
   "source": [
    "# 親ディレクトリを表示する。\n",
    "os.path.dirname('C:\\\\Users\\\\ikki_ikazaki\\\\KIBIT\\\\ikki_modules')"
   ]
  },
  {
   "cell_type": "code",
   "execution_count": 7,
   "metadata": {},
   "outputs": [
    {
     "data": {
      "text/plain": [
       "'C:\\\\Users\\\\ikki_ikazaki\\\\KIBIT'"
      ]
     },
     "execution_count": 7,
     "metadata": {},
     "output_type": "execute_result"
    }
   ],
   "source": [
    "# パスを変更する。\n",
    "os.chdir(\"../\") #引数のパスに移動する。\n",
    "os.getcwd()"
   ]
  },
  {
   "cell_type": "code",
   "execution_count": 20,
   "metadata": {
    "collapsed": true
   },
   "outputs": [],
   "source": [
    "# 新規ディレクトリをカレントの上に作成する。\n",
    "os.mkdir('./temp')"
   ]
  },
  {
   "cell_type": "code",
   "execution_count": 17,
   "metadata": {
    "scrolled": true
   },
   "outputs": [
    {
     "ename": "PermissionError",
     "evalue": "[WinError 5] アクセスが拒否されました。: './temp'",
     "output_type": "error",
     "traceback": [
      "\u001b[0;31m---------------------------------------------------------------------------\u001b[0m",
      "\u001b[0;31mPermissionError\u001b[0m                           Traceback (most recent call last)",
      "\u001b[0;32mC:\\Users\\ikki_ikazaki\\KIBIT\\ikki_modules\u001b[0m in \u001b[0;36m<module>\u001b[0;34m()\u001b[0m\n\u001b[1;32m      1\u001b[0m \u001b[1;31m#ファイルpathを削除する。ディレクトリを削除する際は、rmdir()を使う。\u001b[0m\u001b[1;33m\u001b[0m\u001b[1;33m\u001b[0m\u001b[0m\n\u001b[0;32m----> 2\u001b[0;31m \u001b[0mos\u001b[0m\u001b[1;33m.\u001b[0m\u001b[0mremove\u001b[0m\u001b[1;33m(\u001b[0m\u001b[1;34m'./temp'\u001b[0m\u001b[1;33m)\u001b[0m\u001b[1;33m\u001b[0m\u001b[0m\n\u001b[0m",
      "\u001b[0;31mPermissionError\u001b[0m: [WinError 5] アクセスが拒否されました。: './temp'"
     ]
    }
   ],
   "source": [
    "#ファイルpathを削除する。ディレクトリを削除する際は、rmdir()を使う。\n",
    "os.remove('./temp') "
   ]
  },
  {
   "cell_type": "code",
   "execution_count": 23,
   "metadata": {},
   "outputs": [
    {
     "data": {
      "text/plain": [
       "['.ipynb_checkpoints',\n",
       " '0. LIV各種資料',\n",
       " '1. アルゴリズム',\n",
       " '20171122_評価指標まとめ.pptx',\n",
       " 'analysis_with_kibit_180131',\n",
       " 'ikki_modules',\n",
       " 'KIBITプラットフォーム',\n",
       " 'KIBIT解析MTG',\n",
       " 'NLP100Drills',\n",
       " 'old',\n",
       " 'root_for_Windows',\n",
       " 'root_for_Windows.zip',\n",
       " 'root_for_Windows2']"
      ]
     },
     "execution_count": 23,
     "metadata": {},
     "output_type": "execute_result"
    }
   ],
   "source": [
    "# ディレクトリの中のリストを表示する。\n",
    "os.listdir('./')"
   ]
  },
  {
   "cell_type": "code",
   "execution_count": 15,
   "metadata": {},
   "outputs": [
    {
     "data": {
      "text/plain": [
       "False"
      ]
     },
     "execution_count": 15,
     "metadata": {},
     "output_type": "execute_result"
    }
   ],
   "source": [
    "# ファイルまたはディレクトリが存在するか真偽値を表示する。\n",
    "os.path.isdir('Research')"
   ]
  },
  {
   "cell_type": "code",
   "execution_count": null,
   "metadata": {
    "collapsed": true
   },
   "outputs": [],
   "source": [
    "os.rename(path1, path2) #path1をpath2に名前変更する。\n"
   ]
  },
  {
   "cell_type": "code",
   "execution_count": 5,
   "metadata": {},
   "outputs": [
    {
     "data": {
      "text/plain": [
       "'C:\\\\Users\\\\ikki_ikazaki\\\\KIBIT'"
      ]
     },
     "execution_count": 5,
     "metadata": {},
     "output_type": "execute_result"
    }
   ],
   "source": [
    "__file__ = os.getcwd()\n",
    "os.path.abspath(os.path.dirname(__file__)) #引数の.dirnameでディレクトリ名を返し、その絶対パスを返す。"
   ]
  }
 ],
 "metadata": {
  "kernelspec": {
   "display_name": "Python 3",
   "language": "python",
   "name": "python3"
  },
  "language_info": {
   "codemirror_mode": {
    "name": "ipython",
    "version": 3
   },
   "file_extension": ".py",
   "mimetype": "text/x-python",
   "name": "python",
   "nbconvert_exporter": "python",
   "pygments_lexer": "ipython3",
   "version": "3.6.1"
  },
  "widgets": {
   "state": {
    "f5db42bdbddc4cf6b7e964d80f0e0fa1": {
     "views": [
      {
       "cell_index": 6
      }
     ]
    }
   },
   "version": "1.2.0"
  }
 },
 "nbformat": 4,
 "nbformat_minor": 2
}
