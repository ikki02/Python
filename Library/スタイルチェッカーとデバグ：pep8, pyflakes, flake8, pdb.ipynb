{
 "cells": [
  {
   "cell_type": "markdown",
   "metadata": {},
   "source": [
    "### pep8, pyflakes, flake8, hacking, Pylint\n",
    "[すごく分かりやすい参考記事](https://blog-ja.sideci.com/entry/python-lint-pickup-5tools)\n",
    "\n",
    "|ツール|概要|\n",
    "|:-:|:-:|\n",
    "|pep8|PEP8のスタイルに則ったチェッカー|\n",
    "|pyflakes|スタイルは気にせず、動作確認用チェッカー|\n",
    "|flake8|pep8のチェック、pyflakesのチェック、及び循環的複雑度をチェックできるラッパー|\n",
    "|hacking|flake8プラグイン。細かい設定が多分できる。|\n",
    "|Pylint|複数ファイルのモジュールやパッケージ用チェッカー。10点満点のスコアを返す。|"
   ]
  },
  {
   "cell_type": "markdown",
   "metadata": {},
   "source": [
    "### 使い方\n",
    "基本は以下のように使う。\n",
    "```\n",
    "pyflakes hoge.py\n",
    "```\n",
    "オプションもあるため、参考記事を要参照。"
   ]
  },
  {
   "cell_type": "markdown",
   "metadata": {},
   "source": [
    "### [pbdによるデバグ](http://racchai.hatenablog.com/entry/2016/05/30/070000)\n",
    "\n",
    "以下の2行を追加することでデバグが簡単に実行できる。\n",
    "- import pdb\n",
    "- pdb.set_trace()\n",
    "\n",
    "|コマンド|説明|\n",
    "|:-:|:-:|:-:|\n",
    "|l(ist)|現在行の前後のソースコードを表示する。|\n",
    "|a(rgs)|現在いる関数の引数を表示する。|\n",
    "|p|プリント。p type(hoge)みたいに使う。|\n",
    "|n(ext)|ステップオーバー。次の処理に移る。|\n",
    "|s(tep)|ステップイン。関数の中に入っていく。|\n",
    "|r(eturn)|ステップアウト。関数の外に出る。|\n",
    "|c(ontinue)|次のブレイクポイントまで進む|\n"
   ]
  }
 ],
 "metadata": {
  "kernelspec": {
   "display_name": "Python 3",
   "language": "python",
   "name": "python3"
  },
  "language_info": {
   "codemirror_mode": {
    "name": "ipython",
    "version": 3
   },
   "file_extension": ".py",
   "mimetype": "text/x-python",
   "name": "python",
   "nbconvert_exporter": "python",
   "pygments_lexer": "ipython3",
   "version": "3.6.5"
  }
 },
 "nbformat": 4,
 "nbformat_minor": 2
}
