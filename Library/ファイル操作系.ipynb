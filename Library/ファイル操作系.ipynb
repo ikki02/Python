{
 "cells": [
  {
   "cell_type": "markdown",
   "metadata": {},
   "source": [
    "### osモジュール"
   ]
  },
  {
   "cell_type": "code",
   "execution_count": 3,
   "metadata": {},
   "outputs": [
    {
     "data": {
      "text/plain": [
       "'nt'"
      ]
     },
     "execution_count": 3,
     "metadata": {},
     "output_type": "execute_result"
    }
   ],
   "source": [
    "# osモジュールでパスを操作する。\n",
    "#pythonの実行環境のOSを知りたい場合に使用。ntはWindows, posixはLinux。\n",
    "import os\n",
    "os.name "
   ]
  },
  {
   "cell_type": "code",
   "execution_count": 1,
   "metadata": {},
   "outputs": [
    {
     "data": {
      "text/plain": [
       "'C:\\\\Users\\\\ikki_ikazaki\\\\KIBIT\\\\ikki_modules'"
      ]
     },
     "execution_count": 1,
     "metadata": {},
     "output_type": "execute_result"
    }
   ],
   "source": [
    "# カレントディレクトリを表示する。\n",
    "os.getcwd()"
   ]
  },
  {
   "cell_type": "code",
   "execution_count": 10,
   "metadata": {},
   "outputs": [
    {
     "data": {
      "text/plain": [
       "'C:\\\\Users\\\\ikki_ikazaki\\\\KIBIT'"
      ]
     },
     "execution_count": 10,
     "metadata": {},
     "output_type": "execute_result"
    }
   ],
   "source": [
    "# 親ディレクトリを表示する。\n",
    "os.path.dirname('C:\\\\Users\\\\ikki_ikazaki\\\\KIBIT\\\\ikki_modules')"
   ]
  },
  {
   "cell_type": "code",
   "execution_count": 7,
   "metadata": {},
   "outputs": [
    {
     "data": {
      "text/plain": [
       "'C:\\\\Users\\\\ikki_ikazaki\\\\KIBIT'"
      ]
     },
     "execution_count": 7,
     "metadata": {},
     "output_type": "execute_result"
    }
   ],
   "source": [
    "# パスを変更する。\n",
    "os.chdir(\"../\") #引数のパスに移動する。\n",
    "os.getcwd()"
   ]
  },
  {
   "cell_type": "code",
   "execution_count": 20,
   "metadata": {
    "collapsed": true
   },
   "outputs": [],
   "source": [
    "# 新規ディレクトリをカレントの上に作成する。\n",
    "os.mkdir('./temp')"
   ]
  },
  {
   "cell_type": "code",
   "execution_count": null,
   "metadata": {
    "collapsed": true,
    "scrolled": true
   },
   "outputs": [],
   "source": [
    "#ファイルpathを削除する。ディレクトリを削除する際は、rmdir()を使う。\n",
    "os.remove('./temp') "
   ]
  },
  {
   "cell_type": "code",
   "execution_count": 23,
   "metadata": {},
   "outputs": [
    {
     "data": {
      "text/plain": [
       "['.ipynb_checkpoints',\n",
       " '0. LIV各種資料',\n",
       " '1. アルゴリズム',\n",
       " '20171122_評価指標まとめ.pptx',\n",
       " 'analysis_with_kibit_180131',\n",
       " 'ikki_modules',\n",
       " 'KIBITプラットフォーム',\n",
       " 'KIBIT解析MTG',\n",
       " 'NLP100Drills',\n",
       " 'old',\n",
       " 'root_for_Windows',\n",
       " 'root_for_Windows.zip',\n",
       " 'root_for_Windows2']"
      ]
     },
     "execution_count": 23,
     "metadata": {},
     "output_type": "execute_result"
    }
   ],
   "source": [
    "# ディレクトリの中のリストを表示する。\n",
    "os.listdir('./')"
   ]
  },
  {
   "cell_type": "code",
   "execution_count": 15,
   "metadata": {},
   "outputs": [
    {
     "data": {
      "text/plain": [
       "False"
      ]
     },
     "execution_count": 15,
     "metadata": {},
     "output_type": "execute_result"
    }
   ],
   "source": [
    "# ファイルまたはディレクトリが存在するか真偽値を表示する。\n",
    "os.path.isdir('Research')"
   ]
  },
  {
   "cell_type": "code",
   "execution_count": null,
   "metadata": {
    "collapsed": true
   },
   "outputs": [],
   "source": [
    "os.rename(path1, path2) #path1をpath2に名前変更する。"
   ]
  },
  {
   "cell_type": "code",
   "execution_count": 5,
   "metadata": {},
   "outputs": [
    {
     "data": {
      "text/plain": [
       "'C:\\\\Users\\\\ikki_ikazaki\\\\KIBIT'"
      ]
     },
     "execution_count": 5,
     "metadata": {},
     "output_type": "execute_result"
    }
   ],
   "source": [
    "__file__ = os.getcwd()\n",
    "os.path.abspath(os.path.dirname(__file__)) #引数の.dirnameでディレクトリ名を返し、その絶対パスを返す。"
   ]
  },
  {
   "cell_type": "markdown",
   "metadata": {},
   "source": [
    "### sys"
   ]
  },
  {
   "cell_type": "markdown",
   "metadata": {},
   "source": [
    "### glob"
   ]
  },
  {
   "cell_type": "code",
   "execution_count": 1,
   "metadata": {
    "collapsed": true
   },
   "outputs": [],
   "source": [
    "#globを使えば、*を使ったパス指定ができる。\n",
    "import glob\n",
    "path_list = glob.glob('./ac/*/*/*/*/weight*.csv')"
   ]
  },
  {
   "cell_type": "markdown",
   "metadata": {},
   "source": [
    "### 応用編"
   ]
  },
  {
   "cell_type": "code",
   "execution_count": null,
   "metadata": {
    "collapsed": true
   },
   "outputs": [],
   "source": [
    "# 特定のディレクトリ階層の中にあるcsvファイルを全て削除する。\n",
    "import os \n",
    "import glob\n",
    "\n",
    "path_list = glob.glob('./ac/*/*/*/*/weight*.csv') #globを使えば、*を使ったパス指定ができる。\n",
    "\n",
    "for path in path_list:\n",
    "    os.remove(path)"
   ]
  },
  {
   "cell_type": "code",
   "execution_count": null,
   "metadata": {
    "collapsed": true
   },
   "outputs": [],
   "source": [
    "# ディレクトリ内のファイル一括操作\n",
    "import os\n",
    "import sys\n",
    "\n",
    "directory = 'D:/1.programming/python/test'\n",
    "\n",
    "filelist = os.listdir(directory)\n",
    "\n",
    "a = 1\n",
    "\n",
    "for file in filelist:\n",
    "    path = os.path.join(directory, file)\n",
    "    name = 'file'+str(a)+'.xlsx'\n",
    "    target = os.path.join(directory, name)\n",
    "    os.rename(path, target)\n",
    "    a = a +1"
   ]
  },
  {
   "cell_type": "code",
   "execution_count": null,
   "metadata": {
    "collapsed": true
   },
   "outputs": [],
   "source": [
    "# GUIからファイルの絶対パスを取得するプログラム\n",
    "# モジュールのインポート\n",
    "import os, tkinter, tkinter.filedialog, tkinter.messagebox\n",
    "\n",
    "# ファイル選択ダイアログの表示\n",
    "root = tkinter.Tk()\n",
    "root.withdraw()\n",
    "fTyp = [(\"\",\"*\")] #fTyp = [(\"\",\".csv\")]などと拡張子を指定すると、その拡張子のファイルしか表示しない。\n",
    "iDir = os.path.abspath(os.path.dirname('__file__')) #__file__で動かなかったので文字列に変更した。\n",
    "tkinter.messagebox.showinfo('○×プログラム','処理ファイルを選択してください！')\n",
    "file = tkinter.filedialog.askopenfilenames(filetypes = fTyp,initialdir = iDir) #askopenfilenamesと複数形にすると複数ファイル選択できる。\n",
    "\n",
    "# 処理ファイル名の出力\n",
    "tkinter.messagebox.showinfo('○×プログラム',file)"
   ]
  },
  {
   "cell_type": "code",
   "execution_count": null,
   "metadata": {
    "collapsed": true
   },
   "outputs": [],
   "source": [
    "# GUIでファイルを選択して特定の処理をさせる\n",
    "# 参考URL：　https://qiita.com/chanmaru/items/8e5ebf7d8b0b21c8fd3a\n",
    "import os,sys\n",
    "from tkinter import * #画面作成のモジュール\n",
    "from tkinter import ttk #画面作成のモジュール\n",
    "from tkinter import filedialog #ボタンクリック時の処理モジュール\n",
    "from tkinter import messagebox #ボタンクリック時の処理モジュール\n",
    "\n",
    "# 参照ボタンのイベント\n",
    "# button1クリック時の処理\n",
    "def button1_clicked():\n",
    "    fTyp = [(\"\",\"*\")]\n",
    "    iDir = os.path.abspath(os.path.dirname('__file__'))\n",
    "    #この辺の処理を変えれば、動きを変えられる？あるいは任意の処理を追加すればいいだけか。\n",
    "    filepath = filedialog.askopenfilenames(filetypes = fTyp,initialdir = iDir)\n",
    "    file1.set(filepath)\n",
    "\n",
    "# button2クリック時の処理\n",
    "def button2_clicked():\n",
    "    messagebox.showinfo('FileReference Tool', u'参照ファイルは↓↓\\n' + file1.get())\n",
    "\n",
    "# if __name__ == の書き方については、http://programming-study.com/technology/python-if-main/参照    \n",
    "if __name__ == '__main__':\n",
    "    # rootの作成\n",
    "    root = Tk()\n",
    "    root.title('FileReference Tool')\n",
    "    root.resizable(False, False) #ウィンドウサイズの変更を無効にする。\n",
    "\n",
    "    # Frame1の作成\n",
    "    frame1 = ttk.Frame(root, padding=10)\n",
    "    frame1.grid()\n",
    "\n",
    "    # 参照ボタンの作成\n",
    "    button1 = ttk.Button(root, text=u'参照', command=button1_clicked)\n",
    "    button1.grid(row=0, column=3)\n",
    "\n",
    "    # ラベルの作成\n",
    "    # 「ファイル」ラベルの作成\n",
    "    s = StringVar()\n",
    "    s.set('ファイル>>')\n",
    "    label1 = ttk.Label(frame1, textvariable=s)\n",
    "    label1.grid(row=0, column=0)\n",
    "\n",
    "    # 参照ファイルパス表示ラベルの作成\n",
    "    file1 = StringVar()\n",
    "    file1_entry = ttk.Entry(frame1, textvariable=file1, width=50)\n",
    "    file1_entry.grid(row=0, column=2)\n",
    "\n",
    "    # Frame2の作成\n",
    "    frame2 = ttk.Frame(root, padding=(0,5))\n",
    "    frame2.grid(row=1)\n",
    "\n",
    "    # Startボタンの作成\n",
    "    button2 = ttk.Button(frame2, text='Start', command=button2_clicked)\n",
    "    button2.pack(side=LEFT)\n",
    "\n",
    "    # Cancelボタンの作成\n",
    "    button3 = ttk.Button(frame2, text='Cancel', command=quit)\n",
    "    button3.pack(side=LEFT)\n",
    "\n",
    "    root.mainloop()"
   ]
  }
 ],
 "metadata": {
  "kernelspec": {
   "display_name": "Python 3",
   "language": "python",
   "name": "python3"
  },
  "language_info": {
   "codemirror_mode": {
    "name": "ipython",
    "version": 3
   },
   "file_extension": ".py",
   "mimetype": "text/x-python",
   "name": "python",
   "nbconvert_exporter": "python",
   "pygments_lexer": "ipython3",
   "version": "3.6.1"
  },
  "widgets": {
   "state": {
    "f5db42bdbddc4cf6b7e964d80f0e0fa1": {
     "views": [
      {
       "cell_index": 6
      }
     ]
    }
   },
   "version": "1.2.0"
  }
 },
 "nbformat": 4,
 "nbformat_minor": 2
}
