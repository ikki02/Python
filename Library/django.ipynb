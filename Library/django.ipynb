{
 "cells": [
  {
   "cell_type": "markdown",
   "metadata": {},
   "source": [
    "## 目次\n",
    "- フレームワークの基礎\n",
    "- djangoの利用に際して\n",
    "- アプリケーションとモデル\n",
    "- admin\n",
    "- URLの設定\n",
    "- view\n",
    "- template\n",
    "- QuerySet & ORM\n",
    "- CSSとStatic files（テンプレートの拡張、リンク先の設定）\n",
    "- forms"
   ]
  },
  {
   "cell_type": "markdown",
   "metadata": {},
   "source": [
    "---"
   ]
  },
  {
   "cell_type": "markdown",
   "metadata": {},
   "source": [
    "## [フレームワークの基礎](https://tutorial.djangogirls.org/en/django/)\n",
    "- view  \n",
    "When a request comes to a web server, it's passed to Django which tries to figure out what is actually requested. It takes a web page address first and tries to figure out what to do. This part is done by Django's **urlresolver** (note that a website address is called a URL – Uniform Resource Locator – so the name urlresolver makes sense). It is not very smart – it takes a list of patterns and tries to match the URL. Django checks patterns from top to bottom and if something is matched, then Django passes the request to the associated function (which is called **view**).\n",
    " - (e.g.)Imagine a mail carrier with a letter. She is walking down the street and checks each house number against the one on the letter. If it matches, she puts the letter there. This is how the urlresolver works!\n",
    " \n",
    " \n",
    "- URLconf  \n",
    "Every page on the Internet needs its own URL. This way your application knows what it should show to a user who opens that URL. In Django, URLconf is a set of patterns that Django will try to match the requested URL to find the correct view."
   ]
  },
  {
   "cell_type": "markdown",
   "metadata": {},
   "source": [
    "---"
   ]
  },
  {
   "cell_type": "markdown",
   "metadata": {},
   "source": [
    "## [djangoの利用に際して](https://tutorial.djangogirls.org/en/installation/)\n",
    "djangoに限らず、プロジェクトを作成する際は、プロジェクト毎に仮想環境を準備するのがグッドプラクティス。  \n",
    "Pythonでの仮想環境の構築手順は以下の通り。\n",
    "1. まず、プロジェクトフォルダを作成する。\n",
    "```\n",
    "$ mkdir djangogirls\n",
    "$ cd djangogirls\n",
    "```\n",
    "\n",
    "1. 次に仮想環境を起動する。\n",
    "```\n",
    "$python3 -m venv [myvenv]  #venvは仮想環境用のライブラリ。実行すると[myvenv]フォルダとその直下に設定ファイルが生成される。\n",
    "$source [myvenv]/bin/activate  #仮想環境を起動する。\n",
    "```\n",
    "\n",
    "1. 必要なライブラリをインストールし、環境構築する。  \n",
    "```\n",
    "(myvenv) ~$ pip install -U pip\n",
    "(myvenv) ~$ touch requirements.txt  #pipでインストールするライブラリを記述する。記述例：Django~=2.0.6\n",
    "(myvenv) ~$ pip install -r requirements.txt  #requirements.txtのライブラリを順にインストールする。\n",
    "```\n",
    "gitやtmuxなど汎用ツールは予めシステムに入れてから仮想環境を作った方がよい？グッドプラクティスは分からん。\n",
    "\n",
    "1. Webに公開（＝デプロイ）するため、[Pythonanywhere](https://www.pythonanywhere.com/user/b1200315/)や[Heroku](https://www.heroku.com)などにも登録しておこう。\n",
    "1. djangoのプロジェクトを作成する。[参考URL](https://tutorial.djangogirls.org/en/django_start_project/)  \n",
    "下記コマンドを実行すると、カレントディレクトリにdjangoスクリプトがたくさんできる。\n",
    "```\n",
    "(myvenv) $ django-admin startproject [mysite] .\n",
    "```\n",
    " - ./manage.py: a script that helps with management of the site. With it we will be able to start a web server on our computer without installing anything else.\n",
    " - ./mysite/settings.py: it contains the configuration of your website.\n",
    " - ./mysite/urls.py: it contains a list of patterns used by urlresolver. It's expected to be changed as follows.\n",
    "    - LANGUAGE_CODE = 'ja'\n",
    "    - TIME_ZONE = 'Asia/Tokyo'\n",
    "    - STATIC_URL = '/static/'  #static fileの設定1\n",
    "    - STATIC_ROOT = os.path.join(BASE_DIR, 'static')  #static fileの設定2\n",
    "    - ALLOWED_HOSTS = ['127.0.0.1', '.pythonanywhere.com']\n",
    "    - DATABASES = {'default': {~~~}}  #デフォルトではsqlite3が使われる。他のDBを使いたい場合は書換える。\n",
    "\n",
    "1. ルートディレクトリとDBを設定する。  \n",
    "```\n",
    "(myvenv) ~$ python manage.py migrate\n",
    "```\n",
    "\n",
    "1. サーバーを起動する。\n",
    "```\n",
    "(myvenv) ~/$ python manage.py runserver\n",
    "```\n",
    "起動したら、ブラウザに[http://127.0.0.1:8000/](http://127.0.0.1:8000/)をリクエストするとアクセスできる。"
   ]
  },
  {
   "cell_type": "markdown",
   "metadata": {},
   "source": [
    "---"
   ]
  },
  {
   "cell_type": "markdown",
   "metadata": {},
   "source": [
    "## アプリケーション\n",
    "djangoではひとつのプロジェクトは複数のアプリケーションで構成される。以下のコマンドでアプリケーションを作成する。\n",
    "```\n",
    "$ python manage.py startapp blog\n",
    "```\n",
    "blog/直下に複数のファイルが生成される。  \n",
    "  \n",
    "また、djangoに作成したアプリケーションを認識させるため、mysite/setting.pyに以下のように追記する。\n",
    "```\n",
    "INSTALLED_APPS=['django.hogehoge', 'blog',]\n",
    "```\n",
    "\n",
    "## [モデル](https://tutorial.djangogirls.org/en/django_models/)\n",
    "DBに登録されるオブジェクトのことをモデルという。なお、オブジェクトは以下の特徴を持つ。\n",
    "- properties: 猫だったら、「色」「猫種」「飼い主」などが考えられる。\n",
    "- method: 猫だったら、「ひっかく」「寝る」「食べる」などが考えられる。\n",
    "\n",
    "Webサイトを作るときは、「オブジェクト」と「オブジェクト同士の繋がり」を設計することがポイントになる。  \n",
    "例えば、ブログを作るときは、「タイトル」「記事」「作者」などの属性があり、「発行」「削除」などのメソッドが考えられるだろう。  \n",
    "\n",
    "## モデルの登録の仕方\n",
    "blog/models.pyにクラスを書くようにして、モデルを記述していく。[⇨django公式モデル定義URL](https://docs.djangoproject.com/en/2.0/ref/models/fields/#field-types)"
   ]
  },
  {
   "cell_type": "markdown",
   "metadata": {},
   "source": [
    "```\n",
    "from django.conf import settings\n",
    "from django.db import models\n",
    "from django.utils import timezone\n",
    "\n",
    "\n",
    "class Post(models.Model):  #models.Model means that the Post is a Django Model, so Django knows that it should be saved in the DB.\n",
    "    author = models.ForeignKey(settings.AUTH_USER_MODEL, on_delete=models.CASCADE)  #models.ForeignKey is a link to another model.\n",
    "    title = models.CharField(max_length=200)  #models.CharField is how you define text with a limited number of characters.\n",
    "    text = models.TextField()  #models.TextField is for long text without a limit.\n",
    "    created_date = models.DateTimeField(default=timezone.now)  #models.DateTimeField is a date and time.\n",
    "    published_date = models.DateTimeField(blank=True, null=True)\n",
    "\n",
    "    def publish(self):\n",
    "        self.published_date = timezone.now()\n",
    "        self.save()\n",
    "\n",
    "    def __str__(self):\n",
    "        return self.title\n",
    "```"
   ]
  },
  {
   "cell_type": "markdown",
   "metadata": {},
   "source": [
    "models.pyにモデルの変更を記述したら、以下のコマンドを叩いてdjangoに変更を知らせる。\n",
    "```\n",
    "$ python manage.py makemigrations blog\n",
    "```\n",
    "\n",
    "その後、DBにモデルを登録する。\n",
    "\n",
    "```\n",
    "$ python manage.py migrate blog\n",
    "```"
   ]
  },
  {
   "cell_type": "markdown",
   "metadata": {},
   "source": [
    "---"
   ]
  },
  {
   "cell_type": "markdown",
   "metadata": {},
   "source": [
    "## [admin](https://tutorial.djangogirls.org/en/django_admin/)\n",
    "DBを管理するadminを設定する。  \n",
    "blog/admin.pyにて以下の記述を追記し、作ったPostモデルをadminページで管理できるようにする。\n",
    "```\n",
    "from django.contrib import admin\n",
    "from .models import Post  #カレントのmodels.pyからPostモデルをインポートする。\n",
    "\n",
    "admin.site.register(Post)\n",
    "```\n",
    "\n",
    "その後、以下のコマンドにてsuperuserアカウントを作成する。ユーザー名、Emailアドレス、パスワードを対話的に設定していく。\n",
    "\n",
    "```\n",
    "$ python manage.py createsuperuser\n",
    "```\n",
    "\n",
    "\n",
    "[http://127.0.0.1:8000/admin/](http://127.0.0.1:8000/admin/)にブラウザでアクセスし、上記superuserアカウントでログインできる。  \n",
    "[その他参考：django公式URL](https://docs.djangoproject.com/en/2.0/ref/contrib/admin/)"
   ]
  },
  {
   "cell_type": "markdown",
   "metadata": {},
   "source": [
    "---"
   ]
  },
  {
   "cell_type": "markdown",
   "metadata": {},
   "source": [
    "## URLの設定\n",
    "- mysite/urls.pyのurlpatternsに以下のように記述する。  \n",
    "\n",
    "```\n",
    "from django.contrib import admin\n",
    "from django.urls import path\n",
    "\n",
    "urlpatterns = [\n",
    "    path('admin/', admin.site.urls),\n",
    "]\n",
    "```\n",
    "これでadmin/とブラウザに入力すると、admin.site.urlsに飛ぶ。  \n",
    " "
   ]
  },
  {
   "cell_type": "markdown",
   "metadata": {},
   "source": [
    "- ホームページを設定したい際は、以下の行を変えるとよい。"
   ]
  },
  {
   "cell_type": "markdown",
   "metadata": {},
   "source": [
    "1. まず、任意のアプリケーションをリンク先に指定する。\n",
    "\n",
    "```\n",
    "from django.urls import path, include  #includeを使うため、インポートする。\n",
    "\n",
    "urlpatterns = [\n",
    "    path('admin/', admin.site.urls),\n",
    "    path('', include('blog.urls')),  #'http://127.0.0.1:8000/'のリクエストを全てblog.urlsにリダイレクトする。blog.urlsは以下で記述する。\n",
    "]\n",
    "```"
   ]
  },
  {
   "cell_type": "markdown",
   "metadata": {},
   "source": [
    "2. 次に、任意のアプリケーションでurls.pyを作る。その後、以下のように記述する（例：blog/urls.py）。\n",
    "\n",
    "```\n",
    "from django.urls import path\n",
    "from . import views  #blogアプリケーションのviewsにリダイレクトするため、インポートする。\n",
    "\n",
    "urlpatterns = [\n",
    "    path('', views.post_list, name='post_list'),  #views.post_listにリダイレクト（＝ルートURLと同義）。name=でpost_list.htmlを探す。\n",
    "]\n",
    "```"
   ]
  },
  {
   "cell_type": "markdown",
   "metadata": {},
   "source": [
    "---"
   ]
  },
  {
   "cell_type": "markdown",
   "metadata": {},
   "source": [
    "## [view](https://tutorial.djangogirls.org/en/django_views/)\n",
    "A view is a place where we put the \"logic\" of our application. It will request information from the model you created before and pass it to a template: connect models and templates. \n",
    "\n",
    "- 任意のアプリケーション直下にviews.pyを置いて、ロジックを記述する。（例：blog/views.py）\n",
    "\n",
    "```\n",
    "from django.shortcuts import render\n",
    "from django.utils import timezone\n",
    "from .models import Post\n",
    "\n",
    "def post_list(request):  #requestを受けてpost_list.htmlを返す。  \n",
    "    posts = Post.objects.filter(published_date__lte=timezone.now()).order_by('published_date')  #モデルを変数に格納する。  \n",
    "    return render(request, 'blog/post_list.html', {'posts': posts})  #requestをpost_list.htmlにする。{}では、テンプレートに渡す変数を定義する。  \n",
    "```"
   ]
  },
  {
   "cell_type": "markdown",
   "metadata": {},
   "source": [
    "---"
   ]
  },
  {
   "cell_type": "markdown",
   "metadata": {},
   "source": [
    "## [template](https://tutorial.djangogirls.org/en/html/)\n",
    "A template is a file that we can re-use to present different information in a consistent format – for example, you could use a template to help you write a letter because although each letter might contain a different message and be addressed to a different person, they will share the same format.\n",
    "\n",
    "A Django template's format is described in a language called HTML\n",
    "\n",
    "Templates are saved in **blog/templates/blog** directory, and let's make **post_list.html** there.\n",
    "\n",
    "HTMLで.htmlファイルに記述すれば、それが表示されるようになる。"
   ]
  },
  {
   "cell_type": "markdown",
   "metadata": {},
   "source": [
    "- To print a variable in Django templates, we use double curly brackets with the variable's name inside, like this:`{{ posts }}`\n",
    "\n",
    "- また、viewの変数はリストで渡されるため、for文を書く要領で独特のかき回しをする必要がある。\n",
    "```\n",
    "{% for post in posts %}\n",
    "    {{ post }}\n",
    "{% endfor %}\n",
    "```\n",
    "\n",
    "- 「変数の属性」に繰り返しアクセスしたい際は、{% for %}と{% endfor %}の間に以下のように記述する。\n",
    "\n",
    "```\n",
    "{% for post in posts %}\n",
    "    <div>\n",
    "        <p>published: {{ post.published_date }}</p>\n",
    "        <h2><a href=\"\">{{ post.title }}</a></h2>\n",
    "        <p>{{ post.text|linebreaksbr }}</p>  #|linebreaksbrはposts' textを段落に加工するプログラム\n",
    "    </div>\n",
    "{% endfor %}\n",
    "```"
   ]
  },
  {
   "cell_type": "markdown",
   "metadata": {},
   "source": [
    "---"
   ]
  },
  {
   "cell_type": "markdown",
   "metadata": {},
   "source": [
    "## [QuerySet](https://tutorial.djangogirls.org/en/django_orm/)\n",
    "A QuerySet is, in essence, a list of objects of a given Model. QuerySets allow you to read the data from the database, filter it and order it.\n",
    "\n",
    "```\n",
    "(myvenv) ~/djangogirls$ python manage.py shell\n",
    "\n",
    ">>> from blog.models import Post\n",
    ">>> Post.objects.all()  #Postモデルのオブジェクトを全て表示する。\n",
    ">>> Post.objects.create(author=me, title='Sample title', text='Test')  #Postモデルに新規登録する。\n",
    "\n",
    ">>> Post.objects.filter(title__contains='title')  #フィルタをかける。\n",
    "\n",
    ">>> post = Post.objects.get(title=\"Sample title\")  #publish()するための書き方。\n",
    ">>> post.publish()  #publish()するための書き方。\n",
    "\n",
    ">>> Post.objects.order_by('created_date')  #並び替える書き方。\n",
    ">>> Post.objects.order_by('-created_date')  #逆順に並び替える書き方。\n",
    "\n",
    "# SQL文はchainすることもできる。\n",
    ">>> Post.objects.filter(published_date__lte=timezone.now()).order_by('published_date')\n",
    "\n",
    "```\n",
    "\n",
    "[参考：公式URL](https://docs.djangoproject.com/en/2.0/ref/models/querysets/)\n",
    "\n"
   ]
  },
  {
   "cell_type": "markdown",
   "metadata": {},
   "source": [
    "---"
   ]
  },
  {
   "cell_type": "markdown",
   "metadata": {},
   "source": [
    "## [CSS](https://tutorial.djangogirls.org/en/css/)\n",
    "Cascading Style Sheets (CSS) is a language used for describing the look and formatting of a website.  \n",
    "CSSのフォーマットは[Bootstrap](https://getbootstrap.com)がよく参照されるとのこと。\n",
    "\n",
    "Bootstrapをインストールするには、テンプレートの**blog/templates/blog/post_list.html**の先頭に以下の2行を追記する。\n",
    "```\n",
    "<link rel=\"stylesheet\" href=\"//maxcdn.bootstrapcdn.com/bootstrap/3.2.0/css/bootstrap.min.css\">\n",
    "<link rel=\"stylesheet\" href=\"//maxcdn.bootstrapcdn.com/bootstrap/3.2.0/css/bootstrap-theme.min.css\">\n",
    "```"
   ]
  },
  {
   "cell_type": "markdown",
   "metadata": {},
   "source": [
    "## Static files\n",
    "Static files are all your CSS and images. Django will automatically find any folders called \"static\" inside any of your apps' folders. Then it will be able to use their contents as static files.\n",
    "\n",
    "CSSファイルはstaticディレクトリの下のcssディレクトリ下に作る。（例：**blog/static/css/blog.css**）  \n",
    "CSSファイルを書くときは、[HTML Color Name](https://www.w3schools.com/colors/colors_names.asp)などを参照しながら、フォントを設定していく。  \n",
    "- class: HTMLの複数のelementをグルーピングする。class=\"external_link\"など。\n",
    "- id: HTMLにおける特定のelementを指し示す。id=\"link_to_wiki_page\"など。  \n",
    "\n",
    "CSSファイルの細かい書き方は「CSSのリンク」を参考にするとよい。\n",
    "\n",
    "- We also need to tell our HTML template that we added some CSS. Open the **blog/templates/blog/post_list.html** file in the code editor and add this line at the very beginning of it:`{% load static %}`\n",
    "\n",
    "We're just loading static files here. \n",
    "Between the <head> and </head> tags, after the links to the Bootstrap CSS files, add this line:\n",
    "\n",
    "`<link rel=\"stylesheet\" href=\"{% static 'css/blog.css' %}\">`\n",
    "\n",
    "The browser reads the files in the order they're given, so we need to make sure this is in the right place. Otherwise the code in our file may be overriden by code in Bootstrap files. We just told our template where our CSS file is located.\n",
    "\n",
    "Your template file should now look like this:\n",
    "```\n",
    "{% load static %}\n",
    "<html>\n",
    "    <head>\n",
    "        <title>Django Girls blog</title>\n",
    "        <link rel=\"stylesheet\" href=\"//maxcdn.bootstrapcdn.com/bootstrap/3.2.0/css/bootstrap.min.css\">\n",
    "        <link rel=\"stylesheet\" href=\"//maxcdn.bootstrapcdn.com/bootstrap/3.2.0/css/bootstrap-theme.min.css\">\n",
    "        <link rel=\"stylesheet\" href=\"{% static 'css/blog.css' %}\">\n",
    "    </head>\n",
    "```\n",
    "- つまり、全体に適用させたいフォントは.cssファイルに、個別に適用させたいフォントはテンプレートの.htmlファイルに記述する要領でよい。\n",
    "- .htmlファイルなどの`<div>`タグにクラス名を与えて識別しやすくすることも可能。例：`<div class=\"page-header\"></div>`"
   ]
  },
  {
   "cell_type": "markdown",
   "metadata": {},
   "source": [
    "## [Template extending](https://tutorial.djangogirls.org/en/template_extending/)\n",
    "Webページ内で汎用的にテンプレートを使いまわしたいとき、`base.html`ファイルを用意すればよい。（例：blog/templates/blog/base.html）\n",
    "\n",
    "1. base.html内でHTMLを別途定義したい際は、以下の記述を記載する。\n",
    "```\n",
    "{% block content %}\n",
    "{% endblock %}\n",
    "```\n",
    "1. その後、他のHTMLファイルを`blog/templates/blog/`直下にファイル保存する。\n",
    " - base.htmlに拡張することを明記する。\n",
    " - 上記2行の間に拡張したい内容を追記する。\n",
    "\n",
    "```\n",
    "{% extends 'blog/base.html' %}\n",
    "\n",
    "{% block content %}\n",
    "    <div>\n",
    "    </div>\n",
    "{% endblock %}\n",
    "```\n"
   ]
  },
  {
   "cell_type": "markdown",
   "metadata": {},
   "source": [
    "## [リンクの設定](https://tutorial.djangogirls.org/en/extend_your_application/)\n",
    "\n",
    "以下の要領でリンクを記述できる。\n",
    "1. リンクを貼りたい箇所に以下のようにテンプレートタグを挿入する。\n",
    "```\n",
    "<h1><a href=\"{% url 'post_detail' pk=post.pk %}\">{{ post.title }}</a></h1>\n",
    "```\n",
    "`{% url 'post_detail' pk=post.pk %}`の説明は以下の通り。\n",
    " - The `post_detail` part means that Django will be expecting a URL in **blog/urls.py** with name=post_detail\n",
    " - `pk` is short for primary key, which is a unique name for each record in a database. Because we didn't specify a primary key in our Post model, Django creates one for us (by default, a number that increases by one for each record, i.e. 1, 2, 3) and adds it as a field named pk to each of our posts. We access the primary key by writing post.pk, the same way we access other fields (title, author, etc.) in our Post object!\n",
    "1. blog/urls.pyにURLの変数を追加する。次のようなURL（http://127.0.0.1:8000/post/1/ ）を設定したい場合は以下のように書く。  \n",
    "`path('post/<int:pk>/', views.post_detail, name='post_detail')`\n",
    " - <int:pk>: djangoが数値型の値を受け取り、pkという変数名でviewに返す。という意味。\n",
    "1. views.pyにpost_detail用の新しい関数を用意する。こんな感じ。\n",
    "```\n",
    "from django.shortcuts import render, get_object_or_404  #`get_object_or_404`はページが存在しない場合のエラーハンドラ\n",
    "def post_detail(request, pk):  #url.pyからpkを受取り、処理する。\n",
    "    post = get_object_or_404(Post, pk=pk)  #もしpkの値が不適切な場合、エラーハンドラが走る。\n",
    "    return render(request, 'blog/post_detail.html', {'post': post})\n",
    "```\n",
    "1. post_detail用のテンプレートを作る。\n",
    "\n",
    "```\n",
    "{% extends 'blog/base.html' %}\n",
    "\n",
    "{% block content %}\n",
    "    <div class=\"post\">\n",
    "        {% if post.published_date %}  #post.published_dateがあれば処理が走る。\n",
    "            <div class=\"date\">\n",
    "                {{ post.published_date }}\n",
    "            </div>\n",
    "        {% endif %}\n",
    "        <h2>{{ post.title }}</h2>\n",
    "        <p>{{ post.text|linebreaksbr }}</p>\n",
    "    </div>\n",
    "{% endblock %}\n",
    "```"
   ]
  },
  {
   "cell_type": "markdown",
   "metadata": {},
   "source": [
    "---"
   ]
  },
  {
   "cell_type": "markdown",
   "metadata": {},
   "source": [
    "## [Forms](https://tutorial.djangogirls.org/en/django_forms/)  \n",
    "Postモデルの追加と編集をWebページ上でできるようにしよう。  \n",
    "With forms we will have absolute power over our interface – we can do almost anything we can imagine!The nice thing about Django forms is that we can either define one from scratch or create a ModelForm which will save the result of the form to the model.\n",
    "  \n",
    "1. アプリケーション直下に`forms.py`ファイルを格納する。（例：**blog/forms.py**）  \n",
    "\n",
    "```\n",
    "from django import forms\n",
    "from .models import Post\n",
    "\n",
    "class PostForm(forms.ModelForm):  #フォーム名\n",
    "\n",
    "    class Meta:  #we have class Meta, where we tell Django which model should be used to create this form\n",
    "        model = Post\n",
    "        fields = ('title', 'text',)\n",
    "```  \n",
    "1. 以下のコードを**blog/template/blog/base.html**に追記する。  \n",
    "`<a href=\"{% url 'post_new' %}\" class=\"top-menu\"><span class=\"glyphicon glyphicon-plus\"></span></a>`  \n",
    "The class `glyphicon glyphicon-plus` is provided by the bootstrap theme we are using, and will display a plus sign for us.\n",
    "\n",
    "1. **blog/urls.py**にURLを追加する。  \n",
    "Once again we will create a link to the page, a URL, a view and a template.\n",
    "`path('post/new', views.post_new, name='post_new'),`\n",
    "1. **blog/views.py**に以下を追記する。\n",
    "```\n",
    "from .forms import PostForm\n",
    "def post_new(request):\n",
    "    form = PostForm()\n",
    "    return render(request, 'blog/post_edit.html', {'form': form})\n",
    "```\n",
    "上記でpost_editページは作れるが、実は、作ったページからDBに値を直接登録はできない。  \n",
    "そのやり方はもう一つ下のセルをみると良い。\n",
    "\n",
    "1. **blog/template/blog/post_edit.html**に以下を追記する。\n",
    "\n",
    "```\n",
    "{% extends 'blog/base.html' %}\n",
    "\n",
    "{% block content %}\n",
    "    <h2>New post</h2>\n",
    "    <form method=\"POST\" class=\"post-form\">{% csrf_token %}\n",
    "        {{ form.as_p }}\n",
    "        <button type=\"submit\" class=\"save btn btn-default\">Save</button>\n",
    "    </form>\n",
    "{% endblock %}\n",
    "```\n",
    "\n",
    "  - We have to display the form. We can do that with `{{ form.as_p }}`.\n",
    "  - The line above needs to be wrapped with an HTML form tag: `<form method=\"POST\">...</form>`.\n",
    "  - We need a Save button. We do that with an HTML button: `<button type=\"submit\">Save</button>`.\n",
    "  - And finally, just after the opening `<form ...>` tag we need to add `{% csrf_token %}`. This is very important, since it makes your forms secure!\n",
    "  \n",
    "[Formに関する公式URL](https://docs.djangoproject.com/en/2.0/topics/forms/)"
   ]
  },
  {
   "cell_type": "markdown",
   "metadata": {},
   "source": [
    "## FormからDBに保存しよう。\n",
    "1. FormにPOSTされた値を反映するように、views.pyにif文を書き加える。\n",
    "\n",
    "```\n",
    "from .forms import PostForm\n",
    "from django.shortcuts import redirect  #他のページに直接飛べるようにするライブラリ\n",
    "\n",
    "def post_new(request):\n",
    "    if request.method == \"POST\":  #All the fields from the form are in `request.POST` once the form has been created. \n",
    "        form = PostForm(request.POST)  #To construct the PostForm with data from the form\n",
    "        if form.is_valid():  #To check if the form is correct (all required fields are set and no incorrect values have been submitted).\n",
    "            post = form.save(commit=False)  #to save the form.commit option means that we don't wanna save the form yet.\n",
    "            post.author = request.user\n",
    "            post.published_date = timezone.now()\n",
    "            post.save()  #new blog post is saved.\n",
    "            return redirect('post_detail', pk=post.pk)  #post_detailに直接飛べるようにする。\n",
    "    else:\n",
    "        form = PostForm()\n",
    "    return render(request, 'blog/post_edit.html', {'form': form})\n",
    "\n",
    "```"
   ]
  },
  {
   "cell_type": "markdown",
   "metadata": {},
   "source": [
    "## 編集機能を追加しよう\n",
    "1. テンプレートに以下を追記する。（例：blog/template/blog/post_detail.html）  \n",
    "`<a class=\"btn btn-default\" href=\"{% url 'post_edit' pk=post.pk %}\"><span class=\"glyphicon glyphicon-pencil\"></span></a>`  \n",
    "これは鉛筆ボタンを追加して、post_editにリンク先を指定する、という意味である。\n",
    "1. **blog/urls.py**に以下を追記する。\n",
    "` path('post/<int:pk>/edit/', views.post_edit, name='post_edit'),`\n",
    "1. **blog/views.py**にpost_edit関数を記載する。\n",
    "```\n",
    "def post_edit(request, pk):\n",
    "    post = get_object_or_404(Post, pk=pk)  #エラーハンドラ\n",
    "    if request.method == \"POST\":\n",
    "        form = PostForm(request.POST, instance=post)  #エラーハンドラのインスタンスをformに渡す書き方。\n",
    "        if form.is_valid():\n",
    "            post = form.save(commit=False)\n",
    "            post.author = request.user\n",
    "            post.published_date = timezone.now()\n",
    "            post.save()\n",
    "            return redirect('post_detail', pk=post.pk)\n",
    "    else:\n",
    "        form = PostForm(instance=post)  #エラーハンドラのインスタンスをformに渡す書き方。\n",
    "    return render(request, 'blog/post_edit.html', {'form': form})\n",
    "```"
   ]
  },
  {
   "cell_type": "markdown",
   "metadata": {},
   "source": [
    "## アクセス権毎に表示するページを変える方法\n",
    "上記のようなフォーム追加や編集が誰にでもできると安全とはいえないため、admin権限のユーザーだけに表示させるようにしたい。  \n",
    "\n",
    "1. **blog/templates/blog/base.html**を開く。認証をつけたい箇所に{% if %}で処理を追加しよう。\n",
    "\n",
    "```\n",
    "{% if user.is_authenticated %}\n",
    "    <a href=\"{% url 'post_new' %}\" class=\"top-menu\"><span class=\"glyphicon glyphicon-plus\"></span></a>\n",
    "{% endif %}\n",
    "```\n",
    "1. **blog/templates/blog/post_detail.html**を開く。認証をつけたい箇所に{% if %}で処理を追加しよう。\n",
    "\n",
    "```\n",
    "{% if user.is_authenticated %}\n",
    "     <a class=\"btn btn-default\" href=\"{% url 'post_edit' pk=post.pk %}\"><span class=\"glyphicon glyphicon-pencil\"></span></a>\n",
    "{% endif %}\n",
    "```\n",
    "\n",
    "これで完璧な対策というわけではないが、第一歩としては上出来である。"
   ]
  },
  {
   "cell_type": "markdown",
   "metadata": {},
   "source": [
    "---"
   ]
  },
  {
   "cell_type": "markdown",
   "metadata": {},
   "source": [
    "## その他参考\n",
    "djangoのシェルを起動するには以下コマンドを叩くとSQL文が書けたりする。\n",
    "\n",
    "```\n",
    "(myvenv) ~/djangogirls$ python manage.py shell\n",
    "\n",
    ">>> from blog.models import Post\n",
    ">>> Post.objects.all()  #Postモデルのオブジェクトを全て表示する。\n",
    ">>> Post.objects.create(author=me, title='Sample title', text='Test')  #Postモデルに新規登録する。\n",
    "\n",
    "exit()  #抜ける。\n",
    "```"
   ]
  }
 ],
 "metadata": {
  "kernelspec": {
   "display_name": "Python 3",
   "language": "python",
   "name": "python3"
  },
  "language_info": {
   "codemirror_mode": {
    "name": "ipython",
    "version": 3
   },
   "file_extension": ".py",
   "mimetype": "text/x-python",
   "name": "python",
   "nbconvert_exporter": "python",
   "pygments_lexer": "ipython3",
   "version": "3.6.5"
  }
 },
 "nbformat": 4,
 "nbformat_minor": 2
}
