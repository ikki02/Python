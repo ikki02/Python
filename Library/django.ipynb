{
 "cells": [
  {
   "cell_type": "markdown",
   "metadata": {},
   "source": [
    "#### [フレームワークの基礎](https://tutorial.djangogirls.org/en/django/)\n",
    "- view  \n",
    "When a request comes to a web server, it's passed to Django which tries to figure out what is actually requested. It takes a web page address first and tries to figure out what to do. This part is done by Django's **urlresolver** (note that a website address is called a URL – Uniform Resource Locator – so the name urlresolver makes sense). It is not very smart – it takes a list of patterns and tries to match the URL. Django checks patterns from top to bottom and if something is matched, then Django passes the request to the associated function (which is called **view**).\n",
    " - (e.g.)Imagine a mail carrier with a letter. She is walking down the street and checks each house number against the one on the letter. If it matches, she puts the letter there. This is how the urlresolver works!"
   ]
  },
  {
   "cell_type": "markdown",
   "metadata": {},
   "source": [
    "#### [djangoの利用に際して](https://tutorial.djangogirls.org/en/installation/)\n",
    "djangoに限らず、プロジェクトを作成する際は、プロジェクト毎に仮想環境を準備するのがグッドプラクティス。  \n",
    "Pythonでの仮想環境の構築手順は以下の通り。\n",
    "1. まず、プロジェクトフォルダを作成する。\n",
    "```\n",
    "$ mkdir djangogirls\n",
    "$ cd djangogirls\n",
    "```\n",
    "\n",
    "1. 次に仮想環境を起動する。\n",
    "```\n",
    "$python3 -m venv [myvenv]  #venvは仮想環境用のライブラリ。実行すると[myvenv]フォルダとその直下に設定ファイルが生成される。\n",
    "$source [myvenv]/bin/activate  #仮想環境を起動する。\n",
    "```\n",
    "\n",
    "1. 必要なライブラリをインストールし、環境構築する。  \n",
    "```\n",
    "(myvenv) ~$ pip install -U pip\n",
    "(myvenv) ~$ touch requirements.txt  #pipでインストールするライブラリを記述する。記述例：Django~=2.0.6\n",
    "(myvenv) ~$ pip install -r requirements.txt  #requirements.txtのライブラリを順にインストールする。\n",
    "```\n",
    "gitやtmuxなど汎用ツールは予めシステムに入れてから仮想環境を作った方がよい？グッドプラクティスは分からん。\n",
    "\n",
    "1. Webに公開（＝デプロイ）するため、[Pythonanywhere](https://www.pythonanywhere.com/user/b1200315/)や[Heroku](https://www.heroku.com)などにも登録しておこう。\n",
    "1. djangoのプロジェクトを作成する。[参考URL](https://tutorial.djangogirls.org/en/django_start_project/)  \n",
    "下記コマンドを実行すると、カレントディレクトリにdjangoスクリプトがたくさんできる。\n",
    "```\n",
    "(myvenv) $ django-admin startproject [mysite] .\n",
    "```\n",
    " - ./manage.py: a script that helps with management of the site. With it we will be able to start a web server on our computer without installing anything else.\n",
    " - ./mysite/settings.py: it contains the configuration of your website.\n",
    " - ./mysite/urls.py: it contains a list of patterns used by urlresolver. It's expected to be changed as follows.\n",
    "    - LANGUAGE_CODE = 'ja'\n",
    "    - TIME_ZONE = 'Asia/Tokyo'\n",
    "    - STATIC_URL = '/static/'  #static fileの設定1\n",
    "    - STATIC_ROOT = os.path.join(BASE_DIR, 'static')  #static fileの設定2\n",
    "    - ALLOWED_HOSTS = ['127.0.0.1', '.pythonanywhere.com']\n",
    "    - DATABASES = {'default': {~~~}}  #デフォルトではsqlite3が使われる。他のDBを使いたい場合は書換える。\n",
    "\n",
    "1. ルートディレクトリとDBを設定する。  \n",
    "```\n",
    "(myvenv) ~$ python manage.py migrate\n",
    "```\n",
    "\n",
    "1. サーバーを起動する。\n",
    "```\n",
    "(myvenv) ~/$ python manage.py runserver\n",
    "```\n",
    "起動したら、ブラウザに[http://127.0.0.1:8000/](http://127.0.0.1:8000/)をリクエストするとアクセスできる。"
   ]
  },
  {
   "cell_type": "markdown",
   "metadata": {},
   "source": [
    "djangoではひとつのプロジェクトは複数のアプリケーションで構成される。\n",
    "```\n",
    "$ python manage.py startapp blog\n",
    "```"
   ]
  }
 ],
 "metadata": {
  "kernelspec": {
   "display_name": "Python 3",
   "language": "python",
   "name": "python3"
  },
  "language_info": {
   "codemirror_mode": {
    "name": "ipython",
    "version": 3
   },
   "file_extension": ".py",
   "mimetype": "text/x-python",
   "name": "python",
   "nbconvert_exporter": "python",
   "pygments_lexer": "ipython3",
   "version": "3.6.5"
  }
 },
 "nbformat": 4,
 "nbformat_minor": 2
}
