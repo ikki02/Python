{
 "cells": [
  {
   "cell_type": "markdown",
   "metadata": {},
   "source": [
    "# IPythonのマジックコマンド"
   ]
  },
  {
   "cell_type": "markdown",
   "metadata": {},
   "source": [
    "### pythonファイルの実行\n",
    "```\n",
    "%run ファイル名\n",
    "```\n",
    "%runは一つの引数をとる。\n",
    "1. 実行ファイル名"
   ]
  },
  {
   "cell_type": "markdown",
   "metadata": {},
   "source": [
    "### コマンド履歴のファイル保存\n",
    "```  \n",
    "%save ファイル名 1-100  \n",
    "```  \n",
    "%saveは二つの引数をとる。\n",
    "1. ファイル名\n",
    "1. コマンド履歴の番号\n"
   ]
  },
  {
   "cell_type": "markdown",
   "metadata": {},
   "source": [
    "### その他マジックコマンド\n",
    "\n",
    "|コマンド名|説明|\n",
    "|:-:|:-:|\n",
    "|%cd|カレントディレクトリを変更する|\n",
    "|%debug|デバッガを起動する|\n",
    "|%edit|エディタを起動し、入力されたコードを実行する|\n",
    "|%env|環境変数の参照/設定を行う|\n",
    "|%history|入力履歴にアクセスする|\n",
    "|%load|指定したファイルを読み込んでIPython環境内で実行する|\n",
    "|%logstart|指定したファイルに実行したコードや実行結果をログとして記録する|\n",
    "|%matplotlib|matplotlibサポートを有効にする|\n",
    "|%notebook|履歴をnotebook形式でエクスポートする|\n",
    "|%time|コードを実行してその所要時間を測定する|\n",
    "|%who, %whos|定義済みの変数やモジュールなどの一覧を表示する|\n",
    "|%xdel|指定した変数を削除する|"
   ]
  }
 ],
 "metadata": {
  "kernelspec": {
   "display_name": "Python 3",
   "language": "python",
   "name": "python3"
  },
  "language_info": {
   "codemirror_mode": {
    "name": "ipython",
    "version": 3
   },
   "file_extension": ".py",
   "mimetype": "text/x-python",
   "name": "python",
   "nbconvert_exporter": "python",
   "pygments_lexer": "ipython3",
   "version": "3.6.1"
  }
 },
 "nbformat": 4,
 "nbformat_minor": 2
}
