{
 "cells": [
  {
   "cell_type": "markdown",
   "metadata": {},
   "source": [
    "# IPythonのマジックコマンド"
   ]
  },
  {
   "cell_type": "markdown",
   "metadata": {},
   "source": [
    "### pythonファイルの実行\n",
    "```\n",
    "%run ファイル名\n",
    "```\n",
    "%runは一つの引数をとる。\n",
    "1. 実行ファイル名"
   ]
  },
  {
   "cell_type": "markdown",
   "metadata": {},
   "source": [
    "### コマンド履歴のファイル保存\n",
    "```  \n",
    "%save ファイル名 1-100  \n",
    "```  \n",
    "%saveは二つの引数をとる。\n",
    "1. ファイル名\n",
    "1. コマンド履歴の番号\n"
   ]
  }
 ],
 "metadata": {
  "kernelspec": {
   "display_name": "Python 3",
   "language": "python",
   "name": "python3"
  },
  "language_info": {
   "codemirror_mode": {
    "name": "ipython",
    "version": 3
   },
   "file_extension": ".py",
   "mimetype": "text/x-python",
   "name": "python",
   "nbconvert_exporter": "python",
   "pygments_lexer": "ipython3",
   "version": "3.6.1"
  }
 },
 "nbformat": 4,
 "nbformat_minor": 2
}
