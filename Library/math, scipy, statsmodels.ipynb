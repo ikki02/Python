{
 "cells": [
  {
   "cell_type": "code",
   "execution_count": 2,
   "metadata": {},
   "outputs": [
    {
     "name": "stdout",
     "output_type": "stream",
     "text": [
      "0\n",
      "1\n",
      "0\n"
     ]
    }
   ],
   "source": [
    "import math\n",
    "\n",
    "x = 1/2\n",
    "\n",
    "# 切り捨て\n",
    "print(math.floor(x))\n",
    "# 切り上げ\n",
    "print(math.ceil(x))\n",
    "# 四捨五入\n",
    "print(round(x))"
   ]
  },
  {
   "cell_type": "code",
   "execution_count": 2,
   "metadata": {},
   "outputs": [
    {
     "data": {
      "image/png": "[encoded data removed]",
      "text/plain": [
       "<Figure size 432x288 with 1 Axes>"
      ]
     },
     "metadata": {},
     "output_type": "display_data"
    }
   ],
   "source": [
    "# -*- coding: utf-8 -*-\n",
    "# リスト2-2  SciPy を使ったプログラム例    階層型クラスタリング\n",
    "import numpy as np\n",
    "from scipy.cluster.hierarchy import dendrogram, linkage\n",
    "from scipy.spatial.distance import pdist\n",
    "import matplotlib.pyplot as plt\n",
    "X = np.array([[1,2], [2,1], [3,4], [4,3]])\n",
    "Z = linkage(X, 'ward')  # Ward法を使って階層型クラスタリングを行う\n",
    "dendrogram(Z)           # 樹形図（dendrogram）を描く\n",
    "plt.show()              # 図形を画面に描画する"
   ]
  },
  {
   "cell_type": "code",
   "execution_count": 4,
   "metadata": {},
   "outputs": [
    {
     "name": "stderr",
     "output_type": "stream",
     "text": [
      "D:\\0.programs\\Anaconda3\\lib\\site-packages\\statsmodels\\compat\\pandas.py:56: FutureWarning: The pandas.core.datetools module is deprecated and will be removed in a future version. Please use the pandas.tseries module instead.\n",
      "  from pandas.core import datetools\n",
      "D:\\0.programs\\Anaconda3\\lib\\site-packages\\scipy\\stats\\stats.py:1390: UserWarning: kurtosistest only valid for n>=20 ... continuing anyway, n=12\n",
      "  \"anyway, n=%i\" % int(n))\n"
     ]
    },
    {
     "name": "stdout",
     "output_type": "stream",
     "text": [
      "                            OLS Regression Results                            \n",
      "==============================================================================\n",
      "Dep. Variable:                      y   R-squared:                       0.829\n",
      "Model:                            OLS   Adj. R-squared:                  0.812\n",
      "Method:                 Least Squares   F-statistic:                     48.46\n",
      "Date:                Mon, 30 Apr 2018   Prob (F-statistic):           3.89e-05\n",
      "Time:                        23:17:54   Log-Likelihood:                -75.369\n",
      "No. Observations:                  12   AIC:                             154.7\n",
      "Df Residuals:                      10   BIC:                             155.7\n",
      "Df Model:                           1                                         \n",
      "Covariance Type:            nonrobust                                         \n",
      "==============================================================================\n",
      "                 coef    std err          t      P>|t|      [0.025      0.975]\n",
      "------------------------------------------------------------------------------\n",
      "const       -107.0571    128.673     -0.832      0.425    -393.759     179.645\n",
      "x1            40.7016      5.847      6.961      0.000      27.674      53.730\n",
      "==============================================================================\n",
      "Omnibus:                        1.129   Durbin-Watson:                   1.509\n",
      "Prob(Omnibus):                  0.569   Jarque-Bera (JB):                0.744\n",
      "Skew:                           0.204   Prob(JB):                        0.689\n",
      "Kurtosis:                       1.850   Cond. No.                         69.4\n",
      "==============================================================================\n",
      "\n",
      "Warnings:\n",
      "[1] Standard Errors assume that the covariance matrix of the errors is correctly specified.\n",
      "a 40.70161776241744 b -107.05709064244364\n",
      "correlation coefficient 0.9104563451851297\n"
     ]
    }
   ],
   "source": [
    "# StatsModels\n",
    "# 統計と計量経済学に特化。\n",
    "# icecreamの売上数と気温の相関関係を分析、ってところかな。\n",
    "# -*- coding: utf-8 -*-\n",
    "# リスト2-6  StatsModels を使って相関係数を計算するプログラム例\n",
    "import numpy as np\n",
    "import matplotlib.pyplot as plt\n",
    "import statsmodels.api as sm  # 回帰分析はstatsmodelsパッケージを利用する\n",
    "icecream = [[1,464],[2,397],[3,493],[4,617],[5,890],[6,883],\n",
    "       [7,1292],[8,1387],[9,843],[10,621],[11,459],[12,561]]\n",
    "temperature = [[1,10.6],[2,12.2],[3,14.9],[4,20.3],[5,25.2],\n",
    "       [6,26.3],[7,29.7],[8,31.6],[9,27.7],[10,22.6],[11,15.5],[12,13.8]]\n",
    "\n",
    "x = np.array([u[1] for u in temperature])\n",
    "y = np.array([u[1] for u in icecream])\n",
    "X = np.column_stack((np.repeat(1, x.size), x)) #np.repeat(a, b)はaがb個の配列を作る。column_stack(a, b)はaとbを結合する。\n",
    "model = sm.OLS(y, X) #最小二乗法っぽい。\n",
    "results = model.fit()\n",
    "print(results.summary())\n",
    "b, a = results.params\n",
    "print('a', a, 'b', b)\n",
    "print('correlation coefficient', np.corrcoef(x, y)[0,1])"
   ]
  }
 ],
 "metadata": {
  "kernelspec": {
   "display_name": "Python 3",
   "language": "python",
   "name": "python3"
  },
  "language_info": {
   "codemirror_mode": {
    "name": "ipython",
    "version": 3
   },
   "file_extension": ".py",
   "mimetype": "text/x-python",
   "name": "python",
   "nbconvert_exporter": "python",
   "pygments_lexer": "ipython3",
   "version": "3.6.1"
  }
 },
 "nbformat": 4,
 "nbformat_minor": 2
}
