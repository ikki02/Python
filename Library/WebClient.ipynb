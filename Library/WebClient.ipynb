{
 "cells": [
  {
   "cell_type": "markdown",
   "metadata": {},
   "source": [
    "## Contents\n",
    "- Pythonによるウェブサーバー（http.server）\n",
    "- requests\n",
    "- urllib\n",
    "- 【重要】【flask】WSGI(Web Server Gateway Interface)とウェブフレームワーク\n",
    " - テンプレート\n",
    " - GET引数の設定"
   ]
  },
  {
   "cell_type": "markdown",
   "metadata": {},
   "source": [
    "---"
   ]
  },
  {
   "cell_type": "markdown",
   "metadata": {},
   "source": [
    "## Pythonによるウェブサーバー\n",
    "たった1行のPythonコードを書くだけで、単純なウェブサーバーを実行できる。  \n",
    "```$ python -m http.server```"
   ]
  },
  {
   "cell_type": "markdown",
   "metadata": {},
   "source": [
    "実行結果は以下のイメージ。  \n",
    "\n",
    "```Serving HTTP on 0.0.0.0 port 8000 ...```  #ポート番号は任意。9999とかでもOK。\n",
    "\n",
    "ブラウザに以下のアドレスを指定すると、カレントディレクトリのファイル一覧が表示されダウンロードできるようになる。  \n",
    "http://localhost:8000/\n",
    "\n",
    "操作すると、次のようなアクセスログ行を表示する。  \n",
    "```127.0.0.1 - - [23/Oct/2018 22:05:43] \"GET /Python/README.md HTTP/1.1\" 200 -```\n",
    "- 127.0.0.1  \n",
    "クライアントのIPアドレス。  \n",
    "- ひとつめの-  \n",
    "リモートユーザー名（分かった場合）  \n",
    "- ふたつめの-  \n",
    "ログインユーザー名（必須とされている場合）  \n",
    "- [23/Oct/2018 22:05:43]  \n",
    "アクセス日時\n",
    "- \"GET /Python/README.md HTTP/1.1\"  \n",
    "ウェブサーバーに送られたコマンド\n",
    "- 200  \n",
    "ウェブサーバーが返してきたHTTPステータスコード"
   ]
  },
  {
   "cell_type": "markdown",
   "metadata": {},
   "source": [
    "#### ステータスコード一覧\n",
    "\n",
    "|ステータスコード|カテゴリ|補足|\n",
    "|:-:|:-:|:-:|\n",
    "|1xx|情報|サーバーは要求を受け取ったが、クライアントに対して知らせるべき追加情報がある|\n",
    "|2xx|成功|要求は正しく機能した。|\n",
    "|3xx|リダイレクト|リソースが移動しているため、応答はクライアントに対して新しいURLを返す|\n",
    "|4xx|クライアントエラー|クライアントサイドに問題がある。404は有名。|\n",
    "|5xx|サーバーエラー|汎用のエラーコード。502はウェブサーバーとバックエンドアプリケーションサーバーとの間の接続に問題がある。|"
   ]
  },
  {
   "cell_type": "markdown",
   "metadata": {},
   "source": [
    "---"
   ]
  },
  {
   "cell_type": "markdown",
   "metadata": {},
   "source": [
    "## requests\n",
    "urllibより人気のモジュール。  \n",
    "標準ライブラリではないため、入っていなければpipする必要がある。"
   ]
  },
  {
   "cell_type": "code",
   "execution_count": 6,
   "metadata": {},
   "outputs": [
    {
     "data": {
      "text/plain": [
       "<Response [200]>"
      ]
     },
     "execution_count": 6,
     "metadata": {},
     "output_type": "execute_result"
    }
   ],
   "source": [
    "# クライアントサーバーHTTPの詳細を管理するライブラリ\n",
    "import requests\n",
    "url = 'https://raw.githubusercontent.com/koki0702/introducing-python/master/dummy_api/fortune_cookie_random1.txt'\n",
    "resp = requests.get(url)\n",
    "resp　　#HTTPステータスコードの表示"
   ]
  },
  {
   "cell_type": "code",
   "execution_count": 7,
   "metadata": {},
   "outputs": [
    {
     "name": "stdout",
     "output_type": "stream",
     "text": [
      "You will be surprised by a loud noise.\\r\\n\\n[codehappy] http://iheartquotes.com/fortune/show/20447\n",
      "\n"
     ]
    }
   ],
   "source": [
    "# ウェブページのデータ読み出し： .text\n",
    "print(resp.text)"
   ]
  },
  {
   "cell_type": "markdown",
   "metadata": {},
   "source": [
    "---"
   ]
  },
  {
   "cell_type": "markdown",
   "metadata": {},
   "source": [
    "## urllib"
   ]
  },
  {
   "cell_type": "code",
   "execution_count": 1,
   "metadata": {},
   "outputs": [
    {
     "name": "stdout",
     "output_type": "stream",
     "text": [
      "<http.client.HTTPResponse object at 0x10ac2b518>\n"
     ]
    }
   ],
   "source": [
    "# クライアントサーバーHTTPの詳細を管理するライブラリ：urllib\n",
    "import urllib.request as ur\n",
    "url = 'https://raw.githubusercontent.com/koki0702/introducing-python/master/dummy_api/fortune_cookie_random1.txt'\n",
    "conn = ur.urlopen(url)  #connは慣習的にいくつかのメソッドをもつHTTPResponseオブジェクト\n",
    "print(conn)"
   ]
  },
  {
   "cell_type": "code",
   "execution_count": 2,
   "metadata": {},
   "outputs": [
    {
     "name": "stdout",
     "output_type": "stream",
     "text": [
      "b'You will be surprised by a loud noise.\\\\r\\\\n\\\\n[codehappy] http://iheartquotes.com/fortune/show/20447\\n'\n"
     ]
    }
   ],
   "source": [
    "# ウェブページのデータ読み出し： .read()\n",
    "data = conn.read()\n",
    "print(data)"
   ]
  },
  {
   "cell_type": "code",
   "execution_count": 3,
   "metadata": {},
   "outputs": [
    {
     "name": "stdout",
     "output_type": "stream",
     "text": [
      "200\n"
     ]
    }
   ],
   "source": [
    "# HTTPステータスコードの表示： .status\n",
    "print(conn.status)"
   ]
  },
  {
   "cell_type": "code",
   "execution_count": 4,
   "metadata": {},
   "outputs": [
    {
     "name": "stdout",
     "output_type": "stream",
     "text": [
      "text/plain; charset=utf-8\n"
     ]
    }
   ],
   "source": [
    "# HTTP応答ヘッダーの抽出： .getheader()\n",
    "print(conn.getheader('Content-Type'))"
   ]
  },
  {
   "cell_type": "code",
   "execution_count": 5,
   "metadata": {},
   "outputs": [
    {
     "name": "stdout",
     "output_type": "stream",
     "text": [
      "Content-Security-Policy default-src 'none'; style-src 'unsafe-inline'; sandbox\n",
      "Strict-Transport-Security max-age=31536000\n",
      "X-Content-Type-Options nosniff\n",
      "X-Frame-Options deny\n",
      "X-XSS-Protection 1; mode=block\n",
      "ETag \"eea0cb5830ed402a56a2ac014699cc3fb9478f36\"\n",
      "Content-Type text/plain; charset=utf-8\n",
      "Cache-Control max-age=300\n",
      "X-Geo-Block-List \n",
      "X-GitHub-Request-Id 7CBE:24C4:2C1CBE9:2EA4965:5BCF1665\n",
      "Content-Length 99\n",
      "Accept-Ranges bytes\n",
      "Date Tue, 23 Oct 2018 12:39:02 GMT\n",
      "Via 1.1 varnish\n",
      "Connection close\n",
      "X-Served-By cache-itm18830-ITM\n",
      "X-Cache MISS\n",
      "X-Cache-Hits 0\n",
      "X-Timer S1540298342.924761,VS0,VE245\n",
      "Vary Authorization,Accept-Encoding\n",
      "Access-Control-Allow-Origin *\n",
      "X-Fastly-Request-ID e26ee9331985cc2042eed71302136b08bd414b9d\n",
      "Expires Tue, 23 Oct 2018 12:44:02 GMT\n",
      "Source-Age 0\n"
     ]
    }
   ],
   "source": [
    "# HTTP応答ヘッダーの一覧取得方法： .getheaders()\n",
    "for key, value in conn.getheaders():\n",
    "    print(key, value)"
   ]
  },
  {
   "cell_type": "markdown",
   "metadata": {},
   "source": [
    "---"
   ]
  },
  {
   "cell_type": "markdown",
   "metadata": {},
   "source": [
    "## WSGI(Web Server Gateway Interface)\n",
    "Pythonウェブアプリケーションとウェブサーバーの間の普遍的なAPI\n",
    "\n",
    "## ウェブフレームワーク\n",
    "クライアントからの要求とサーバーの応答を処理する。\n",
    "- ルーティング：URLを解釈し、対応するサーバーファイルかサーバーのPythonコードを見つける。\n",
    "- テンプレート：サーバーサイドのデータをHTMLページに流し込む。\n",
    "- 認証と権限付与：ユーザー名、パスワード、パーミッションを処理する。\n",
    "- セッション：ユーザーがウェブサイトに来ている間、一時的なデータストレージを維持管理する。\n",
    "\n",
    "有名なフレームワークは以下の通り。\n",
    "1. bottle\n",
    "1. flask\n",
    "1. Django  \n",
    "\n",
    "以下では、flaskを少し紹介する。(pipでインストールしておこう。)  \n",
    "なお、はじめてflaskを動かした際は、あまりローカルを汚したくなかったため、Cloud Shellのウェブプレビュー機能を活用した。"
   ]
  },
  {
   "cell_type": "code",
   "execution_count": null,
   "metadata": {},
   "outputs": [],
   "source": [
    "from flask import Flask\n",
    "\n",
    "app = Flask(__name__, static_folder='.', static_url_path='')\n",
    "\n",
    "# ホームディレクトリのindex.htmlを読み込んで表示する。\n",
    "@app.route('/')\n",
    "def home():\n",
    "    return app.send_static_file('index.html')\n",
    "\n",
    "# URL指定するとき、/echo/のあとに何か入力すると、それを返す。\n",
    "@app.route('/echo/<thing>')\n",
    "def echo(thing):\n",
    "    return thing\n",
    "\n",
    "# port番号9999で開ける。例⇨http://127.0.0.0:9999/\n",
    "# debug=Trueにすることで、自動再ロードが有効になる。\n",
    "# 本番稼働するウェブサーバーでdebug=Trueを設定してはならない。\n",
    "app.run(port=9999, debug=True)"
   ]
  },
  {
   "cell_type": "code",
   "execution_count": null,
   "metadata": {},
   "outputs": [],
   "source": [
    "# テンプレートシステムを使う。\n",
    "# templates/以下のhtmlファイルを対象に、urlリクエストの値を渡せる。\n",
    "# 本実行ファイルの階層からみて　./templates/flask.html　となるように作らないと、うまくurlリクエストの値を渡せないので注意。\n",
    "from flask import Flask, render_template\n",
    "\n",
    "app = Flask(__name__)\n",
    "\n",
    "# ホームディレクトリのindex.htmlを読み込んで表示する。\n",
    "@app.route('/')\n",
    "def home():\n",
    "    return app.send_static_file('index.html')\n",
    "\n",
    "# URL指定するとき、/echo/のあとに何か入力すると、それをthing変数としてflask2.htmlに渡す。\n",
    "@app.route('/echo/<thing>')\n",
    "def echo(thing):\n",
    "    return render_template('flask2.html', thing=thing)\n",
    "\n",
    "# port番号9999で開ける。例⇨http://127.0.0.0:9999/\n",
    "# debug=Trueにすることで、自動再ロードが有効になる。\n",
    "# 本番稼働するウェブサーバーでdebug=Trueを設定してはならない。\n",
    "app.run(port=9999, debug=True)"
   ]
  },
  {
   "cell_type": "code",
   "execution_count": null,
   "metadata": {},
   "outputs": [],
   "source": [
    "# テンプレート機能を使って複数の値を利用する。: URLパスの一部という形での引数渡し\n",
    "from flask import Flask, render_template\n",
    "\n",
    "app = Flask(__name__)\n",
    "\n",
    "# ホームディレクトリのindex.htmlを読み込んで表示する。\n",
    "@app.route('/')\n",
    "def home():\n",
    "    return app.send_static_file('index.html')\n",
    "\n",
    "# URL指定するとき、/echo/のあとに何か入力すると、それをthing変数またはplace変数としてflask3.htmlに渡す。\n",
    "@app.route('/echo/<thing>/<place>')\n",
    "def echo(thing, place):\n",
    "    return render_template('flask3.html', thing=thing, place=place)\n",
    "\n",
    "# port番号9999で開ける。例⇨http://127.0.0.0:9999/\n",
    "# debug=Trueにすることで、自動再ロードが有効になる。\n",
    "# 本番稼働するウェブサーバーでdebug=Trueを設定してはならない。\n",
    "app.run(port=9999, debug=True)"
   ]
  },
  {
   "cell_type": "code",
   "execution_count": null,
   "metadata": {},
   "outputs": [],
   "source": [
    "# テンプレート機能を使って複数の値を利用する。: GET引数として渡す方法\n",
    "from flask import Flask, render_template, request\n",
    "\n",
    "app = Flask(__name__)\n",
    "\n",
    "# ホームディレクトリのindex.htmlを読み込んで表示する。\n",
    "@app.route('/')\n",
    "def home():\n",
    "    return app.send_static_file('index.html')\n",
    "\n",
    "# URL指定するとき、/echo/のあとにクエリを入力して、flask3.htmlに渡す。\n",
    "# URL書き方例⇨http://localhost:9999//echo?thing=Gorgo&place=Wilmerding\n",
    "@app.route('/echo/')\n",
    "def echo():\n",
    "    thing = request.args.get('thing')\n",
    "    place = request.args.get('place')\n",
    "    return render_template('flask3.html', thing=thing, place=place)\n",
    "\n",
    "# port番号9999で開ける。例⇨http://127.0.0.0:9999/\n",
    "# debug=Trueにすることで、自動再ロードが有効になる。\n",
    "# 本番稼働するウェブサーバーでdebug=Trueを設定してはならない。\n",
    "app.run(port=9999, debug=True)"
   ]
  }
 ],
 "metadata": {
  "kernelspec": {
   "display_name": "Python 3",
   "language": "python",
   "name": "python3"
  },
  "language_info": {
   "codemirror_mode": {
    "name": "ipython",
    "version": 3
   },
   "file_extension": ".py",
   "mimetype": "text/x-python",
   "name": "python",
   "nbconvert_exporter": "python",
   "pygments_lexer": "ipython3",
   "version": "3.6.5"
  }
 },
 "nbformat": 4,
 "nbformat_minor": 2
}
