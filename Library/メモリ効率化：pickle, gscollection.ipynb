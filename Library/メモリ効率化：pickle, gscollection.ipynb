{
 "cells": [
  {
   "cell_type": "markdown",
   "metadata": {},
   "source": [
    "### pickle  \n",
    "pickleとは、pythonオブジェクトをファイルに保存するライブラリである。  \n",
    "- 直列化(selialize)：pythonオブジェクトをバイト列などに変換した上で状態を維持すること。\n",
    "- 非直列化（deserialize）:バイト列などに変換されたオブジェクトを元の形に復元すること。  \n",
    "pickleでは変換方法としてバイナリデータとして保存する方法とテキストデータとして保存する方法がある  \n",
    "オススメはバイナリ保存。  \n",
    "詳しくは、以下参照。  \n",
    "[pickleの参考URL](https://www.sejuku.net/blog/31480)\n"
   ]
  },
  {
   "cell_type": "code",
   "execution_count": null,
   "metadata": {
    "collapsed": true
   },
   "outputs": [],
   "source": [
    "# データフレームを保存する。\n",
    "import pickle\n",
    "import pandas\n",
    "\n",
    "# pandas.dfにはpickleできるメソッドがある。\n",
    "df.to_pickle('data.pkl')"
   ]
  },
  {
   "cell_type": "code",
   "execution_count": null,
   "metadata": {
    "collapsed": true
   },
   "outputs": [],
   "source": [
    "# 保存したpythonオブジェクトは、メモリを解放すると、ベストプラクティス。\n",
    "# gc(gscollectionの略)というライブラリでメモリを手動で開放できる。\n",
    "import pickle\n",
    "import gc\n",
    "import pandas\n",
    "\n",
    "# pythonオブジェクトを保存した直後、いらないオブジェクト（ここでは、dfのカラム）をdelする。\n",
    "# 最後にgc.collect();を書けばOK\n",
    "df.to_pickle('data.pkl')\n",
    "del matrix\n",
    "del cache\n",
    "del group\n",
    "del items\n",
    "del shops\n",
    "del cats\n",
    "del train\n",
    "gc.collect();"
   ]
  },
  {
   "cell_type": "code",
   "execution_count": null,
   "metadata": {
    "collapsed": true
   },
   "outputs": [],
   "source": [
    "# 保存したpklファイルからpythonオブジェクトを作り直す。\n",
    "data = pd.read_pickle('data.pkl')"
   ]
  },
  {
   "cell_type": "code",
   "execution_count": null,
   "metadata": {
    "collapsed": true
   },
   "outputs": [],
   "source": [
    "# (参考)効率良く書くならこんな感じ：バイナリ保存\n",
    "pickle.dump(Y_pred, open('xgb_train.pickle', 'wb'))\n",
    "pickle.dump(Y_test, open('xgb_test.pickle', 'wb'))"
   ]
  },
  {
   "cell_type": "code",
   "execution_count": null,
   "metadata": {
    "collapsed": true
   },
   "outputs": [],
   "source": [
    "# （参考）綺麗に書くならこんな感じ：バイナリ保存\n",
    "import pickle\n",
    " \n",
    "sample_list = [1,2,3]\n",
    "f = open(‘sample.binaryfile’,’wb’)  #wbで指定することでバイナリ保存\n",
    "pickle.dump(sample_list,f)\n",
    "f.close"
   ]
  },
  {
   "cell_type": "code",
   "execution_count": null,
   "metadata": {
    "collapsed": true
   },
   "outputs": [],
   "source": [
    "# （参考）綺麗に書くならこんな感じ：バイナリ読出し\n",
    "import pickle\n",
    " \n",
    "f = open(‘sample.binaryfile’,’rb’)\n",
    " \n",
    "pickle.load(f)"
   ]
  }
 ],
 "metadata": {
  "kernelspec": {
   "display_name": "Python 3",
   "language": "python",
   "name": "python3"
  },
  "language_info": {
   "codemirror_mode": {
    "name": "ipython",
    "version": 3
   },
   "file_extension": ".py",
   "mimetype": "text/x-python",
   "name": "python",
   "nbconvert_exporter": "python",
   "pygments_lexer": "ipython3",
   "version": "3.6.1"
  }
 },
 "nbformat": 4,
 "nbformat_minor": 2
}
