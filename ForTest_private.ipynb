{
 "cells": [
  {
   "cell_type": "markdown",
   "metadata": {},
   "source": [
    "### 学ぶこと（フォント設定）\n",
    "- Windowsのフォントディレクトリパスを取得する\n",
    "- フォントを設定する方法：fontproperties\n",
    "- フォントを一括で設定する方法：rcParams\n",
    "- fontpropertiesおよびrcParamsのデフォルト設定をする方法：matplotlibrcファイル\n"
   ]
  },
  {
   "cell_type": "code",
   "execution_count": 5,
   "metadata": {
    "scrolled": true
   },
   "outputs": [
    {
     "data": {
      "text/plain": [
       "'C:\\\\WINDOWS\\\\Fonts'"
      ]
     },
     "execution_count": 5,
     "metadata": {},
     "output_type": "execute_result"
    }
   ],
   "source": [
    "# フォントディレクトリのパスを取得する方法（Windows）\n",
    "from matplotlib import pyplot as plt, font_manager\n",
    "font_manager.win32FontDirectory()"
   ]
  },
  {
   "cell_type": "code",
   "execution_count": 12,
   "metadata": {},
   "outputs": [
    {
     "data": {
      "image/png": "[encoded data removed]",
      "text/plain": [
       "<matplotlib.figure.Figure at 0x246b782bba8>"
      ]
     },
     "metadata": {},
     "output_type": "display_data"
    }
   ],
   "source": [
    "# フォントを設定する。①フォントパスを指定する。②図を作っていく際にfontpropertiesを指定する。\n",
    "import os\n",
    "import numpy as np\n",
    "\n",
    "# フォントキャッシュを初期化する。\n",
    "font_manager._rebuild()\n",
    "\n",
    "font_dir = font_manager.win32FontDirectory()\n",
    "\n",
    "# フォントディレクトリにフォントを追加する。\n",
    "font_path = os.path.join(font_dir, 'SourceHanCodeJP-Regular.otf')\n",
    "# フォントとサイズを指定する。\n",
    "font = font_manager.FontProperties(fname=font_path, size=14)\n",
    "\n",
    "# 以下、試しに日本語を図に出力させてみる。\n",
    "np.random.seed(0)\n",
    "x = range(5)\n",
    "\n",
    "y = 10 + 5 * np.random.randn(5)\n",
    "fig = plt.figure()\n",
    "ax = fig.add_subplot(111)\n",
    "\n",
    "ax.set_title('日本語を指定したタイトル', fontproperties=font)　#図のタイトルを表示する。\n",
    "ax.bar(x,y)\n",
    "ax.set_xlabel('x軸', fontproperties=font) #x軸ラベルを表示する。\n",
    "\n",
    "plt.show()"
   ]
  },
  {
   "cell_type": "code",
   "execution_count": 14,
   "metadata": {},
   "outputs": [
    {
     "data": {
      "image/png": "[encoded data removed]",
      "text/plain": [
       "<matplotlib.figure.Figure at 0x246b7863390>"
      ]
     },
     "metadata": {},
     "output_type": "display_data"
    }
   ],
   "source": [
    "# フォントを一括で設定する方法:rcParams\n",
    "from matplotlib import rcParams\n",
    "\n",
    "rcParams['font.sans-serif'] = 'Source Han Code JP'\n",
    "rcParams['font.weight'] = 'regular'\n",
    "rcParams['axes.titlesize'] = 15\n",
    "rcParams['ytick.labelsize'] = 12\n",
    "rcParams['xtick.labelsize'] = 12\n",
    "\n",
    "# 以下、試しに日本語を図に出力させてみる。\n",
    "np.random.seed(0)\n",
    "x = range(5)\n",
    "\n",
    "y = 10 + 5 * np.random.randn(5)\n",
    "fig = plt.figure()\n",
    "ax = fig.add_subplot(111)\n",
    "\n",
    "ax.set_title('日本語を指定したタイトル') #fontpropertiesの引数を入力しなくてよい。\n",
    "ax.bar(x,y)\n",
    "ax.set_xlabel('x軸') #fontpropertiesの引数を入力しなくてよい。\n",
    "\n",
    "plt.show()"
   ]
  },
  {
   "cell_type": "code",
   "execution_count": 4,
   "metadata": {},
   "outputs": [
    {
     "data": {
      "text/plain": [
       "'D:\\\\0.programs\\\\Anaconda3\\\\lib\\\\site-packages\\\\matplotlib\\\\mpl-data\\\\matplotlibrc'"
      ]
     },
     "execution_count": 4,
     "metadata": {},
     "output_type": "execute_result"
    }
   ],
   "source": [
    "# Matplotlibの設定ファイルmatplotlibrcのパスの出し方\n",
    "# matplotlibrcの208行目付近を編集することで、fontpropertiesやrcParamsの指定なしにフォントを設定できる。\n",
    "from matplotlib import matplotlib_fname\n",
    "matplotlib_fname()"
   ]
  },
  {
   "cell_type": "code",
   "execution_count": 16,
   "metadata": {},
   "outputs": [
    {
     "data": {
      "text/plain": [
       "'matplotlibrc2'"
      ]
     },
     "execution_count": 16,
     "metadata": {},
     "output_type": "execute_result"
    }
   ],
   "source": [
    "# 設定ファイルのコピーの仕方\n",
    "import shutil\n",
    "from matplotlib import matplotlib_fname\n",
    "\n",
    "# カレントフォルダにファイルをコピーする。\n",
    "# shutil.copyfile(コピー元のファイルがあるパス, コピー名)\n",
    "shutil.copyfile(matplotlib_fname(), 'matplotlibrc2')\n"
   ]
  },
  {
   "cell_type": "markdown",
   "metadata": {},
   "source": [
    "### 学んだこと（Jupyter notebookの使い方）\n",
    "- Docstringの表示方法\n",
    "- ツールチップの表示方法\n",
    "- 補完機能：入力途中でtabを押す\n",
    "- "
   ]
  },
  {
   "cell_type": "code",
   "execution_count": 25,
   "metadata": {},
   "outputs": [],
   "source": [
    "# Docstringを表示する方法。関数だけでなく、モジュール、クラス、変数に対しても使える。\n",
    "import math\n",
    "math.sqrt?"
   ]
  },
  {
   "cell_type": "code",
   "execution_count": 16,
   "metadata": {},
   "outputs": [],
   "source": [
    "# ツールチップ（ヘルプ機能）；Shift + tab\n",
    "# 基本的には?と同じ機能である。\n",
    "from matplotlib import font_manager\n",
    "font_dir = font_manager.win32FontDirectory()\n",
    "font_dir2"
   ]
  },
  {
   "cell_type": "code",
   "execution_count": 1,
   "metadata": {},
   "outputs": [
    {
     "name": "stdout",
     "output_type": "stream",
     "text": [
      "ForStudying\n",
      "ForTest.ipynb\n",
      "Introducing Python 3\n",
      "Introduction_to_ml_with_python\n",
      "Lib\n",
      "NLP100Practices\n",
      "test1.py\n",
      "test2.py\n",
      "weather.py\n",
      "\n"
     ]
    }
   ],
   "source": [
    "import subprocess\n",
    "\n",
    "\n",
    "try:\n",
    "    command = subprocess.check_output('ls')\n",
    "except:\n",
    "    print('Error')\n",
    "\n",
    "print(command.decode('sjis'))"
   ]
  },
  {
   "cell_type": "code",
   "execution_count": 3,
   "metadata": {},
   "outputs": [
    {
     "name": "stdout",
     "output_type": "stream",
     "text": [
      "Error\n",
      "ForStudying\n",
      "ForTest.ipynb\n",
      "Introducing Python 3\n",
      "Introduction_to_ml_with_python\n",
      "Lib\n",
      "NLP100Practices\n",
      "test1.py\n",
      "test2.py\n",
      "weather.py\n",
      "\n"
     ]
    }
   ],
   "source": [
    "import subprocess\n",
    "\n",
    "\n",
    "try:\n",
    "    command = subprocess.check_output('cd ')\n",
    "except:\n",
    "    print('Error')\n",
    "\n",
    "print(command.decode('sjis'))"
   ]
  }
 ],
 "metadata": {
  "kernelspec": {
   "display_name": "Python 3",
   "language": "python",
   "name": "python3"
  },
  "language_info": {
   "codemirror_mode": {
    "name": "ipython",
    "version": 3
   },
   "file_extension": ".py",
   "mimetype": "text/x-python",
   "name": "python",
   "nbconvert_exporter": "python",
   "pygments_lexer": "ipython3",
   "version": "3.6.1"
  }
 },
 "nbformat": 4,
 "nbformat_minor": 2
}
