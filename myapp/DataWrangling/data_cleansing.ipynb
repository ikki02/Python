{
 "cells": [
  {
   "cell_type": "code",
   "execution_count": 166,
   "metadata": {
    "collapsed": true
   },
   "outputs": [
    {
     "name": "stderr",
     "output_type": "stream",
     "text": [
      "D:\\0.programs\\Anaconda3\\lib\\site-packages\\pandas\\core\\indexing.py:337: SettingWithCopyWarning: \n",
      "A value is trying to be set on a copy of a slice from a DataFrame.\n",
      "Try using .loc[row_indexer,col_indexer] = value instead\n",
      "\n",
      "See the caveats in the documentation: http://pandas.pydata.org/pandas-docs/stable/indexing.html#indexing-view-versus-copy\n",
      "  self.obj[key] = _infer_fill_value(value)\n",
      "D:\\0.programs\\Anaconda3\\lib\\site-packages\\pandas\\core\\indexing.py:517: SettingWithCopyWarning: \n",
      "A value is trying to be set on a copy of a slice from a DataFrame.\n",
      "Try using .loc[row_indexer,col_indexer] = value instead\n",
      "\n",
      "See the caveats in the documentation: http://pandas.pydata.org/pandas-docs/stable/indexing.html#indexing-view-versus-copy\n",
      "  self.obj[item] = s\n",
      "D:\\0.programs\\Anaconda3\\lib\\site-packages\\ipykernel_launcher.py:10: SettingWithCopyWarning: \n",
      "A value is trying to be set on a copy of a slice from a DataFrame\n",
      "\n",
      "See the caveats in the documentation: http://pandas.pydata.org/pandas-docs/stable/indexing.html#indexing-view-versus-copy\n",
      "  # Remove the CWD from sys.path while we load stuff.\n"
     ]
    }
   ],
   "source": [
    "import pandas as pd\n",
    "import numpy as np\n",
    "\n",
    "text_df = pd.read_csv('D:/1.programming/python/test/anime_split_genre2.csv', engine='python')\n",
    "\n",
    "text_df['text_merged'] = '活動内容:\\n' +text_df['活動内容'] + '設問:\\n' + text_df['設問'] + '内容:\\n' + text_df['内容']\n",
    "\n",
    "odf = text_df.iloc[0:1,:]\n",
    "odf.loc[0, 'text_fixed'] = np.nan\n",
    "odf.drop([0], inplace=True)"
   ]
  },
  {
   "cell_type": "code",
   "execution_count": 167,
   "metadata": {
    "collapsed": true
   },
   "outputs": [
    {
     "name": "stderr",
     "output_type": "stream",
     "text": [
      "D:\\0.programs\\Anaconda3\\lib\\site-packages\\pandas\\core\\indexing.py:337: SettingWithCopyWarning: \n",
      "A value is trying to be set on a copy of a slice from a DataFrame.\n",
      "Try using .loc[row_indexer,col_indexer] = value instead\n",
      "\n",
      "See the caveats in the documentation: http://pandas.pydata.org/pandas-docs/stable/indexing.html#indexing-view-versus-copy\n",
      "  self.obj[key] = _infer_fill_value(value)\n",
      "D:\\0.programs\\Anaconda3\\lib\\site-packages\\pandas\\core\\indexing.py:517: SettingWithCopyWarning: \n",
      "A value is trying to be set on a copy of a slice from a DataFrame.\n",
      "Try using .loc[row_indexer,col_indexer] = value instead\n",
      "\n",
      "See the caveats in the documentation: http://pandas.pydata.org/pandas-docs/stable/indexing.html#indexing-view-versus-copy\n",
      "  self.obj[item] = s\n"
     ]
    }
   ],
   "source": [
    "# 複数の特定のカラムで重複するデータを集約して、加工する。\n",
    "\n",
    "deal = text_df.groupby(['店CIF', '活動日']) #活動日は接触履歴番号がいいかも。\n",
    "\n",
    "for [CIF, 活動日], sub_df in deal:\n",
    "    sub_df.reset_index(drop = True, inplace=True)\n",
    "    text_merged = sub_df['text_merged'].tolist()\n",
    "    merged = ' '.join(text_merged)\n",
    "    sub_df.loc[0, 'text_fixed'] = merged\n",
    "    odf = pd.concat([odf,sub_df])\n",
    "\n",
    "odf = odf[odf.index == 0]\n",
    "odf.drop(['text_merged'], axis=1, inplace=True)\n",
    "odf.reset_index(drop=True, inplace=True)"
   ]
  },
  {
   "cell_type": "code",
   "execution_count": 168,
   "metadata": {
    "collapsed": true
   },
   "outputs": [],
   "source": [
    "csv_merge = pd.read_csv('D:/1.programming/python/test/anime_split_genre3.csv', engine='python')\n",
    "csv_merge = csv_merge.loc[:, ['name', 'flag']]\n",
    "csvM = pd.merge(odf, csv_merge, how='left', left_on='店CIF', right_on='name')\n",
    "csvM.drop(['name'], axis=1, inplace=True) #後はflag列の値のうち、日付で1を0にする処理を加えれば完璧。"
   ]
  },
  {
   "cell_type": "code",
   "execution_count": null,
   "metadata": {
    "collapsed": true
   },
   "outputs": [],
   "source": [
    "# 参考\n",
    "PROJECT = nf_df[nf_df['note'].str.contains('(c|C),.*00,.*').fillna(False)]\n",
    "temp = PROJECT['note'].str.split(',', expand=True)\n",
    "temp.drop([0,1,3], axis=1, inplace=True)\n",
    "temp.rename(columns={2: '案件名2'}, inplace=True)\n",
    "KP_nf_df = pd.merge(KP_nf_df, temp, how='left', left_on='index', right_index=True)"
   ]
  }
 ],
 "metadata": {
  "kernelspec": {
   "display_name": "Python 3",
   "language": "python",
   "name": "python3"
  },
  "language_info": {
   "codemirror_mode": {
    "name": "ipython",
    "version": 3
   },
   "file_extension": ".py",
   "mimetype": "text/x-python",
   "name": "python",
   "nbconvert_exporter": "python",
   "pygments_lexer": "ipython3",
   "version": "3.6.1"
  }
 },
 "nbformat": 4,
 "nbformat_minor": 2
}
